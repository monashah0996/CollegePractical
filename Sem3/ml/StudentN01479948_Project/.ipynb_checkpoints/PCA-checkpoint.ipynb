{
 "cells": [
  {
   "cell_type": "code",
   "execution_count": 41,
   "id": "0f1554bb",
   "metadata": {},
   "outputs": [],
   "source": [
    "import matplotlib.pyplot as plt\n",
    "import pandas as pd\n",
    "import numpy as np\n",
    "import seaborn as sns\n",
    "import warnings\n",
    "\n",
    "warnings.filterwarnings('ignore')\n",
    "%matplotlib inline"
   ]
  },
  {
   "cell_type": "code",
   "execution_count": 42,
   "id": "bdebffbe",
   "metadata": {},
   "outputs": [],
   "source": [
    "data = 'dev_in.csv'\n",
    "\n",
    "df = pd.read_csv(data, header=None, sep=',')"
   ]
  },
  {
   "cell_type": "code",
   "execution_count": 43,
   "id": "b713f77f",
   "metadata": {},
   "outputs": [],
   "source": [
    "header_row = 0\n",
    "df.columns = df.iloc[header_row]\n",
    "df = df.tail(-1)"
   ]
  },
  {
   "cell_type": "code",
   "execution_count": 44,
   "id": "9429f0f4",
   "metadata": {},
   "outputs": [],
   "source": [
    "col_list = list(df.columns)\n",
    "x, y = col_list.index('climate'), col_list.index('gfs_total_clouds_cover_low_next')\n",
    "col_list[y], col_list[x] = col_list[x], col_list[y]\n",
    "df = df[col_list]"
   ]
  },
  {
   "cell_type": "code",
   "execution_count": 45,
   "id": "318c5603",
   "metadata": {},
   "outputs": [
    {
     "data": {
      "text/html": [
       "<div>\n",
       "<style scoped>\n",
       "    .dataframe tbody tr th:only-of-type {\n",
       "        vertical-align: middle;\n",
       "    }\n",
       "\n",
       "    .dataframe tbody tr th {\n",
       "        vertical-align: top;\n",
       "    }\n",
       "\n",
       "    .dataframe thead th {\n",
       "        text-align: right;\n",
       "    }\n",
       "</style>\n",
       "<table border=\"1\" class=\"dataframe\">\n",
       "  <thead>\n",
       "    <tr style=\"text-align: right;\">\n",
       "      <th></th>\n",
       "      <th>fact_time</th>\n",
       "      <th>fact_latitude</th>\n",
       "      <th>fact_longitude</th>\n",
       "      <th>fact_temperature</th>\n",
       "      <th>fact_cwsm_class</th>\n",
       "      <th>gfs_total_clouds_cover_low_next</th>\n",
       "      <th>topography_bathymetry</th>\n",
       "      <th>sun_elevation</th>\n",
       "      <th>climate_temperature</th>\n",
       "      <th>climate_pressure</th>\n",
       "      <th>...</th>\n",
       "      <th>cmc_0_1_66_0_grad</th>\n",
       "      <th>cmc_0_1_66_0_next</th>\n",
       "      <th>cmc_0_1_67_0_grad</th>\n",
       "      <th>cmc_0_1_67_0_next</th>\n",
       "      <th>cmc_0_1_68_0_grad</th>\n",
       "      <th>cmc_0_1_68_0_next</th>\n",
       "      <th>gfs_2m_dewpoint_grad</th>\n",
       "      <th>gfs_2m_dewpoint_next</th>\n",
       "      <th>gfs_total_clouds_cover_low_grad</th>\n",
       "      <th>climate</th>\n",
       "    </tr>\n",
       "  </thead>\n",
       "  <tbody>\n",
       "    <tr>\n",
       "      <th>1</th>\n",
       "      <td>1539162000</td>\n",
       "      <td>-40.35</td>\n",
       "      <td>-9.88</td>\n",
       "      <td>11.0</td>\n",
       "      <td>10</td>\n",
       "      <td>2.0</td>\n",
       "      <td>-843.0</td>\n",
       "      <td>31.78248998153052</td>\n",
       "      <td>10.07071428571432</td>\n",
       "      <td>765.6312283014016</td>\n",
       "      <td>...</td>\n",
       "      <td>0.0</td>\n",
       "      <td>0.0</td>\n",
       "      <td>0.0</td>\n",
       "      <td>0.0</td>\n",
       "      <td>0.0</td>\n",
       "      <td>0.0</td>\n",
       "      <td>0.505035400390625</td>\n",
       "      <td>2.6475769042968977</td>\n",
       "      <td>2.0</td>\n",
       "      <td>tropical</td>\n",
       "    </tr>\n",
       "    <tr>\n",
       "      <th>2</th>\n",
       "      <td>1545006600</td>\n",
       "      <td>53.421299</td>\n",
       "      <td>-6.270070000000004</td>\n",
       "      <td>4.0</td>\n",
       "      <td>10</td>\n",
       "      <td>0.0</td>\n",
       "      <td>67.0</td>\n",
       "      <td>-59.69152145231892</td>\n",
       "      <td>7.005000000000032</td>\n",
       "      <td>752.8976150963312</td>\n",
       "      <td>...</td>\n",
       "      <td>0.0</td>\n",
       "      <td>0.0</td>\n",
       "      <td>0.0</td>\n",
       "      <td>0.0</td>\n",
       "      <td>0.0</td>\n",
       "      <td>0.0</td>\n",
       "      <td>-0.4000244140625</td>\n",
       "      <td>1.2499938964843975</td>\n",
       "      <td>0.0</td>\n",
       "      <td>mild temperate</td>\n",
       "    </tr>\n",
       "    <tr>\n",
       "      <th>3</th>\n",
       "      <td>1540094400</td>\n",
       "      <td>-19.7577</td>\n",
       "      <td>63.361</td>\n",
       "      <td>26.0</td>\n",
       "      <td>10</td>\n",
       "      <td>1.0</td>\n",
       "      <td>6.0</td>\n",
       "      <td>35.250889085578635</td>\n",
       "      <td>23.32714285714289</td>\n",
       "      <td>763.1150163007375</td>\n",
       "      <td>...</td>\n",
       "      <td>0.0</td>\n",
       "      <td>0.0</td>\n",
       "      <td>0.0</td>\n",
       "      <td>0.0</td>\n",
       "      <td>0.0</td>\n",
       "      <td>0.0</td>\n",
       "      <td>0.100006103515625</td>\n",
       "      <td>21.05001220703128</td>\n",
       "      <td>-1.0</td>\n",
       "      <td>dry</td>\n",
       "    </tr>\n",
       "    <tr>\n",
       "      <th>4</th>\n",
       "      <td>1552611600</td>\n",
       "      <td>35.245899</td>\n",
       "      <td>47.009201</td>\n",
       "      <td>5.0</td>\n",
       "      <td>10</td>\n",
       "      <td>81.0</td>\n",
       "      <td>1390.0</td>\n",
       "      <td>-23.755614985282445</td>\n",
       "      <td>3.1092857142857446</td>\n",
       "      <td>609.4193331163475</td>\n",
       "      <td>...</td>\n",
       "      <td>1.69672</td>\n",
       "      <td>5.1653</td>\n",
       "      <td>0.0</td>\n",
       "      <td>4.8750000000000006e-05</td>\n",
       "      <td>0.0</td>\n",
       "      <td>0.0</td>\n",
       "      <td>-1.5</td>\n",
       "      <td>-0.3499816894531022</td>\n",
       "      <td>-12.0</td>\n",
       "      <td>mild temperate</td>\n",
       "    </tr>\n",
       "    <tr>\n",
       "      <th>5</th>\n",
       "      <td>1545631200</td>\n",
       "      <td>26.633333</td>\n",
       "      <td>118.15</td>\n",
       "      <td>14.0</td>\n",
       "      <td>20</td>\n",
       "      <td>83.0</td>\n",
       "      <td>210.0</td>\n",
       "      <td>33.04043798862271</td>\n",
       "      <td>12.172142857142884</td>\n",
       "      <td>734.6780370001287</td>\n",
       "      <td>...</td>\n",
       "      <td>0.0</td>\n",
       "      <td>0.0</td>\n",
       "      <td>0.0</td>\n",
       "      <td>0.0</td>\n",
       "      <td>0.0</td>\n",
       "      <td>0.0</td>\n",
       "      <td>0.102081298828125</td>\n",
       "      <td>11.513879394531273</td>\n",
       "      <td>-15.0</td>\n",
       "      <td>mild temperate</td>\n",
       "    </tr>\n",
       "  </tbody>\n",
       "</table>\n",
       "<p>5 rows × 129 columns</p>\n",
       "</div>"
      ],
      "text/plain": [
       "0   fact_time fact_latitude      fact_longitude fact_temperature  \\\n",
       "1  1539162000        -40.35               -9.88             11.0   \n",
       "2  1545006600     53.421299  -6.270070000000004              4.0   \n",
       "3  1540094400      -19.7577              63.361             26.0   \n",
       "4  1552611600     35.245899           47.009201              5.0   \n",
       "5  1545631200     26.633333              118.15             14.0   \n",
       "\n",
       "0 fact_cwsm_class gfs_total_clouds_cover_low_next topography_bathymetry  \\\n",
       "1              10                             2.0                -843.0   \n",
       "2              10                             0.0                  67.0   \n",
       "3              10                             1.0                   6.0   \n",
       "4              10                            81.0                1390.0   \n",
       "5              20                            83.0                 210.0   \n",
       "\n",
       "0        sun_elevation climate_temperature   climate_pressure  ...  \\\n",
       "1    31.78248998153052   10.07071428571432  765.6312283014016  ...   \n",
       "2   -59.69152145231892   7.005000000000032  752.8976150963312  ...   \n",
       "3   35.250889085578635   23.32714285714289  763.1150163007375  ...   \n",
       "4  -23.755614985282445  3.1092857142857446  609.4193331163475  ...   \n",
       "5    33.04043798862271  12.172142857142884  734.6780370001287  ...   \n",
       "\n",
       "0 cmc_0_1_66_0_grad cmc_0_1_66_0_next cmc_0_1_67_0_grad  \\\n",
       "1               0.0               0.0               0.0   \n",
       "2               0.0               0.0               0.0   \n",
       "3               0.0               0.0               0.0   \n",
       "4           1.69672            5.1653               0.0   \n",
       "5               0.0               0.0               0.0   \n",
       "\n",
       "0       cmc_0_1_67_0_next cmc_0_1_68_0_grad cmc_0_1_68_0_next  \\\n",
       "1                     0.0               0.0               0.0   \n",
       "2                     0.0               0.0               0.0   \n",
       "3                     0.0               0.0               0.0   \n",
       "4  4.8750000000000006e-05               0.0               0.0   \n",
       "5                     0.0               0.0               0.0   \n",
       "\n",
       "0 gfs_2m_dewpoint_grad gfs_2m_dewpoint_next gfs_total_clouds_cover_low_grad  \\\n",
       "1    0.505035400390625   2.6475769042968977                             2.0   \n",
       "2     -0.4000244140625   1.2499938964843975                             0.0   \n",
       "3    0.100006103515625    21.05001220703128                            -1.0   \n",
       "4                 -1.5  -0.3499816894531022                           -12.0   \n",
       "5    0.102081298828125   11.513879394531273                           -15.0   \n",
       "\n",
       "0         climate  \n",
       "1        tropical  \n",
       "2  mild temperate  \n",
       "3             dry  \n",
       "4  mild temperate  \n",
       "5  mild temperate  \n",
       "\n",
       "[5 rows x 129 columns]"
      ]
     },
     "execution_count": 45,
     "metadata": {},
     "output_type": "execute_result"
    }
   ],
   "source": [
    "df.head()"
   ]
  },
  {
   "cell_type": "code",
   "execution_count": 46,
   "id": "76f248d2",
   "metadata": {},
   "outputs": [],
   "source": [
    "# display categorical variables\n",
    "\n",
    "categorical = [col for col in df.columns if df[col].dtypes == 'O']"
   ]
  },
  {
   "cell_type": "code",
   "execution_count": 47,
   "id": "c4a5ed37",
   "metadata": {},
   "outputs": [
    {
     "data": {
      "text/plain": [
       "0\n",
       "fact_time                          0.00000\n",
       "fact_latitude                      0.00000\n",
       "fact_longitude                     0.00000\n",
       "fact_temperature                   0.00000\n",
       "fact_cwsm_class                    0.00000\n",
       "                                    ...   \n",
       "cmc_0_1_68_0_next                  0.00062\n",
       "gfs_2m_dewpoint_grad               0.00014\n",
       "gfs_2m_dewpoint_next               0.00008\n",
       "gfs_total_clouds_cover_low_grad    0.00014\n",
       "climate                            0.00000\n",
       "Length: 129, dtype: float64"
      ]
     },
     "execution_count": 47,
     "metadata": {},
     "output_type": "execute_result"
    }
   ],
   "source": [
    "# print percentage of missing values in the categorical variables in data\n",
    "\n",
    "df[categorical].isnull().mean()"
   ]
  },
  {
   "cell_type": "code",
   "execution_count": 48,
   "id": "7a1031ff",
   "metadata": {},
   "outputs": [
    {
     "name": "stdout",
     "output_type": "stream",
     "text": [
      "gfs_total_clouds_cover_low_next 8e-05\n",
      "cmc_0_0_0_1000 0.00062\n",
      "cmc_0_0_0_2_grad 0.00062\n",
      "cmc_0_0_0_2_interpolated 0.00062\n",
      "cmc_0_0_0_2_next 0.00062\n",
      "cmc_0_0_0_2 0.00062\n",
      "cmc_0_0_0_500 0.00062\n",
      "cmc_0_0_0_700 0.00062\n",
      "cmc_0_0_0_850 0.00062\n",
      "cmc_0_0_0_925 0.00062\n",
      "cmc_0_0_6_2 0.00062\n",
      "cmc_0_0_7_1000 0.00062\n",
      "cmc_0_0_7_2 0.00062\n",
      "cmc_0_0_7_500 0.00062\n",
      "cmc_0_0_7_700 0.00062\n",
      "cmc_0_0_7_850 0.00062\n",
      "cmc_0_0_7_925 0.00062\n",
      "cmc_0_1_0_0 0.00062\n",
      "cmc_0_1_11_0 0.00062\n",
      "cmc_0_1_65_0 0.00062\n",
      "cmc_0_1_66_0 0.00062\n",
      "cmc_0_1_67_0 0.00062\n",
      "cmc_0_1_68_0 0.00062\n",
      "cmc_0_1_7_0 0.00062\n",
      "cmc_0_2_2_10 0.00062\n",
      "cmc_0_2_2_1000 0.00062\n",
      "cmc_0_2_2_500 0.00062\n",
      "cmc_0_2_2_700 0.00062\n",
      "cmc_0_2_2_850 0.00062\n",
      "cmc_0_2_2_925 0.00062\n",
      "cmc_0_2_3_10 0.00062\n",
      "cmc_0_2_3_1000 0.00062\n",
      "cmc_0_2_3_500 0.00062\n",
      "cmc_0_2_3_700 0.00062\n",
      "cmc_0_2_3_850 0.00062\n",
      "cmc_0_2_3_925 0.00062\n",
      "cmc_0_3_0_0 0.00062\n",
      "cmc_0_3_0_0_next 0.00062\n",
      "cmc_0_3_1_0 0.00062\n",
      "cmc_0_3_5_1000 0.00062\n",
      "cmc_0_3_5_500 0.00062\n",
      "cmc_0_3_5_700 0.00062\n",
      "cmc_0_3_5_850 0.00062\n",
      "cmc_0_3_5_925 0.00062\n",
      "cmc_0_6_1_0 0.00062\n",
      "cmc_horizon_h 0.00062\n",
      "cmc_precipitations 0.00062\n",
      "cmc_timedelta_s 0.00062\n",
      "gfs_2m_dewpoint 8e-05\n",
      "gfs_a_vorticity 8e-05\n",
      "gfs_cloudness 8e-05\n",
      "gfs_clouds_sea 8e-05\n",
      "gfs_horizon_h 2e-05\n",
      "gfs_humidity 8e-05\n",
      "gfs_precipitable_water 8e-05\n",
      "gfs_precipitations 8e-05\n",
      "gfs_pressure 8e-05\n",
      "gfs_r_velocity 8e-05\n",
      "gfs_temperature_10000 2e-05\n",
      "gfs_temperature_15000 2e-05\n",
      "gfs_temperature_20000 2e-05\n",
      "gfs_temperature_25000 2e-05\n",
      "gfs_temperature_30000 2e-05\n",
      "gfs_temperature_35000 2e-05\n",
      "gfs_temperature_40000 2e-05\n",
      "gfs_temperature_45000 2e-05\n",
      "gfs_temperature_5000 2e-05\n",
      "gfs_temperature_50000 2e-05\n",
      "gfs_temperature_55000 2e-05\n",
      "gfs_temperature_60000 2e-05\n",
      "gfs_temperature_65000 2e-05\n",
      "gfs_temperature_7000 2e-05\n",
      "gfs_temperature_70000 2e-05\n",
      "gfs_temperature_75000 2e-05\n",
      "gfs_temperature_80000 2e-05\n",
      "gfs_temperature_85000 2e-05\n",
      "gfs_temperature_90000 2e-05\n",
      "gfs_temperature_92500 2e-05\n",
      "gfs_temperature_95000 2e-05\n",
      "gfs_temperature_97500 8e-05\n",
      "gfs_temperature_sea 8e-05\n",
      "gfs_temperature_sea_grad 0.00014\n",
      "gfs_temperature_sea_interpolated 0.00014\n",
      "gfs_temperature_sea_next 8e-05\n",
      "gfs_timedelta_s 2e-05\n",
      "gfs_total_clouds_cover_high 8e-05\n",
      "gfs_total_clouds_cover_low 8e-05\n",
      "gfs_total_clouds_cover_middle 8e-05\n",
      "gfs_u_wind 8e-05\n",
      "gfs_v_wind 8e-05\n",
      "gfs_wind_speed 8e-05\n",
      "wrf_t2 0.05196\n",
      "wrf_t2_next 0.05196\n",
      "wrf_psfc 0.05196\n",
      "wrf_rh2 0.05196\n",
      "wrf_wind_u 0.05196\n",
      "wrf_wind_v 0.05196\n",
      "wrf_rain 0.05196\n",
      "wrf_snow 0.05196\n",
      "wrf_graupel 0.05196\n",
      "wrf_hail 0.05196\n",
      "wrf_t2_interpolated 0.05196\n",
      "wrf_t2_grad 0.05196\n",
      "cmc_0_1_65_0_grad 0.00062\n",
      "cmc_0_1_65_0_next 0.00062\n",
      "cmc_0_1_66_0_grad 0.00062\n",
      "cmc_0_1_66_0_next 0.00062\n",
      "cmc_0_1_67_0_grad 0.00062\n",
      "cmc_0_1_67_0_next 0.00062\n",
      "cmc_0_1_68_0_grad 0.00062\n",
      "cmc_0_1_68_0_next 0.00062\n",
      "gfs_2m_dewpoint_grad 0.00014\n",
      "gfs_2m_dewpoint_next 8e-05\n",
      "gfs_total_clouds_cover_low_grad 0.00014\n"
     ]
    }
   ],
   "source": [
    "# print categorical variables with missing data\n",
    "\n",
    "for col in categorical:\n",
    "    if df[col].isnull().mean()>0:\n",
    "        print(col, (df[col].isnull().mean()))"
   ]
  },
  {
   "cell_type": "code",
   "execution_count": 49,
   "id": "7a98f326",
   "metadata": {},
   "outputs": [],
   "source": [
    "# impute missing categorical variables with most frequent value\n",
    "\n",
    "for col in categorical:\n",
    "    if df[col].isnull().mean()>0:\n",
    "        df[col].fillna(df[col].mode()[0], inplace=True) "
   ]
  },
  {
   "cell_type": "code",
   "execution_count": 50,
   "id": "d792047b",
   "metadata": {},
   "outputs": [
    {
     "data": {
      "text/html": [
       "<div>\n",
       "<style scoped>\n",
       "    .dataframe tbody tr th:only-of-type {\n",
       "        vertical-align: middle;\n",
       "    }\n",
       "\n",
       "    .dataframe tbody tr th {\n",
       "        vertical-align: top;\n",
       "    }\n",
       "\n",
       "    .dataframe thead th {\n",
       "        text-align: right;\n",
       "    }\n",
       "</style>\n",
       "<table border=\"1\" class=\"dataframe\">\n",
       "  <thead>\n",
       "    <tr style=\"text-align: right;\">\n",
       "      <th></th>\n",
       "      <th>fact_time</th>\n",
       "      <th>fact_latitude</th>\n",
       "      <th>fact_longitude</th>\n",
       "      <th>fact_temperature</th>\n",
       "      <th>fact_cwsm_class</th>\n",
       "      <th>gfs_total_clouds_cover_low_next</th>\n",
       "      <th>topography_bathymetry</th>\n",
       "      <th>sun_elevation</th>\n",
       "      <th>climate_temperature</th>\n",
       "      <th>climate_pressure</th>\n",
       "      <th>...</th>\n",
       "      <th>cmc_0_1_66_0_grad</th>\n",
       "      <th>cmc_0_1_66_0_next</th>\n",
       "      <th>cmc_0_1_67_0_grad</th>\n",
       "      <th>cmc_0_1_67_0_next</th>\n",
       "      <th>cmc_0_1_68_0_grad</th>\n",
       "      <th>cmc_0_1_68_0_next</th>\n",
       "      <th>gfs_2m_dewpoint_grad</th>\n",
       "      <th>gfs_2m_dewpoint_next</th>\n",
       "      <th>gfs_total_clouds_cover_low_grad</th>\n",
       "      <th>climate</th>\n",
       "    </tr>\n",
       "  </thead>\n",
       "  <tbody>\n",
       "    <tr>\n",
       "      <th>1</th>\n",
       "      <td>1539162000</td>\n",
       "      <td>-40.35</td>\n",
       "      <td>-9.88</td>\n",
       "      <td>11.0</td>\n",
       "      <td>10</td>\n",
       "      <td>2.0</td>\n",
       "      <td>-843.0</td>\n",
       "      <td>31.78248998153052</td>\n",
       "      <td>10.07071428571432</td>\n",
       "      <td>765.6312283014016</td>\n",
       "      <td>...</td>\n",
       "      <td>0.0</td>\n",
       "      <td>0.0</td>\n",
       "      <td>0.0</td>\n",
       "      <td>0.0</td>\n",
       "      <td>0.0</td>\n",
       "      <td>0.0</td>\n",
       "      <td>0.505035400390625</td>\n",
       "      <td>2.6475769042968977</td>\n",
       "      <td>2.0</td>\n",
       "      <td>tropical</td>\n",
       "    </tr>\n",
       "    <tr>\n",
       "      <th>2</th>\n",
       "      <td>1545006600</td>\n",
       "      <td>53.421299</td>\n",
       "      <td>-6.270070000000004</td>\n",
       "      <td>4.0</td>\n",
       "      <td>10</td>\n",
       "      <td>0.0</td>\n",
       "      <td>67.0</td>\n",
       "      <td>-59.69152145231892</td>\n",
       "      <td>7.005000000000032</td>\n",
       "      <td>752.8976150963312</td>\n",
       "      <td>...</td>\n",
       "      <td>0.0</td>\n",
       "      <td>0.0</td>\n",
       "      <td>0.0</td>\n",
       "      <td>0.0</td>\n",
       "      <td>0.0</td>\n",
       "      <td>0.0</td>\n",
       "      <td>-0.4000244140625</td>\n",
       "      <td>1.2499938964843975</td>\n",
       "      <td>0.0</td>\n",
       "      <td>mild temperate</td>\n",
       "    </tr>\n",
       "    <tr>\n",
       "      <th>3</th>\n",
       "      <td>1540094400</td>\n",
       "      <td>-19.7577</td>\n",
       "      <td>63.361</td>\n",
       "      <td>26.0</td>\n",
       "      <td>10</td>\n",
       "      <td>1.0</td>\n",
       "      <td>6.0</td>\n",
       "      <td>35.250889085578635</td>\n",
       "      <td>23.32714285714289</td>\n",
       "      <td>763.1150163007375</td>\n",
       "      <td>...</td>\n",
       "      <td>0.0</td>\n",
       "      <td>0.0</td>\n",
       "      <td>0.0</td>\n",
       "      <td>0.0</td>\n",
       "      <td>0.0</td>\n",
       "      <td>0.0</td>\n",
       "      <td>0.100006103515625</td>\n",
       "      <td>21.05001220703128</td>\n",
       "      <td>-1.0</td>\n",
       "      <td>dry</td>\n",
       "    </tr>\n",
       "    <tr>\n",
       "      <th>4</th>\n",
       "      <td>1552611600</td>\n",
       "      <td>35.245899</td>\n",
       "      <td>47.009201</td>\n",
       "      <td>5.0</td>\n",
       "      <td>10</td>\n",
       "      <td>81.0</td>\n",
       "      <td>1390.0</td>\n",
       "      <td>-23.755614985282445</td>\n",
       "      <td>3.1092857142857446</td>\n",
       "      <td>609.4193331163475</td>\n",
       "      <td>...</td>\n",
       "      <td>1.69672</td>\n",
       "      <td>5.1653</td>\n",
       "      <td>0.0</td>\n",
       "      <td>4.8750000000000006e-05</td>\n",
       "      <td>0.0</td>\n",
       "      <td>0.0</td>\n",
       "      <td>-1.5</td>\n",
       "      <td>-0.3499816894531022</td>\n",
       "      <td>-12.0</td>\n",
       "      <td>mild temperate</td>\n",
       "    </tr>\n",
       "    <tr>\n",
       "      <th>5</th>\n",
       "      <td>1545631200</td>\n",
       "      <td>26.633333</td>\n",
       "      <td>118.15</td>\n",
       "      <td>14.0</td>\n",
       "      <td>20</td>\n",
       "      <td>83.0</td>\n",
       "      <td>210.0</td>\n",
       "      <td>33.04043798862271</td>\n",
       "      <td>12.172142857142884</td>\n",
       "      <td>734.6780370001287</td>\n",
       "      <td>...</td>\n",
       "      <td>0.0</td>\n",
       "      <td>0.0</td>\n",
       "      <td>0.0</td>\n",
       "      <td>0.0</td>\n",
       "      <td>0.0</td>\n",
       "      <td>0.0</td>\n",
       "      <td>0.102081298828125</td>\n",
       "      <td>11.513879394531273</td>\n",
       "      <td>-15.0</td>\n",
       "      <td>mild temperate</td>\n",
       "    </tr>\n",
       "  </tbody>\n",
       "</table>\n",
       "<p>5 rows × 129 columns</p>\n",
       "</div>"
      ],
      "text/plain": [
       "0   fact_time fact_latitude      fact_longitude fact_temperature  \\\n",
       "1  1539162000        -40.35               -9.88             11.0   \n",
       "2  1545006600     53.421299  -6.270070000000004              4.0   \n",
       "3  1540094400      -19.7577              63.361             26.0   \n",
       "4  1552611600     35.245899           47.009201              5.0   \n",
       "5  1545631200     26.633333              118.15             14.0   \n",
       "\n",
       "0 fact_cwsm_class gfs_total_clouds_cover_low_next topography_bathymetry  \\\n",
       "1              10                             2.0                -843.0   \n",
       "2              10                             0.0                  67.0   \n",
       "3              10                             1.0                   6.0   \n",
       "4              10                            81.0                1390.0   \n",
       "5              20                            83.0                 210.0   \n",
       "\n",
       "0        sun_elevation climate_temperature   climate_pressure  ...  \\\n",
       "1    31.78248998153052   10.07071428571432  765.6312283014016  ...   \n",
       "2   -59.69152145231892   7.005000000000032  752.8976150963312  ...   \n",
       "3   35.250889085578635   23.32714285714289  763.1150163007375  ...   \n",
       "4  -23.755614985282445  3.1092857142857446  609.4193331163475  ...   \n",
       "5    33.04043798862271  12.172142857142884  734.6780370001287  ...   \n",
       "\n",
       "0 cmc_0_1_66_0_grad cmc_0_1_66_0_next cmc_0_1_67_0_grad  \\\n",
       "1               0.0               0.0               0.0   \n",
       "2               0.0               0.0               0.0   \n",
       "3               0.0               0.0               0.0   \n",
       "4           1.69672            5.1653               0.0   \n",
       "5               0.0               0.0               0.0   \n",
       "\n",
       "0       cmc_0_1_67_0_next cmc_0_1_68_0_grad cmc_0_1_68_0_next  \\\n",
       "1                     0.0               0.0               0.0   \n",
       "2                     0.0               0.0               0.0   \n",
       "3                     0.0               0.0               0.0   \n",
       "4  4.8750000000000006e-05               0.0               0.0   \n",
       "5                     0.0               0.0               0.0   \n",
       "\n",
       "0 gfs_2m_dewpoint_grad gfs_2m_dewpoint_next gfs_total_clouds_cover_low_grad  \\\n",
       "1    0.505035400390625   2.6475769042968977                             2.0   \n",
       "2     -0.4000244140625   1.2499938964843975                             0.0   \n",
       "3    0.100006103515625    21.05001220703128                            -1.0   \n",
       "4                 -1.5  -0.3499816894531022                           -12.0   \n",
       "5    0.102081298828125   11.513879394531273                           -15.0   \n",
       "\n",
       "0         climate  \n",
       "1        tropical  \n",
       "2  mild temperate  \n",
       "3             dry  \n",
       "4  mild temperate  \n",
       "5  mild temperate  \n",
       "\n",
       "[5 rows x 129 columns]"
      ]
     },
     "execution_count": 50,
     "metadata": {},
     "output_type": "execute_result"
    }
   ],
   "source": [
    "df.head()"
   ]
  },
  {
   "cell_type": "code",
   "execution_count": 51,
   "id": "93c4beff",
   "metadata": {},
   "outputs": [
    {
     "name": "stdout",
     "output_type": "stream",
     "text": [
      "[[-1.11199218e+00 -3.02933899e+00  1.21828898e-01 ...  3.34224642e-01\n",
      "  -5.29164272e-01  1.13339810e-01]\n",
      " [-4.33027006e-02  1.17273658e+00  1.68343655e-01 ... -2.77716735e-01\n",
      "  -6.68758896e-01  1.70576815e-03]\n",
      " [-9.41502147e-01 -2.10655769e+00  1.06555559e+00 ...  6.03707137e-02\n",
      "   1.30892407e+00 -5.41112525e-02]\n",
      " ...\n",
      " [ 1.53482725e+00  4.67741406e-01 -1.31567247e+00 ... -1.69613647e+00\n",
      "  -3.69110239e-01 -1.78443889e+00]\n",
      " [ 6.65975352e-01 -5.81851556e-06  2.81502852e-01 ... -1.66210810e-01\n",
      "  -1.38143341e+00  1.70576815e-03]\n",
      " [-5.15309843e-02 -1.37511271e+00 -7.81396930e-01 ... -3.45313591e-01\n",
      "   9.69322870e-01 -5.41112525e-02]]\n"
     ]
    }
   ],
   "source": [
    "from sklearn.preprocessing import StandardScaler\n",
    "features = df.columns[:128]\n",
    "# Separating out the features\n",
    "x = df.loc[:, features].values\n",
    "# Separating out the target\n",
    "y = df.loc[:,['climate']].values\n",
    "# Standardizing the features\n",
    "z = StandardScaler().fit_transform(x)\n",
    "print(z)"
   ]
  },
  {
   "cell_type": "code",
   "execution_count": 52,
   "id": "22380c3d",
   "metadata": {},
   "outputs": [],
   "source": [
    "from sklearn.decomposition import PCA\n",
    "pca = PCA(n_components=2)\n",
    "principalComponents = pca.fit_transform(z)\n",
    "principalDf = pd.DataFrame(data = principalComponents\n",
    " , columns = ['principal component 1', 'principal component 2'])"
   ]
  },
  {
   "cell_type": "code",
   "execution_count": 53,
   "id": "514f7d56",
   "metadata": {},
   "outputs": [
    {
     "name": "stdout",
     "output_type": "stream",
     "text": [
      "       principal component 1  principal component 2\n",
      "0                   5.176758               2.385765\n",
      "1                   9.088324               3.095371\n",
      "2                  -5.393927               1.805197\n",
      "3                   6.047748               2.343940\n",
      "4                  -1.332808               2.250952\n",
      "...                      ...                    ...\n",
      "49995              11.649454               4.350900\n",
      "49996              -5.185409              -3.579199\n",
      "49997               4.297280               4.069540\n",
      "49998               0.363631              -4.430721\n",
      "49999              -7.010120               0.873486\n",
      "\n",
      "[50000 rows x 2 columns]\n"
     ]
    }
   ],
   "source": [
    "print(principalDf)"
   ]
  },
  {
   "cell_type": "code",
   "execution_count": 54,
   "id": "c4541782",
   "metadata": {},
   "outputs": [
    {
     "data": {
      "text/plain": [
       "(50000, 2)"
      ]
     },
     "execution_count": 54,
     "metadata": {},
     "output_type": "execute_result"
    }
   ],
   "source": [
    "principalDf.shape"
   ]
  },
  {
   "cell_type": "code",
   "execution_count": 55,
   "id": "51f64b6c",
   "metadata": {},
   "outputs": [
    {
     "data": {
      "text/plain": [
       "(50000, 1)"
      ]
     },
     "execution_count": 55,
     "metadata": {},
     "output_type": "execute_result"
    }
   ],
   "source": [
    "df[['climate']].shape"
   ]
  },
  {
   "cell_type": "code",
   "execution_count": 57,
   "id": "46fe32af",
   "metadata": {},
   "outputs": [],
   "source": [
    "df.index = df.index-1"
   ]
  },
  {
   "cell_type": "code",
   "execution_count": 58,
   "id": "e6bbd2b0",
   "metadata": {},
   "outputs": [
    {
     "name": "stdout",
     "output_type": "stream",
     "text": [
      "       principal component 1  principal component 2         climate\n",
      "0                   5.176758               2.385765        tropical\n",
      "1                   9.088324               3.095371  mild temperate\n",
      "2                  -5.393927               1.805197             dry\n",
      "3                   6.047748               2.343940  mild temperate\n",
      "4                  -1.332808               2.250952  mild temperate\n",
      "...                      ...                    ...             ...\n",
      "49995              11.649454               4.350900  mild temperate\n",
      "49996              -5.185409              -3.579199  mild temperate\n",
      "49997               4.297280               4.069540  mild temperate\n",
      "49998               0.363631              -4.430721             dry\n",
      "49999              -7.010120               0.873486             dry\n",
      "\n",
      "[50000 rows x 3 columns]\n"
     ]
    }
   ],
   "source": [
    "finalDf = pd.concat([principalDf, df[['climate']]], axis = 1)\n",
    "print(finalDf)"
   ]
  },
  {
   "cell_type": "code",
   "execution_count": 59,
   "id": "8a1f2f97",
   "metadata": {},
   "outputs": [
    {
     "data": {
      "image/png": "[encoded data removed]",
      "text/plain": [
       "<Figure size 800x800 with 1 Axes>"
      ]
     },
     "metadata": {},
     "output_type": "display_data"
    }
   ],
   "source": [
    "import matplotlib.pyplot as plt\n",
    "fig = plt.figure(figsize = (8,8))\n",
    "ax = fig.add_subplot(1,1,1) \n",
    "ax.set_xlabel('Principal Component 1', fontsize = 15)\n",
    "ax.set_ylabel('Principal Component 2', fontsize = 15)\n",
    "ax.set_title('2 component PCA', fontsize = 20)\n",
    "targets = ['mild temperate', 'dry', 'tropical']\n",
    "colors = ['g', 'r', 'b']\n",
    "for target, color in zip(targets,colors):\n",
    " indicesToKeep = finalDf['climate'] == target\n",
    " ax.scatter(finalDf.loc[indicesToKeep, 'principal component 1']\n",
    " , finalDf.loc[indicesToKeep, 'principal component 2']\n",
    " , c = color\n",
    " , s = 50)\n",
    "ax.legend(targets)\n",
    "ax.grid()"
   ]
  },
  {
   "cell_type": "code",
   "execution_count": 60,
   "id": "70241b2a",
   "metadata": {},
   "outputs": [
    {
     "data": {
      "text/plain": [
       "array([0.29115048, 0.08187584])"
      ]
     },
     "execution_count": 60,
     "metadata": {},
     "output_type": "execute_result"
    }
   ],
   "source": [
    "pca.explained_variance_ratio_"
   ]
  },
  {
   "cell_type": "markdown",
   "id": "b5c95b4e",
   "metadata": {},
   "source": [
    "Again inplementing Naive Bayes"
   ]
  },
  {
   "cell_type": "code",
   "execution_count": 61,
   "id": "16fcd6b8",
   "metadata": {},
   "outputs": [],
   "source": [
    "# x is features y is result\n",
    "X = finalDf.drop(['climate'], axis=1)\n",
    "\n",
    "y = finalDf['climate']"
   ]
  },
  {
   "cell_type": "code",
   "execution_count": 62,
   "id": "73bf9643",
   "metadata": {},
   "outputs": [],
   "source": [
    "# split X and y into training and testing sets\n",
    "# here we hav put 70% train data and 30% test\n",
    "\n",
    "from sklearn.model_selection import train_test_split\n",
    "\n",
    "X_train, X_test, y_train, y_test = train_test_split(X, y, test_size = 0.3, random_state = 0)"
   ]
  },
  {
   "cell_type": "code",
   "execution_count": 63,
   "id": "232e9286",
   "metadata": {},
   "outputs": [
    {
     "data": {
      "text/plain": [
       "((35000, 2), (15000, 2))"
      ]
     },
     "execution_count": 63,
     "metadata": {},
     "output_type": "execute_result"
    }
   ],
   "source": [
    "# check the shape of X_train and X_test\n",
    "\n",
    "X_train.shape, X_test.shape"
   ]
  },
  {
   "cell_type": "code",
   "execution_count": 64,
   "id": "a4809fda",
   "metadata": {},
   "outputs": [
    {
     "data": {
      "text/html": [
       "<style>#sk-container-id-1 {color: black;background-color: white;}#sk-container-id-1 pre{padding: 0;}#sk-container-id-1 div.sk-toggleable {background-color: white;}#sk-container-id-1 label.sk-toggleable__label {cursor: pointer;display: block;width: 100%;margin-bottom: 0;padding: 0.3em;box-sizing: border-box;text-align: center;}#sk-container-id-1 label.sk-toggleable__label-arrow:before {content: \"▸\";float: left;margin-right: 0.25em;color: #696969;}#sk-container-id-1 label.sk-toggleable__label-arrow:hover:before {color: black;}#sk-container-id-1 div.sk-estimator:hover label.sk-toggleable__label-arrow:before {color: black;}#sk-container-id-1 div.sk-toggleable__content {max-height: 0;max-width: 0;overflow: hidden;text-align: left;background-color: #f0f8ff;}#sk-container-id-1 div.sk-toggleable__content pre {margin: 0.2em;color: black;border-radius: 0.25em;background-color: #f0f8ff;}#sk-container-id-1 input.sk-toggleable__control:checked~div.sk-toggleable__content {max-height: 200px;max-width: 100%;overflow: auto;}#sk-container-id-1 input.sk-toggleable__control:checked~label.sk-toggleable__label-arrow:before {content: \"▾\";}#sk-container-id-1 div.sk-estimator input.sk-toggleable__control:checked~label.sk-toggleable__label {background-color: #d4ebff;}#sk-container-id-1 div.sk-label input.sk-toggleable__control:checked~label.sk-toggleable__label {background-color: #d4ebff;}#sk-container-id-1 input.sk-hidden--visually {border: 0;clip: rect(1px 1px 1px 1px);clip: rect(1px, 1px, 1px, 1px);height: 1px;margin: -1px;overflow: hidden;padding: 0;position: absolute;width: 1px;}#sk-container-id-1 div.sk-estimator {font-family: monospace;background-color: #f0f8ff;border: 1px dotted black;border-radius: 0.25em;box-sizing: border-box;margin-bottom: 0.5em;}#sk-container-id-1 div.sk-estimator:hover {background-color: #d4ebff;}#sk-container-id-1 div.sk-parallel-item::after {content: \"\";width: 100%;border-bottom: 1px solid gray;flex-grow: 1;}#sk-container-id-1 div.sk-label:hover label.sk-toggleable__label {background-color: #d4ebff;}#sk-container-id-1 div.sk-serial::before {content: \"\";position: absolute;border-left: 1px solid gray;box-sizing: border-box;top: 0;bottom: 0;left: 50%;z-index: 0;}#sk-container-id-1 div.sk-serial {display: flex;flex-direction: column;align-items: center;background-color: white;padding-right: 0.2em;padding-left: 0.2em;position: relative;}#sk-container-id-1 div.sk-item {position: relative;z-index: 1;}#sk-container-id-1 div.sk-parallel {display: flex;align-items: stretch;justify-content: center;background-color: white;position: relative;}#sk-container-id-1 div.sk-item::before, #sk-container-id-1 div.sk-parallel-item::before {content: \"\";position: absolute;border-left: 1px solid gray;box-sizing: border-box;top: 0;bottom: 0;left: 50%;z-index: -1;}#sk-container-id-1 div.sk-parallel-item {display: flex;flex-direction: column;z-index: 1;position: relative;background-color: white;}#sk-container-id-1 div.sk-parallel-item:first-child::after {align-self: flex-end;width: 50%;}#sk-container-id-1 div.sk-parallel-item:last-child::after {align-self: flex-start;width: 50%;}#sk-container-id-1 div.sk-parallel-item:only-child::after {width: 0;}#sk-container-id-1 div.sk-dashed-wrapped {border: 1px dashed gray;margin: 0 0.4em 0.5em 0.4em;box-sizing: border-box;padding-bottom: 0.4em;background-color: white;}#sk-container-id-1 div.sk-label label {font-family: monospace;font-weight: bold;display: inline-block;line-height: 1.2em;}#sk-container-id-1 div.sk-label-container {text-align: center;}#sk-container-id-1 div.sk-container {/* jupyter's `normalize.less` sets `[hidden] { display: none; }` but bootstrap.min.css set `[hidden] { display: none !important; }` so we also need the `!important` here to be able to override the default hidden behavior on the sphinx rendered scikit-learn.org. See: https://github.com/scikit-learn/scikit-learn/issues/21755 */display: inline-block !important;position: relative;}#sk-container-id-1 div.sk-text-repr-fallback {display: none;}</style><div id=\"sk-container-id-1\" class=\"sk-top-container\"><div class=\"sk-text-repr-fallback\"><pre>GaussianNB()</pre><b>In a Jupyter environment, please rerun this cell to show the HTML representation or trust the notebook. <br />On GitHub, the HTML representation is unable to render, please try loading this page with nbviewer.org.</b></div><div class=\"sk-container\" hidden><div class=\"sk-item\"><div class=\"sk-estimator sk-toggleable\"><input class=\"sk-toggleable__control sk-hidden--visually\" id=\"sk-estimator-id-1\" type=\"checkbox\" checked><label for=\"sk-estimator-id-1\" class=\"sk-toggleable__label sk-toggleable__label-arrow\">GaussianNB</label><div class=\"sk-toggleable__content\"><pre>GaussianNB()</pre></div></div></div></div></div>"
      ],
      "text/plain": [
       "GaussianNB()"
      ]
     },
     "execution_count": 64,
     "metadata": {},
     "output_type": "execute_result"
    }
   ],
   "source": [
    "# train a Gaussian Naive Bayes classifier on the training set\n",
    "from sklearn.naive_bayes import GaussianNB\n",
    "\n",
    "\n",
    "# instantiate the model\n",
    "gnb = GaussianNB()\n",
    "\n",
    "\n",
    "# fit the model\n",
    "gnb.fit(X_train, y_train)"
   ]
  },
  {
   "cell_type": "code",
   "execution_count": 65,
   "id": "7d1332a2",
   "metadata": {},
   "outputs": [
    {
     "data": {
      "text/plain": [
       "array(['dry', 'mild temperate', 'mild temperate', ..., 'mild temperate',\n",
       "       'mild temperate', 'mild temperate'], dtype='<U14')"
      ]
     },
     "execution_count": 65,
     "metadata": {},
     "output_type": "execute_result"
    }
   ],
   "source": [
    "y_pred = gnb.predict(X_test)\n",
    "\n",
    "y_pred"
   ]
  },
  {
   "cell_type": "code",
   "execution_count": 66,
   "id": "02a026f0",
   "metadata": {},
   "outputs": [
    {
     "name": "stdout",
     "output_type": "stream",
     "text": [
      "Model accuracy score: 0.7221\n"
     ]
    }
   ],
   "source": [
    "from sklearn.metrics import accuracy_score\n",
    "\n",
    "print('Model accuracy score: {0:0.4f}'. format(accuracy_score(y_test, y_pred)))"
   ]
  },
  {
   "cell_type": "code",
   "execution_count": 67,
   "id": "3ebd9c2f",
   "metadata": {},
   "outputs": [
    {
     "data": {
      "text/plain": [
       "array(['mild temperate', 'mild temperate', 'mild temperate', ...,\n",
       "       'tropical', 'tropical', 'mild temperate'], dtype='<U14')"
      ]
     },
     "execution_count": 67,
     "metadata": {},
     "output_type": "execute_result"
    }
   ],
   "source": [
    "y_pred_train = gnb.predict(X_train)\n",
    "\n",
    "y_pred_train"
   ]
  },
  {
   "cell_type": "code",
   "execution_count": 68,
   "id": "be201fd1",
   "metadata": {},
   "outputs": [
    {
     "name": "stdout",
     "output_type": "stream",
     "text": [
      "Training-set accuracy score: 0.7186\n"
     ]
    }
   ],
   "source": [
    "print('Training-set accuracy score: {0:0.4f}'. format(accuracy_score(y_train, y_pred_train)))"
   ]
  },
  {
   "cell_type": "code",
   "execution_count": 69,
   "id": "a1ddd116",
   "metadata": {},
   "outputs": [
    {
     "name": "stdout",
     "output_type": "stream",
     "text": [
      "Training set accuracy: 71.8600\n",
      "Test set accuracy: 72.2067\n"
     ]
    }
   ],
   "source": [
    "# print the scores on training and test set\n",
    "\n",
    "print('Training set accuracy: {:.4f}'.format(gnb.score(X_train, y_train)*100))\n",
    "\n",
    "print('Test set accuracy: {:.4f}'.format(gnb.score(X_test, y_test)*100))\n"
   ]
  },
  {
   "cell_type": "markdown",
   "id": "f2fc7cfd",
   "metadata": {},
   "source": [
    "Implementing K means"
   ]
  },
  {
   "cell_type": "code",
   "execution_count": 72,
   "id": "30053590",
   "metadata": {},
   "outputs": [],
   "source": [
    "from sklearn.linear_model import LogisticRegression\n",
    "from sklearn.cluster import KMeans\n",
    "from sklearn.metrics import accuracy_score, roc_auc_score, roc_curve"
   ]
  },
  {
   "cell_type": "code",
   "execution_count": 73,
   "id": "cf7982da",
   "metadata": {},
   "outputs": [
    {
     "name": "stdout",
     "output_type": "stream",
     "text": [
      "[1 1 2 ... 1 0 2]\n"
     ]
    }
   ],
   "source": [
    "def cluster_1_label(alpha):\n",
    "    if alpha == 0:\n",
    "        return 'mild temperate'\n",
    "    if alpha == 1:\n",
    "        return 'dry'\n",
    "    if alpha == 2:\n",
    "        return 'tropical'\n",
    "\n",
    "kmeans_model_1 = KMeans(n_clusters=3,random_state=123)\n",
    "distances_1 = kmeans_model_1.fit_transform(finalDf.iloc[:,0:2])\n",
    "labels_1 = kmeans_model_1.labels_\n",
    "print (labels_1)\n",
    "finalDf['cluster_1']=labels_1\n",
    "finalDf['cluster_1_label']=finalDf['cluster_1'].apply(cluster_1_label)"
   ]
  },
  {
   "cell_type": "code",
   "execution_count": 75,
   "id": "39ad4e42",
   "metadata": {},
   "outputs": [
    {
     "name": "stdout",
     "output_type": "stream",
     "text": [
      "K=3 KMeans -> 43.8560%\n"
     ]
    }
   ],
   "source": [
    "# true results / total results for accuracy\n",
    "cluster_1_accuracy = len(finalDf[finalDf['climate']==finalDf['cluster_1_label']])/len(finalDf)\n",
    "print('K=3 KMeans -> {0:.4f}%'.format(cluster_1_accuracy*100))"
   ]
  },
  {
   "cell_type": "code",
   "execution_count": 76,
   "id": "d71fa690",
   "metadata": {},
   "outputs": [
    {
     "data": {
      "text/html": [
       "<div>\n",
       "<style scoped>\n",
       "    .dataframe tbody tr th:only-of-type {\n",
       "        vertical-align: middle;\n",
       "    }\n",
       "\n",
       "    .dataframe tbody tr th {\n",
       "        vertical-align: top;\n",
       "    }\n",
       "\n",
       "    .dataframe thead th {\n",
       "        text-align: right;\n",
       "    }\n",
       "</style>\n",
       "<table border=\"1\" class=\"dataframe\">\n",
       "  <thead>\n",
       "    <tr style=\"text-align: right;\">\n",
       "      <th>col_0</th>\n",
       "      <th>0</th>\n",
       "      <th>1</th>\n",
       "      <th>2</th>\n",
       "    </tr>\n",
       "    <tr>\n",
       "      <th>climate</th>\n",
       "      <th></th>\n",
       "      <th></th>\n",
       "      <th></th>\n",
       "    </tr>\n",
       "  </thead>\n",
       "  <tbody>\n",
       "    <tr>\n",
       "      <th>dry</th>\n",
       "      <td>4468</td>\n",
       "      <td>2496</td>\n",
       "      <td>3997</td>\n",
       "    </tr>\n",
       "    <tr>\n",
       "      <th>mild temperate</th>\n",
       "      <td>12875</td>\n",
       "      <td>11360</td>\n",
       "      <td>8163</td>\n",
       "    </tr>\n",
       "    <tr>\n",
       "      <th>tropical</th>\n",
       "      <td>60</td>\n",
       "      <td>24</td>\n",
       "      <td>6557</td>\n",
       "    </tr>\n",
       "  </tbody>\n",
       "</table>\n",
       "</div>"
      ],
      "text/plain": [
       "col_0               0      1     2\n",
       "climate                           \n",
       "dry              4468   2496  3997\n",
       "mild temperate  12875  11360  8163\n",
       "tropical           60     24  6557"
      ]
     },
     "execution_count": 76,
     "metadata": {},
     "output_type": "execute_result"
    }
   ],
   "source": [
    "# identifying actual result to cluster mapping -> \n",
    "# not satisfactory as the error values are near to correct once\n",
    "pd.crosstab(finalDf['climate'],labels_1)"
   ]
  },
  {
   "cell_type": "markdown",
   "id": "76c6f098",
   "metadata": {},
   "source": [
    "Implementing logistic regression"
   ]
  },
  {
   "cell_type": "code",
   "execution_count": 89,
   "id": "ee194adf",
   "metadata": {},
   "outputs": [
    {
     "data": {
      "text/html": [
       "<div>\n",
       "<style scoped>\n",
       "    .dataframe tbody tr th:only-of-type {\n",
       "        vertical-align: middle;\n",
       "    }\n",
       "\n",
       "    .dataframe tbody tr th {\n",
       "        vertical-align: top;\n",
       "    }\n",
       "\n",
       "    .dataframe thead th {\n",
       "        text-align: right;\n",
       "    }\n",
       "</style>\n",
       "<table border=\"1\" class=\"dataframe\">\n",
       "  <thead>\n",
       "    <tr style=\"text-align: right;\">\n",
       "      <th></th>\n",
       "      <th>principal component 1</th>\n",
       "      <th>principal component 2</th>\n",
       "      <th>climate</th>\n",
       "      <th>cluster_1</th>\n",
       "      <th>cluster_1_label</th>\n",
       "      <th>cluster_2</th>\n",
       "      <th>cluster_2_label</th>\n",
       "      <th>actual_climate_dry</th>\n",
       "      <th>actual_climate_mild temperate</th>\n",
       "      <th>actual_climate_tropical</th>\n",
       "    </tr>\n",
       "  </thead>\n",
       "  <tbody>\n",
       "    <tr>\n",
       "      <th>0</th>\n",
       "      <td>5.176758</td>\n",
       "      <td>2.385765</td>\n",
       "      <td>tropical</td>\n",
       "      <td>1</td>\n",
       "      <td>dry</td>\n",
       "      <td>3</td>\n",
       "      <td>tropical</td>\n",
       "      <td>0</td>\n",
       "      <td>0</td>\n",
       "      <td>1</td>\n",
       "    </tr>\n",
       "    <tr>\n",
       "      <th>1</th>\n",
       "      <td>9.088324</td>\n",
       "      <td>3.095371</td>\n",
       "      <td>mild temperate</td>\n",
       "      <td>1</td>\n",
       "      <td>dry</td>\n",
       "      <td>3</td>\n",
       "      <td>tropical</td>\n",
       "      <td>0</td>\n",
       "      <td>1</td>\n",
       "      <td>0</td>\n",
       "    </tr>\n",
       "    <tr>\n",
       "      <th>2</th>\n",
       "      <td>-5.393927</td>\n",
       "      <td>1.805197</td>\n",
       "      <td>dry</td>\n",
       "      <td>2</td>\n",
       "      <td>tropical</td>\n",
       "      <td>2</td>\n",
       "      <td>mild temperate</td>\n",
       "      <td>1</td>\n",
       "      <td>0</td>\n",
       "      <td>0</td>\n",
       "    </tr>\n",
       "    <tr>\n",
       "      <th>3</th>\n",
       "      <td>6.047748</td>\n",
       "      <td>2.343940</td>\n",
       "      <td>mild temperate</td>\n",
       "      <td>1</td>\n",
       "      <td>dry</td>\n",
       "      <td>3</td>\n",
       "      <td>tropical</td>\n",
       "      <td>0</td>\n",
       "      <td>1</td>\n",
       "      <td>0</td>\n",
       "    </tr>\n",
       "    <tr>\n",
       "      <th>4</th>\n",
       "      <td>-1.332808</td>\n",
       "      <td>2.250952</td>\n",
       "      <td>mild temperate</td>\n",
       "      <td>0</td>\n",
       "      <td>mild temperate</td>\n",
       "      <td>5</td>\n",
       "      <td>mild temperate</td>\n",
       "      <td>0</td>\n",
       "      <td>1</td>\n",
       "      <td>0</td>\n",
       "    </tr>\n",
       "  </tbody>\n",
       "</table>\n",
       "</div>"
      ],
      "text/plain": [
       "   principal component 1  principal component 2         climate  cluster_1  \\\n",
       "0               5.176758               2.385765        tropical          1   \n",
       "1               9.088324               3.095371  mild temperate          1   \n",
       "2              -5.393927               1.805197             dry          2   \n",
       "3               6.047748               2.343940  mild temperate          1   \n",
       "4              -1.332808               2.250952  mild temperate          0   \n",
       "\n",
       "  cluster_1_label  cluster_2 cluster_2_label  actual_climate_dry  \\\n",
       "0             dry          3        tropical                   0   \n",
       "1             dry          3        tropical                   0   \n",
       "2        tropical          2  mild temperate                   1   \n",
       "3             dry          3        tropical                   0   \n",
       "4  mild temperate          5  mild temperate                   0   \n",
       "\n",
       "   actual_climate_mild temperate  actual_climate_tropical  \n",
       "0                              0                        1  \n",
       "1                              1                        0  \n",
       "2                              0                        0  \n",
       "3                              1                        0  \n",
       "4                              1                        0  "
      ]
     },
     "execution_count": 89,
     "metadata": {},
     "output_type": "execute_result"
    }
   ],
   "source": [
    "# trying losgistic classification to check accuracy and for that \n",
    "# computing the actual_climate to determine through logistic classification\n",
    "dummies = pd.get_dummies(finalDf['climate'],prefix='actual_climate')\n",
    "finalDf = pd.concat([finalDf,dummies],axis=1)\n",
    "finalDf.head()"
   ]
  },
  {
   "cell_type": "code",
   "execution_count": 90,
   "id": "024773a1",
   "metadata": {},
   "outputs": [
    {
     "data": {
      "text/plain": [
       "{'mild temperate': LogisticRegression(),\n",
       " 'dry': LogisticRegression(),\n",
       " 'tropical': LogisticRegression()}"
      ]
     },
     "execution_count": 90,
     "metadata": {},
     "output_type": "execute_result"
    }
   ],
   "source": [
    "# dividing in 3 models as per the algorithm\n",
    "classifiers = ['mild temperate','dry','tropical']\n",
    "models = {}\n",
    "for mdl_idx in classifiers:\n",
    "    lgr_model = LogisticRegression()\n",
    "    lgr_model.fit(finalDf.iloc[:,0:2],finalDf['actual_climate_{}'.format(mdl_idx)])\n",
    "    models[mdl_idx]=lgr_model\n",
    "models"
   ]
  },
  {
   "cell_type": "code",
   "execution_count": 91,
   "id": "023aa9d4",
   "metadata": {},
   "outputs": [
    {
     "data": {
      "text/html": [
       "<div>\n",
       "<style scoped>\n",
       "    .dataframe tbody tr th:only-of-type {\n",
       "        vertical-align: middle;\n",
       "    }\n",
       "\n",
       "    .dataframe tbody tr th {\n",
       "        vertical-align: top;\n",
       "    }\n",
       "\n",
       "    .dataframe thead th {\n",
       "        text-align: right;\n",
       "    }\n",
       "</style>\n",
       "<table border=\"1\" class=\"dataframe\">\n",
       "  <thead>\n",
       "    <tr style=\"text-align: right;\">\n",
       "      <th></th>\n",
       "      <th>mild temperate</th>\n",
       "      <th>dry</th>\n",
       "      <th>tropical</th>\n",
       "    </tr>\n",
       "  </thead>\n",
       "  <tbody>\n",
       "    <tr>\n",
       "      <th>0</th>\n",
       "      <td>0.871512</td>\n",
       "      <td>0.095650</td>\n",
       "      <td>0.000278</td>\n",
       "    </tr>\n",
       "    <tr>\n",
       "      <th>1</th>\n",
       "      <td>0.930596</td>\n",
       "      <td>0.078460</td>\n",
       "      <td>0.000024</td>\n",
       "    </tr>\n",
       "    <tr>\n",
       "      <th>2</th>\n",
       "      <td>0.575175</td>\n",
       "      <td>0.111706</td>\n",
       "      <td>0.201325</td>\n",
       "    </tr>\n",
       "    <tr>\n",
       "      <th>3</th>\n",
       "      <td>0.884088</td>\n",
       "      <td>0.096819</td>\n",
       "      <td>0.000156</td>\n",
       "    </tr>\n",
       "    <tr>\n",
       "      <th>4</th>\n",
       "      <td>0.723208</td>\n",
       "      <td>0.098967</td>\n",
       "      <td>0.018774</td>\n",
       "    </tr>\n",
       "  </tbody>\n",
       "</table>\n",
       "</div>"
      ],
      "text/plain": [
       "   mild temperate       dry  tropical\n",
       "0        0.871512  0.095650  0.000278\n",
       "1        0.930596  0.078460  0.000024\n",
       "2        0.575175  0.111706  0.201325\n",
       "3        0.884088  0.096819  0.000156\n",
       "4        0.723208  0.098967  0.018774"
      ]
     },
     "execution_count": 91,
     "metadata": {},
     "output_type": "execute_result"
    }
   ],
   "source": [
    "# printing probablity of the data to be in the class\n",
    "lgr_probabilities = pd.DataFrame(columns=classifiers)\n",
    "for mdl_key, mdl_model in models.items():\n",
    "    lgr_probabilities[mdl_key] = mdl_model.predict_proba(finalDf.iloc[:,0:2])[:,1]\n",
    "lgr_probabilities.head()"
   ]
  },
  {
   "cell_type": "code",
   "execution_count": 92,
   "id": "e6099a81",
   "metadata": {},
   "outputs": [
    {
     "data": {
      "text/html": [
       "<div>\n",
       "<style scoped>\n",
       "    .dataframe tbody tr th:only-of-type {\n",
       "        vertical-align: middle;\n",
       "    }\n",
       "\n",
       "    .dataframe tbody tr th {\n",
       "        vertical-align: top;\n",
       "    }\n",
       "\n",
       "    .dataframe thead th {\n",
       "        text-align: right;\n",
       "    }\n",
       "</style>\n",
       "<table border=\"1\" class=\"dataframe\">\n",
       "  <thead>\n",
       "    <tr style=\"text-align: right;\">\n",
       "      <th>col_0</th>\n",
       "      <th>dry</th>\n",
       "      <th>mild temperate</th>\n",
       "      <th>tropical</th>\n",
       "    </tr>\n",
       "    <tr>\n",
       "      <th>climate</th>\n",
       "      <th></th>\n",
       "      <th></th>\n",
       "      <th></th>\n",
       "    </tr>\n",
       "  </thead>\n",
       "  <tbody>\n",
       "    <tr>\n",
       "      <th>dry</th>\n",
       "      <td>2298</td>\n",
       "      <td>7808</td>\n",
       "      <td>855</td>\n",
       "    </tr>\n",
       "    <tr>\n",
       "      <th>mild temperate</th>\n",
       "      <td>1131</td>\n",
       "      <td>29872</td>\n",
       "      <td>1395</td>\n",
       "    </tr>\n",
       "    <tr>\n",
       "      <th>tropical</th>\n",
       "      <td>272</td>\n",
       "      <td>2191</td>\n",
       "      <td>4178</td>\n",
       "    </tr>\n",
       "  </tbody>\n",
       "</table>\n",
       "</div>"
      ],
      "text/plain": [
       "col_0            dry  mild temperate  tropical\n",
       "climate                                       \n",
       "dry             2298            7808       855\n",
       "mild temperate  1131           29872      1395\n",
       "tropical         272            2191      4178"
      ]
     },
     "execution_count": 92,
     "metadata": {},
     "output_type": "execute_result"
    }
   ],
   "source": [
    "predicted_climate = lgr_probabilities.idxmax(axis=1)\n",
    "pred_spec = lgr_probabilities.max(axis=1)\n",
    "pd.crosstab(finalDf['climate'],predicted_climate)"
   ]
  },
  {
   "cell_type": "code",
   "execution_count": 93,
   "id": "03fbcbc3",
   "metadata": {},
   "outputs": [
    {
     "name": "stdout",
     "output_type": "stream",
     "text": [
      "Logistic Regression Accuracy - 72.6960%\n"
     ]
    }
   ],
   "source": [
    "predicted_climate.sort_index(inplace=True)\n",
    "lgr_accuracy = len(finalDf[finalDf['climate']==predicted_climate].sort_index().sort_index(axis=0))/len(finalDf)\n",
    "print('Logistic Regression Accuracy - {0:.4f}%'.format(lgr_accuracy*100));"
   ]
  },
  {
   "cell_type": "code",
   "execution_count": null,
   "id": "993343fd",
   "metadata": {},
   "outputs": [],
   "source": []
  }
 ],
 "metadata": {
  "kernelspec": {
   "display_name": "Python 3 (ipykernel)",
   "language": "python",
   "name": "python3"
  },
  "language_info": {
   "codemirror_mode": {
    "name": "ipython",
    "version": 3
   },
   "file_extension": ".py",
   "mimetype": "text/x-python",
   "name": "python",
   "nbconvert_exporter": "python",
   "pygments_lexer": "ipython3",
   "version": "3.10.7"
  }
 },
 "nbformat": 4,
 "nbformat_minor": 5
}
