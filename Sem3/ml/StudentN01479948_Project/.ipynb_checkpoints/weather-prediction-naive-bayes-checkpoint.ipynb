{
 "cells": [
  {
   "cell_type": "code",
   "execution_count": 1,
   "metadata": {
    "execution": {
     "iopub.execute_input": "2022-12-15T19:29:43.673807Z",
     "iopub.status.busy": "2022-12-15T19:29:43.673097Z",
     "iopub.status.idle": "2022-12-15T19:29:43.679208Z",
     "shell.execute_reply": "2022-12-15T19:29:43.678045Z",
     "shell.execute_reply.started": "2022-12-15T19:29:43.673755Z"
    }
   },
   "outputs": [],
   "source": [
    "import numpy as np\n",
    "import pandas as pd\n",
    "import warnings\n",
    "\n",
    "warnings.filterwarnings('ignore')"
   ]
  },
  {
   "cell_type": "code",
   "execution_count": 2,
   "metadata": {
    "execution": {
     "iopub.execute_input": "2022-12-15T19:29:43.680937Z",
     "iopub.status.busy": "2022-12-15T19:29:43.680526Z",
     "iopub.status.idle": "2022-12-15T19:29:45.483895Z",
     "shell.execute_reply": "2022-12-15T19:29:45.482691Z",
     "shell.execute_reply.started": "2022-12-15T19:29:43.680903Z"
    }
   },
   "outputs": [],
   "source": [
    "data = 'dev_in.csv'\n",
    "\n",
    "df = pd.read_csv(data, header=None, sep=',')"
   ]
  },
  {
   "cell_type": "code",
   "execution_count": 3,
   "metadata": {
    "execution": {
     "iopub.execute_input": "2022-12-15T19:29:45.487796Z",
     "iopub.status.busy": "2022-12-15T19:29:45.487257Z",
     "iopub.status.idle": "2022-12-15T19:29:45.496144Z",
     "shell.execute_reply": "2022-12-15T19:29:45.494714Z",
     "shell.execute_reply.started": "2022-12-15T19:29:45.487747Z"
    }
   },
   "outputs": [
    {
     "data": {
      "text/plain": [
       "(50001, 129)"
      ]
     },
     "execution_count": 3,
     "metadata": {},
     "output_type": "execute_result"
    }
   ],
   "source": [
    "# view dimensions of dataset\n",
    "\n",
    "df.shape"
   ]
  },
  {
   "cell_type": "code",
   "execution_count": 4,
   "metadata": {
    "execution": {
     "iopub.execute_input": "2022-12-15T19:29:45.498835Z",
     "iopub.status.busy": "2022-12-15T19:29:45.498192Z",
     "iopub.status.idle": "2022-12-15T19:29:45.528759Z",
     "shell.execute_reply": "2022-12-15T19:29:45.527410Z",
     "shell.execute_reply.started": "2022-12-15T19:29:45.498786Z"
    }
   },
   "outputs": [
    {
     "data": {
      "text/html": [
       "<div>\n",
       "<style scoped>\n",
       "    .dataframe tbody tr th:only-of-type {\n",
       "        vertical-align: middle;\n",
       "    }\n",
       "\n",
       "    .dataframe tbody tr th {\n",
       "        vertical-align: top;\n",
       "    }\n",
       "\n",
       "    .dataframe thead th {\n",
       "        text-align: right;\n",
       "    }\n",
       "</style>\n",
       "<table border=\"1\" class=\"dataframe\">\n",
       "  <thead>\n",
       "    <tr style=\"text-align: right;\">\n",
       "      <th></th>\n",
       "      <th>0</th>\n",
       "      <th>1</th>\n",
       "      <th>2</th>\n",
       "      <th>3</th>\n",
       "      <th>4</th>\n",
       "      <th>5</th>\n",
       "      <th>6</th>\n",
       "      <th>7</th>\n",
       "      <th>8</th>\n",
       "      <th>9</th>\n",
       "      <th>...</th>\n",
       "      <th>119</th>\n",
       "      <th>120</th>\n",
       "      <th>121</th>\n",
       "      <th>122</th>\n",
       "      <th>123</th>\n",
       "      <th>124</th>\n",
       "      <th>125</th>\n",
       "      <th>126</th>\n",
       "      <th>127</th>\n",
       "      <th>128</th>\n",
       "    </tr>\n",
       "  </thead>\n",
       "  <tbody>\n",
       "    <tr>\n",
       "      <th>0</th>\n",
       "      <td>fact_time</td>\n",
       "      <td>fact_latitude</td>\n",
       "      <td>fact_longitude</td>\n",
       "      <td>fact_temperature</td>\n",
       "      <td>fact_cwsm_class</td>\n",
       "      <td>climate</td>\n",
       "      <td>topography_bathymetry</td>\n",
       "      <td>sun_elevation</td>\n",
       "      <td>climate_temperature</td>\n",
       "      <td>climate_pressure</td>\n",
       "      <td>...</td>\n",
       "      <td>cmc_0_1_66_0_grad</td>\n",
       "      <td>cmc_0_1_66_0_next</td>\n",
       "      <td>cmc_0_1_67_0_grad</td>\n",
       "      <td>cmc_0_1_67_0_next</td>\n",
       "      <td>cmc_0_1_68_0_grad</td>\n",
       "      <td>cmc_0_1_68_0_next</td>\n",
       "      <td>gfs_2m_dewpoint_grad</td>\n",
       "      <td>gfs_2m_dewpoint_next</td>\n",
       "      <td>gfs_total_clouds_cover_low_grad</td>\n",
       "      <td>gfs_total_clouds_cover_low_next</td>\n",
       "    </tr>\n",
       "    <tr>\n",
       "      <th>1</th>\n",
       "      <td>1539162000</td>\n",
       "      <td>-40.35</td>\n",
       "      <td>-9.88</td>\n",
       "      <td>11.0</td>\n",
       "      <td>10</td>\n",
       "      <td>tropical</td>\n",
       "      <td>-843.0</td>\n",
       "      <td>31.78248998153052</td>\n",
       "      <td>10.07071428571432</td>\n",
       "      <td>765.6312283014016</td>\n",
       "      <td>...</td>\n",
       "      <td>0.0</td>\n",
       "      <td>0.0</td>\n",
       "      <td>0.0</td>\n",
       "      <td>0.0</td>\n",
       "      <td>0.0</td>\n",
       "      <td>0.0</td>\n",
       "      <td>0.505035400390625</td>\n",
       "      <td>2.6475769042968977</td>\n",
       "      <td>2.0</td>\n",
       "      <td>2.0</td>\n",
       "    </tr>\n",
       "    <tr>\n",
       "      <th>2</th>\n",
       "      <td>1545006600</td>\n",
       "      <td>53.421299</td>\n",
       "      <td>-6.270070000000004</td>\n",
       "      <td>4.0</td>\n",
       "      <td>10</td>\n",
       "      <td>mild temperate</td>\n",
       "      <td>67.0</td>\n",
       "      <td>-59.69152145231892</td>\n",
       "      <td>7.005000000000032</td>\n",
       "      <td>752.8976150963312</td>\n",
       "      <td>...</td>\n",
       "      <td>0.0</td>\n",
       "      <td>0.0</td>\n",
       "      <td>0.0</td>\n",
       "      <td>0.0</td>\n",
       "      <td>0.0</td>\n",
       "      <td>0.0</td>\n",
       "      <td>-0.4000244140625</td>\n",
       "      <td>1.2499938964843975</td>\n",
       "      <td>0.0</td>\n",
       "      <td>0.0</td>\n",
       "    </tr>\n",
       "    <tr>\n",
       "      <th>3</th>\n",
       "      <td>1540094400</td>\n",
       "      <td>-19.7577</td>\n",
       "      <td>63.361</td>\n",
       "      <td>26.0</td>\n",
       "      <td>10</td>\n",
       "      <td>dry</td>\n",
       "      <td>6.0</td>\n",
       "      <td>35.250889085578635</td>\n",
       "      <td>23.32714285714289</td>\n",
       "      <td>763.1150163007375</td>\n",
       "      <td>...</td>\n",
       "      <td>0.0</td>\n",
       "      <td>0.0</td>\n",
       "      <td>0.0</td>\n",
       "      <td>0.0</td>\n",
       "      <td>0.0</td>\n",
       "      <td>0.0</td>\n",
       "      <td>0.100006103515625</td>\n",
       "      <td>21.05001220703128</td>\n",
       "      <td>-1.0</td>\n",
       "      <td>1.0</td>\n",
       "    </tr>\n",
       "    <tr>\n",
       "      <th>4</th>\n",
       "      <td>1552611600</td>\n",
       "      <td>35.245899</td>\n",
       "      <td>47.009201</td>\n",
       "      <td>5.0</td>\n",
       "      <td>10</td>\n",
       "      <td>mild temperate</td>\n",
       "      <td>1390.0</td>\n",
       "      <td>-23.755614985282445</td>\n",
       "      <td>3.1092857142857446</td>\n",
       "      <td>609.4193331163475</td>\n",
       "      <td>...</td>\n",
       "      <td>1.69672</td>\n",
       "      <td>5.1653</td>\n",
       "      <td>0.0</td>\n",
       "      <td>4.8750000000000006e-05</td>\n",
       "      <td>0.0</td>\n",
       "      <td>0.0</td>\n",
       "      <td>-1.5</td>\n",
       "      <td>-0.3499816894531022</td>\n",
       "      <td>-12.0</td>\n",
       "      <td>81.0</td>\n",
       "    </tr>\n",
       "  </tbody>\n",
       "</table>\n",
       "<p>5 rows × 129 columns</p>\n",
       "</div>"
      ],
      "text/plain": [
       "          0              1                   2                 3    \\\n",
       "0   fact_time  fact_latitude      fact_longitude  fact_temperature   \n",
       "1  1539162000         -40.35               -9.88              11.0   \n",
       "2  1545006600      53.421299  -6.270070000000004               4.0   \n",
       "3  1540094400       -19.7577              63.361              26.0   \n",
       "4  1552611600      35.245899           47.009201               5.0   \n",
       "\n",
       "               4               5                      6    \\\n",
       "0  fact_cwsm_class         climate  topography_bathymetry   \n",
       "1               10        tropical                 -843.0   \n",
       "2               10  mild temperate                   67.0   \n",
       "3               10             dry                    6.0   \n",
       "4               10  mild temperate                 1390.0   \n",
       "\n",
       "                   7                    8                  9    ...  \\\n",
       "0        sun_elevation  climate_temperature   climate_pressure  ...   \n",
       "1    31.78248998153052    10.07071428571432  765.6312283014016  ...   \n",
       "2   -59.69152145231892    7.005000000000032  752.8976150963312  ...   \n",
       "3   35.250889085578635    23.32714285714289  763.1150163007375  ...   \n",
       "4  -23.755614985282445   3.1092857142857446  609.4193331163475  ...   \n",
       "\n",
       "                 119                120                121  \\\n",
       "0  cmc_0_1_66_0_grad  cmc_0_1_66_0_next  cmc_0_1_67_0_grad   \n",
       "1                0.0                0.0                0.0   \n",
       "2                0.0                0.0                0.0   \n",
       "3                0.0                0.0                0.0   \n",
       "4            1.69672             5.1653                0.0   \n",
       "\n",
       "                      122                123                124  \\\n",
       "0       cmc_0_1_67_0_next  cmc_0_1_68_0_grad  cmc_0_1_68_0_next   \n",
       "1                     0.0                0.0                0.0   \n",
       "2                     0.0                0.0                0.0   \n",
       "3                     0.0                0.0                0.0   \n",
       "4  4.8750000000000006e-05                0.0                0.0   \n",
       "\n",
       "                    125                   126  \\\n",
       "0  gfs_2m_dewpoint_grad  gfs_2m_dewpoint_next   \n",
       "1     0.505035400390625    2.6475769042968977   \n",
       "2      -0.4000244140625    1.2499938964843975   \n",
       "3     0.100006103515625     21.05001220703128   \n",
       "4                  -1.5   -0.3499816894531022   \n",
       "\n",
       "                               127                              128  \n",
       "0  gfs_total_clouds_cover_low_grad  gfs_total_clouds_cover_low_next  \n",
       "1                              2.0                              2.0  \n",
       "2                              0.0                              0.0  \n",
       "3                             -1.0                              1.0  \n",
       "4                            -12.0                             81.0  \n",
       "\n",
       "[5 rows x 129 columns]"
      ]
     },
     "execution_count": 4,
     "metadata": {},
     "output_type": "execute_result"
    }
   ],
   "source": [
    "# preview the dataset\n",
    "\n",
    "df.head()"
   ]
  },
  {
   "cell_type": "code",
   "execution_count": 5,
   "metadata": {
    "execution": {
     "iopub.execute_input": "2022-12-15T19:29:45.531317Z",
     "iopub.status.busy": "2022-12-15T19:29:45.529971Z",
     "iopub.status.idle": "2022-12-15T19:29:45.538892Z",
     "shell.execute_reply": "2022-12-15T19:29:45.537340Z",
     "shell.execute_reply.started": "2022-12-15T19:29:45.531233Z"
    }
   },
   "outputs": [
    {
     "data": {
      "text/plain": [
       "Int64Index([  0,   1,   2,   3,   4,   5,   6,   7,   8,   9,\n",
       "            ...\n",
       "            119, 120, 121, 122, 123, 124, 125, 126, 127, 128],\n",
       "           dtype='int64', length=129)"
      ]
     },
     "execution_count": 5,
     "metadata": {},
     "output_type": "execute_result"
    }
   ],
   "source": [
    "df.columns"
   ]
  },
  {
   "cell_type": "code",
   "execution_count": 6,
   "metadata": {
    "execution": {
     "iopub.execute_input": "2022-12-15T19:29:45.540694Z",
     "iopub.status.busy": "2022-12-15T19:29:45.540340Z",
     "iopub.status.idle": "2022-12-15T19:29:45.551927Z",
     "shell.execute_reply": "2022-12-15T19:29:45.550551Z",
     "shell.execute_reply.started": "2022-12-15T19:29:45.540664Z"
    }
   },
   "outputs": [],
   "source": [
    "# setting column names as per the dataset\n",
    "header_row = 0\n",
    "df.columns = df.iloc[header_row]\n",
    "df = df.tail(-1)"
   ]
  },
  {
   "cell_type": "code",
   "execution_count": 7,
   "metadata": {
    "execution": {
     "iopub.execute_input": "2022-12-15T19:29:45.554588Z",
     "iopub.status.busy": "2022-12-15T19:29:45.553875Z",
     "iopub.status.idle": "2022-12-15T19:29:45.572446Z",
     "shell.execute_reply": "2022-12-15T19:29:45.571412Z",
     "shell.execute_reply.started": "2022-12-15T19:29:45.554528Z"
    }
   },
   "outputs": [
    {
     "data": {
      "text/plain": [
       "Index(['fact_time', 'fact_latitude', 'fact_longitude', 'fact_temperature',\n",
       "       'fact_cwsm_class', 'climate', 'topography_bathymetry', 'sun_elevation',\n",
       "       'climate_temperature', 'climate_pressure',\n",
       "       ...\n",
       "       'cmc_0_1_66_0_grad', 'cmc_0_1_66_0_next', 'cmc_0_1_67_0_grad',\n",
       "       'cmc_0_1_67_0_next', 'cmc_0_1_68_0_grad', 'cmc_0_1_68_0_next',\n",
       "       'gfs_2m_dewpoint_grad', 'gfs_2m_dewpoint_next',\n",
       "       'gfs_total_clouds_cover_low_grad', 'gfs_total_clouds_cover_low_next'],\n",
       "      dtype='object', name=0, length=129)"
      ]
     },
     "execution_count": 7,
     "metadata": {},
     "output_type": "execute_result"
    }
   ],
   "source": [
    "df.columns"
   ]
  },
  {
   "cell_type": "code",
   "execution_count": 8,
   "metadata": {
    "execution": {
     "iopub.execute_input": "2022-12-15T19:29:45.575942Z",
     "iopub.status.busy": "2022-12-15T19:29:45.574110Z",
     "iopub.status.idle": "2022-12-15T19:29:45.679413Z",
     "shell.execute_reply": "2022-12-15T19:29:45.678042Z",
     "shell.execute_reply.started": "2022-12-15T19:29:45.575889Z"
    }
   },
   "outputs": [],
   "source": [
    "# just swapping the pridiction column to last column\n",
    "col_list = list(df.columns)\n",
    "x, y = col_list.index('climate'), col_list.index('gfs_total_clouds_cover_low_next')\n",
    "col_list[y], col_list[x] = col_list[x], col_list[y]\n",
    "df = df[col_list]"
   ]
  },
  {
   "cell_type": "code",
   "execution_count": 9,
   "metadata": {
    "execution": {
     "iopub.execute_input": "2022-12-15T19:29:45.685167Z",
     "iopub.status.busy": "2022-12-15T19:29:45.684766Z",
     "iopub.status.idle": "2022-12-15T19:29:45.694489Z",
     "shell.execute_reply": "2022-12-15T19:29:45.692934Z",
     "shell.execute_reply.started": "2022-12-15T19:29:45.685134Z"
    }
   },
   "outputs": [
    {
     "data": {
      "text/plain": [
       "Index(['fact_time', 'fact_latitude', 'fact_longitude', 'fact_temperature',\n",
       "       'fact_cwsm_class', 'gfs_total_clouds_cover_low_next',\n",
       "       'topography_bathymetry', 'sun_elevation', 'climate_temperature',\n",
       "       'climate_pressure',\n",
       "       ...\n",
       "       'cmc_0_1_66_0_grad', 'cmc_0_1_66_0_next', 'cmc_0_1_67_0_grad',\n",
       "       'cmc_0_1_67_0_next', 'cmc_0_1_68_0_grad', 'cmc_0_1_68_0_next',\n",
       "       'gfs_2m_dewpoint_grad', 'gfs_2m_dewpoint_next',\n",
       "       'gfs_total_clouds_cover_low_grad', 'climate'],\n",
       "      dtype='object', name=0, length=129)"
      ]
     },
     "execution_count": 9,
     "metadata": {},
     "output_type": "execute_result"
    }
   ],
   "source": [
    "df.columns"
   ]
  },
  {
   "cell_type": "code",
   "execution_count": 10,
   "metadata": {
    "execution": {
     "iopub.execute_input": "2022-12-15T19:29:45.697323Z",
     "iopub.status.busy": "2022-12-15T19:29:45.696892Z",
     "iopub.status.idle": "2022-12-15T19:29:45.723551Z",
     "shell.execute_reply": "2022-12-15T19:29:45.721938Z",
     "shell.execute_reply.started": "2022-12-15T19:29:45.697285Z"
    }
   },
   "outputs": [
    {
     "name": "stdout",
     "output_type": "stream",
     "text": [
      "<class 'pandas.core.frame.DataFrame'>\n",
      "RangeIndex: 50000 entries, 1 to 50000\n",
      "Columns: 129 entries, fact_time to climate\n",
      "dtypes: object(129)\n",
      "memory usage: 49.2+ MB\n"
     ]
    }
   ],
   "source": [
    "# view summary of dataset\n",
    "\n",
    "df.info()"
   ]
  },
  {
   "cell_type": "code",
   "execution_count": 11,
   "metadata": {
    "execution": {
     "iopub.execute_input": "2022-12-15T19:29:45.725228Z",
     "iopub.status.busy": "2022-12-15T19:29:45.724844Z",
     "iopub.status.idle": "2022-12-15T19:29:45.855006Z",
     "shell.execute_reply": "2022-12-15T19:29:45.853622Z",
     "shell.execute_reply.started": "2022-12-15T19:29:45.725197Z"
    }
   },
   "outputs": [],
   "source": [
    "# x is features y is result\n",
    "X = df.drop(['climate'], axis=1)\n",
    "\n",
    "y = df['climate']"
   ]
  },
  {
   "cell_type": "code",
   "execution_count": 12,
   "metadata": {
    "execution": {
     "iopub.execute_input": "2022-12-15T19:29:45.856954Z",
     "iopub.status.busy": "2022-12-15T19:29:45.856521Z",
     "iopub.status.idle": "2022-12-15T19:29:46.214201Z",
     "shell.execute_reply": "2022-12-15T19:29:46.212955Z",
     "shell.execute_reply.started": "2022-12-15T19:29:45.856921Z"
    }
   },
   "outputs": [],
   "source": [
    "# split X and y into training and testing sets\n",
    "# here we hav put 70% train data and 30% test\n",
    "\n",
    "from sklearn.model_selection import train_test_split\n",
    "\n",
    "X_train, X_test, y_train, y_test = train_test_split(X, y, test_size = 0.3, random_state = 0)"
   ]
  },
  {
   "cell_type": "code",
   "execution_count": 13,
   "metadata": {
    "execution": {
     "iopub.execute_input": "2022-12-15T19:29:46.215888Z",
     "iopub.status.busy": "2022-12-15T19:29:46.215540Z",
     "iopub.status.idle": "2022-12-15T19:29:46.225591Z",
     "shell.execute_reply": "2022-12-15T19:29:46.223924Z",
     "shell.execute_reply.started": "2022-12-15T19:29:46.215858Z"
    }
   },
   "outputs": [
    {
     "data": {
      "text/plain": [
       "((35000, 128), (15000, 128))"
      ]
     },
     "execution_count": 13,
     "metadata": {},
     "output_type": "execute_result"
    }
   ],
   "source": [
    "# check the shape of X_train and X_test\n",
    "\n",
    "X_train.shape, X_test.shape"
   ]
  },
  {
   "cell_type": "code",
   "execution_count": 14,
   "metadata": {
    "execution": {
     "iopub.execute_input": "2022-12-15T19:29:46.228285Z",
     "iopub.status.busy": "2022-12-15T19:29:46.227741Z",
     "iopub.status.idle": "2022-12-15T19:29:46.244883Z",
     "shell.execute_reply": "2022-12-15T19:29:46.243055Z",
     "shell.execute_reply.started": "2022-12-15T19:29:46.228231Z"
    }
   },
   "outputs": [
    {
     "data": {
      "text/plain": [
       "0\n",
       "fact_time                          object\n",
       "fact_latitude                      object\n",
       "fact_longitude                     object\n",
       "fact_temperature                   object\n",
       "fact_cwsm_class                    object\n",
       "                                    ...  \n",
       "cmc_0_1_68_0_grad                  object\n",
       "cmc_0_1_68_0_next                  object\n",
       "gfs_2m_dewpoint_grad               object\n",
       "gfs_2m_dewpoint_next               object\n",
       "gfs_total_clouds_cover_low_grad    object\n",
       "Length: 128, dtype: object"
      ]
     },
     "execution_count": 14,
     "metadata": {},
     "output_type": "execute_result"
    }
   ],
   "source": [
    "# check data types in X_train\n",
    "\n",
    "X_train.dtypes"
   ]
  },
  {
   "cell_type": "code",
   "execution_count": 15,
   "metadata": {
    "execution": {
     "iopub.execute_input": "2022-12-15T19:29:46.248372Z",
     "iopub.status.busy": "2022-12-15T19:29:46.247222Z",
     "iopub.status.idle": "2022-12-15T19:29:46.264384Z",
     "shell.execute_reply": "2022-12-15T19:29:46.263503Z",
     "shell.execute_reply.started": "2022-12-15T19:29:46.248331Z"
    }
   },
   "outputs": [],
   "source": [
    "# display categorical variables\n",
    "# preprossing starts\n",
    "\n",
    "categorical = [col for col in X_train.columns if X_train[col].dtypes == 'O']\n"
   ]
  },
  {
   "cell_type": "code",
   "execution_count": 16,
   "metadata": {
    "execution": {
     "iopub.execute_input": "2022-12-15T19:29:46.267899Z",
     "iopub.status.busy": "2022-12-15T19:29:46.266365Z",
     "iopub.status.idle": "2022-12-15T19:29:46.898832Z",
     "shell.execute_reply": "2022-12-15T19:29:46.896544Z",
     "shell.execute_reply.started": "2022-12-15T19:29:46.267848Z"
    }
   },
   "outputs": [
    {
     "data": {
      "text/plain": [
       "0\n",
       "fact_time                          0.000000\n",
       "fact_latitude                      0.000000\n",
       "fact_longitude                     0.000000\n",
       "fact_temperature                   0.000000\n",
       "fact_cwsm_class                    0.000000\n",
       "                                     ...   \n",
       "cmc_0_1_68_0_grad                  0.000714\n",
       "cmc_0_1_68_0_next                  0.000714\n",
       "gfs_2m_dewpoint_grad               0.000114\n",
       "gfs_2m_dewpoint_next               0.000057\n",
       "gfs_total_clouds_cover_low_grad    0.000114\n",
       "Length: 128, dtype: float64"
      ]
     },
     "execution_count": 16,
     "metadata": {},
     "output_type": "execute_result"
    }
   ],
   "source": [
    "# print percentage of missing values in the categorical variables in training set\n",
    "\n",
    "X_train[categorical].isnull().mean()"
   ]
  },
  {
   "cell_type": "code",
   "execution_count": 17,
   "metadata": {
    "execution": {
     "iopub.execute_input": "2022-12-15T19:29:46.903277Z",
     "iopub.status.busy": "2022-12-15T19:29:46.901899Z",
     "iopub.status.idle": "2022-12-15T19:29:47.825376Z",
     "shell.execute_reply": "2022-12-15T19:29:47.823765Z",
     "shell.execute_reply.started": "2022-12-15T19:29:46.903224Z"
    }
   },
   "outputs": [
    {
     "name": "stdout",
     "output_type": "stream",
     "text": [
      "gfs_total_clouds_cover_low_next 5.714285714285714e-05\n",
      "cmc_0_0_0_1000 0.0007142857142857143\n",
      "cmc_0_0_0_2_grad 0.0007142857142857143\n",
      "cmc_0_0_0_2_interpolated 0.0007142857142857143\n",
      "cmc_0_0_0_2_next 0.0007142857142857143\n",
      "cmc_0_0_0_2 0.0007142857142857143\n",
      "cmc_0_0_0_500 0.0007142857142857143\n",
      "cmc_0_0_0_700 0.0007142857142857143\n",
      "cmc_0_0_0_850 0.0007142857142857143\n",
      "cmc_0_0_0_925 0.0007142857142857143\n",
      "cmc_0_0_6_2 0.0007142857142857143\n",
      "cmc_0_0_7_1000 0.0007142857142857143\n",
      "cmc_0_0_7_2 0.0007142857142857143\n",
      "cmc_0_0_7_500 0.0007142857142857143\n",
      "cmc_0_0_7_700 0.0007142857142857143\n",
      "cmc_0_0_7_850 0.0007142857142857143\n",
      "cmc_0_0_7_925 0.0007142857142857143\n",
      "cmc_0_1_0_0 0.0007142857142857143\n",
      "cmc_0_1_11_0 0.0007142857142857143\n",
      "cmc_0_1_65_0 0.0007142857142857143\n",
      "cmc_0_1_66_0 0.0007142857142857143\n",
      "cmc_0_1_67_0 0.0007142857142857143\n",
      "cmc_0_1_68_0 0.0007142857142857143\n",
      "cmc_0_1_7_0 0.0007142857142857143\n",
      "cmc_0_2_2_10 0.0007142857142857143\n",
      "cmc_0_2_2_1000 0.0007142857142857143\n",
      "cmc_0_2_2_500 0.0007142857142857143\n",
      "cmc_0_2_2_700 0.0007142857142857143\n",
      "cmc_0_2_2_850 0.0007142857142857143\n",
      "cmc_0_2_2_925 0.0007142857142857143\n",
      "cmc_0_2_3_10 0.0007142857142857143\n",
      "cmc_0_2_3_1000 0.0007142857142857143\n",
      "cmc_0_2_3_500 0.0007142857142857143\n",
      "cmc_0_2_3_700 0.0007142857142857143\n",
      "cmc_0_2_3_850 0.0007142857142857143\n",
      "cmc_0_2_3_925 0.0007142857142857143\n",
      "cmc_0_3_0_0 0.0007142857142857143\n",
      "cmc_0_3_0_0_next 0.0007142857142857143\n",
      "cmc_0_3_1_0 0.0007142857142857143\n",
      "cmc_0_3_5_1000 0.0007142857142857143\n",
      "cmc_0_3_5_500 0.0007142857142857143\n",
      "cmc_0_3_5_700 0.0007142857142857143\n",
      "cmc_0_3_5_850 0.0007142857142857143\n",
      "cmc_0_3_5_925 0.0007142857142857143\n",
      "cmc_0_6_1_0 0.0007142857142857143\n",
      "cmc_horizon_h 0.0007142857142857143\n",
      "cmc_precipitations 0.0007142857142857143\n",
      "cmc_timedelta_s 0.0007142857142857143\n",
      "gfs_2m_dewpoint 8.571428571428571e-05\n",
      "gfs_a_vorticity 8.571428571428571e-05\n",
      "gfs_cloudness 8.571428571428571e-05\n",
      "gfs_clouds_sea 8.571428571428571e-05\n",
      "gfs_horizon_h 2.857142857142857e-05\n",
      "gfs_humidity 8.571428571428571e-05\n",
      "gfs_precipitable_water 8.571428571428571e-05\n",
      "gfs_precipitations 5.714285714285714e-05\n",
      "gfs_pressure 8.571428571428571e-05\n",
      "gfs_r_velocity 8.571428571428571e-05\n",
      "gfs_temperature_10000 2.857142857142857e-05\n",
      "gfs_temperature_15000 2.857142857142857e-05\n",
      "gfs_temperature_20000 2.857142857142857e-05\n",
      "gfs_temperature_25000 2.857142857142857e-05\n",
      "gfs_temperature_30000 2.857142857142857e-05\n",
      "gfs_temperature_35000 2.857142857142857e-05\n",
      "gfs_temperature_40000 2.857142857142857e-05\n",
      "gfs_temperature_45000 2.857142857142857e-05\n",
      "gfs_temperature_5000 2.857142857142857e-05\n",
      "gfs_temperature_50000 2.857142857142857e-05\n",
      "gfs_temperature_55000 2.857142857142857e-05\n",
      "gfs_temperature_60000 2.857142857142857e-05\n",
      "gfs_temperature_65000 2.857142857142857e-05\n",
      "gfs_temperature_7000 2.857142857142857e-05\n",
      "gfs_temperature_70000 2.857142857142857e-05\n",
      "gfs_temperature_75000 2.857142857142857e-05\n",
      "gfs_temperature_80000 2.857142857142857e-05\n",
      "gfs_temperature_85000 2.857142857142857e-05\n",
      "gfs_temperature_90000 2.857142857142857e-05\n",
      "gfs_temperature_92500 2.857142857142857e-05\n",
      "gfs_temperature_95000 2.857142857142857e-05\n",
      "gfs_temperature_97500 8.571428571428571e-05\n",
      "gfs_temperature_sea 8.571428571428571e-05\n",
      "gfs_temperature_sea_grad 0.00011428571428571428\n",
      "gfs_temperature_sea_interpolated 0.00011428571428571428\n",
      "gfs_temperature_sea_next 5.714285714285714e-05\n",
      "gfs_timedelta_s 2.857142857142857e-05\n",
      "gfs_total_clouds_cover_high 8.571428571428571e-05\n",
      "gfs_total_clouds_cover_low 8.571428571428571e-05\n",
      "gfs_total_clouds_cover_middle 8.571428571428571e-05\n",
      "gfs_u_wind 8.571428571428571e-05\n",
      "gfs_v_wind 8.571428571428571e-05\n",
      "gfs_wind_speed 8.571428571428571e-05\n",
      "wrf_t2 0.052571428571428575\n",
      "wrf_t2_next 0.052571428571428575\n",
      "wrf_psfc 0.052571428571428575\n",
      "wrf_rh2 0.052571428571428575\n",
      "wrf_wind_u 0.052571428571428575\n",
      "wrf_wind_v 0.052571428571428575\n",
      "wrf_rain 0.052571428571428575\n",
      "wrf_snow 0.052571428571428575\n",
      "wrf_graupel 0.052571428571428575\n",
      "wrf_hail 0.052571428571428575\n",
      "wrf_t2_interpolated 0.052571428571428575\n",
      "wrf_t2_grad 0.052571428571428575\n",
      "cmc_0_1_65_0_grad 0.0007142857142857143\n",
      "cmc_0_1_65_0_next 0.0007142857142857143\n",
      "cmc_0_1_66_0_grad 0.0007142857142857143\n",
      "cmc_0_1_66_0_next 0.0007142857142857143\n",
      "cmc_0_1_67_0_grad 0.0007142857142857143\n",
      "cmc_0_1_67_0_next 0.0007142857142857143\n",
      "cmc_0_1_68_0_grad 0.0007142857142857143\n",
      "cmc_0_1_68_0_next 0.0007142857142857143\n",
      "gfs_2m_dewpoint_grad 0.00011428571428571428\n",
      "gfs_2m_dewpoint_next 5.714285714285714e-05\n",
      "gfs_total_clouds_cover_low_grad 0.00011428571428571428\n"
     ]
    }
   ],
   "source": [
    "# print categorical variables with missing data\n",
    "\n",
    "for col in categorical:\n",
    "    if X_train[col].isnull().mean()>0:\n",
    "        print(col, (X_train[col].isnull().mean()))"
   ]
  },
  {
   "cell_type": "code",
   "execution_count": 18,
   "metadata": {
    "execution": {
     "iopub.execute_input": "2022-12-15T19:29:47.827515Z",
     "iopub.status.busy": "2022-12-15T19:29:47.826917Z",
     "iopub.status.idle": "2022-12-15T19:29:51.802853Z",
     "shell.execute_reply": "2022-12-15T19:29:51.801209Z",
     "shell.execute_reply.started": "2022-12-15T19:29:47.827474Z"
    }
   },
   "outputs": [],
   "source": [
    "# impute missing categorical variables with most frequent value\n",
    "\n",
    "for col in categorical:\n",
    "    if X_train[col].isnull().mean()>0:\n",
    "        for df2 in [X_train, X_test]:\n",
    "            df2[col].fillna(X_train[col].mode()[0], inplace=True) "
   ]
  },
  {
   "cell_type": "code",
   "execution_count": 19,
   "metadata": {
    "execution": {
     "iopub.execute_input": "2022-12-15T19:29:51.805092Z",
     "iopub.status.busy": "2022-12-15T19:29:51.804377Z",
     "iopub.status.idle": "2022-12-15T19:29:52.374148Z",
     "shell.execute_reply": "2022-12-15T19:29:52.372872Z",
     "shell.execute_reply.started": "2022-12-15T19:29:51.805053Z"
    }
   },
   "outputs": [
    {
     "data": {
      "text/plain": [
       "0\n",
       "fact_time                          0\n",
       "fact_latitude                      0\n",
       "fact_longitude                     0\n",
       "fact_temperature                   0\n",
       "fact_cwsm_class                    0\n",
       "                                  ..\n",
       "cmc_0_1_68_0_grad                  0\n",
       "cmc_0_1_68_0_next                  0\n",
       "gfs_2m_dewpoint_grad               0\n",
       "gfs_2m_dewpoint_next               0\n",
       "gfs_total_clouds_cover_low_grad    0\n",
       "Length: 128, dtype: int64"
      ]
     },
     "execution_count": 19,
     "metadata": {},
     "output_type": "execute_result"
    }
   ],
   "source": [
    "# check missing values in categorical variables in X_train\n",
    "\n",
    "X_train[categorical].isnull().sum()"
   ]
  },
  {
   "cell_type": "code",
   "execution_count": 20,
   "metadata": {
    "execution": {
     "iopub.execute_input": "2022-12-15T19:29:52.375925Z",
     "iopub.status.busy": "2022-12-15T19:29:52.375585Z",
     "iopub.status.idle": "2022-12-15T19:29:52.663938Z",
     "shell.execute_reply": "2022-12-15T19:29:52.662275Z",
     "shell.execute_reply.started": "2022-12-15T19:29:52.375894Z"
    }
   },
   "outputs": [
    {
     "data": {
      "text/plain": [
       "0\n",
       "fact_time                          0\n",
       "fact_latitude                      0\n",
       "fact_longitude                     0\n",
       "fact_temperature                   0\n",
       "fact_cwsm_class                    0\n",
       "                                  ..\n",
       "cmc_0_1_68_0_grad                  0\n",
       "cmc_0_1_68_0_next                  0\n",
       "gfs_2m_dewpoint_grad               0\n",
       "gfs_2m_dewpoint_next               0\n",
       "gfs_total_clouds_cover_low_grad    0\n",
       "Length: 128, dtype: int64"
      ]
     },
     "execution_count": 20,
     "metadata": {},
     "output_type": "execute_result"
    }
   ],
   "source": [
    "# check missing values in categorical variables in X_test\n",
    "\n",
    "X_test[categorical].isnull().sum()"
   ]
  },
  {
   "cell_type": "code",
   "execution_count": 21,
   "metadata": {
    "execution": {
     "iopub.execute_input": "2022-12-15T19:29:52.666218Z",
     "iopub.status.busy": "2022-12-15T19:29:52.665818Z",
     "iopub.status.idle": "2022-12-15T19:29:53.096248Z",
     "shell.execute_reply": "2022-12-15T19:29:53.094957Z",
     "shell.execute_reply.started": "2022-12-15T19:29:52.666183Z"
    }
   },
   "outputs": [
    {
     "data": {
      "text/plain": [
       "0\n",
       "fact_time                          0\n",
       "fact_latitude                      0\n",
       "fact_longitude                     0\n",
       "fact_temperature                   0\n",
       "fact_cwsm_class                    0\n",
       "                                  ..\n",
       "cmc_0_1_68_0_grad                  0\n",
       "cmc_0_1_68_0_next                  0\n",
       "gfs_2m_dewpoint_grad               0\n",
       "gfs_2m_dewpoint_next               0\n",
       "gfs_total_clouds_cover_low_grad    0\n",
       "Length: 128, dtype: int64"
      ]
     },
     "execution_count": 21,
     "metadata": {},
     "output_type": "execute_result"
    }
   ],
   "source": [
    "# check missing values in X_train\n",
    "\n",
    "X_train.isnull().sum()"
   ]
  },
  {
   "cell_type": "code",
   "execution_count": 22,
   "metadata": {
    "execution": {
     "iopub.execute_input": "2022-12-15T19:29:53.098430Z",
     "iopub.status.busy": "2022-12-15T19:29:53.097803Z",
     "iopub.status.idle": "2022-12-15T19:29:53.304579Z",
     "shell.execute_reply": "2022-12-15T19:29:53.303164Z",
     "shell.execute_reply.started": "2022-12-15T19:29:53.098377Z"
    }
   },
   "outputs": [
    {
     "data": {
      "text/plain": [
       "0\n",
       "fact_time                          0\n",
       "fact_latitude                      0\n",
       "fact_longitude                     0\n",
       "fact_temperature                   0\n",
       "fact_cwsm_class                    0\n",
       "                                  ..\n",
       "cmc_0_1_68_0_grad                  0\n",
       "cmc_0_1_68_0_next                  0\n",
       "gfs_2m_dewpoint_grad               0\n",
       "gfs_2m_dewpoint_next               0\n",
       "gfs_total_clouds_cover_low_grad    0\n",
       "Length: 128, dtype: int64"
      ]
     },
     "execution_count": 22,
     "metadata": {},
     "output_type": "execute_result"
    }
   ],
   "source": [
    "# check missing values in X_test\n",
    "\n",
    "X_test.isnull().sum()"
   ]
  },
  {
   "cell_type": "code",
   "execution_count": 113,
   "metadata": {
    "execution": {
     "iopub.execute_input": "2022-12-15T19:29:53.307593Z",
     "iopub.status.busy": "2022-12-15T19:29:53.306291Z",
     "iopub.status.idle": "2022-12-15T19:29:53.317499Z",
     "shell.execute_reply": "2022-12-15T19:29:53.316034Z",
     "shell.execute_reply.started": "2022-12-15T19:29:53.307485Z"
    }
   },
   "outputs": [
    {
     "data": {
      "text/plain": [
       "['fact_time',\n",
       " 'fact_latitude',\n",
       " 'fact_longitude',\n",
       " 'fact_temperature',\n",
       " 'fact_cwsm_class',\n",
       " 'gfs_total_clouds_cover_low_next',\n",
       " 'topography_bathymetry',\n",
       " 'sun_elevation',\n",
       " 'climate_temperature',\n",
       " 'climate_pressure',\n",
       " 'cmc_0_0_0_1000',\n",
       " 'cmc_0_0_0_2_grad',\n",
       " 'cmc_0_0_0_2_interpolated',\n",
       " 'cmc_0_0_0_2_next',\n",
       " 'cmc_0_0_0_2',\n",
       " 'cmc_0_0_0_500',\n",
       " 'cmc_0_0_0_700',\n",
       " 'cmc_0_0_0_850',\n",
       " 'cmc_0_0_0_925',\n",
       " 'cmc_0_0_6_2',\n",
       " 'cmc_0_0_7_1000',\n",
       " 'cmc_0_0_7_2',\n",
       " 'cmc_0_0_7_500',\n",
       " 'cmc_0_0_7_700',\n",
       " 'cmc_0_0_7_850',\n",
       " 'cmc_0_0_7_925',\n",
       " 'cmc_0_1_0_0',\n",
       " 'cmc_0_1_11_0',\n",
       " 'cmc_0_1_65_0',\n",
       " 'cmc_0_1_66_0',\n",
       " 'cmc_0_1_67_0',\n",
       " 'cmc_0_1_68_0',\n",
       " 'cmc_0_1_7_0',\n",
       " 'cmc_0_2_2_10',\n",
       " 'cmc_0_2_2_1000',\n",
       " 'cmc_0_2_2_500',\n",
       " 'cmc_0_2_2_700',\n",
       " 'cmc_0_2_2_850',\n",
       " 'cmc_0_2_2_925',\n",
       " 'cmc_0_2_3_10',\n",
       " 'cmc_0_2_3_1000',\n",
       " 'cmc_0_2_3_500',\n",
       " 'cmc_0_2_3_700',\n",
       " 'cmc_0_2_3_850',\n",
       " 'cmc_0_2_3_925',\n",
       " 'cmc_0_3_0_0',\n",
       " 'cmc_0_3_0_0_next',\n",
       " 'cmc_0_3_1_0',\n",
       " 'cmc_0_3_5_1000',\n",
       " 'cmc_0_3_5_500',\n",
       " 'cmc_0_3_5_700',\n",
       " 'cmc_0_3_5_850',\n",
       " 'cmc_0_3_5_925',\n",
       " 'cmc_0_6_1_0',\n",
       " 'cmc_available',\n",
       " 'cmc_horizon_h',\n",
       " 'cmc_precipitations',\n",
       " 'cmc_timedelta_s',\n",
       " 'gfs_2m_dewpoint',\n",
       " 'gfs_a_vorticity',\n",
       " 'gfs_available',\n",
       " 'gfs_cloudness',\n",
       " 'gfs_clouds_sea',\n",
       " 'gfs_horizon_h',\n",
       " 'gfs_humidity',\n",
       " 'gfs_precipitable_water',\n",
       " 'gfs_precipitations',\n",
       " 'gfs_pressure',\n",
       " 'gfs_r_velocity',\n",
       " 'gfs_soil_temperature',\n",
       " 'gfs_soil_temperature_available',\n",
       " 'gfs_temperature_10000',\n",
       " 'gfs_temperature_15000',\n",
       " 'gfs_temperature_20000',\n",
       " 'gfs_temperature_25000',\n",
       " 'gfs_temperature_30000',\n",
       " 'gfs_temperature_35000',\n",
       " 'gfs_temperature_40000',\n",
       " 'gfs_temperature_45000',\n",
       " 'gfs_temperature_5000',\n",
       " 'gfs_temperature_50000',\n",
       " 'gfs_temperature_55000',\n",
       " 'gfs_temperature_60000',\n",
       " 'gfs_temperature_65000',\n",
       " 'gfs_temperature_7000',\n",
       " 'gfs_temperature_70000',\n",
       " 'gfs_temperature_75000',\n",
       " 'gfs_temperature_80000',\n",
       " 'gfs_temperature_85000',\n",
       " 'gfs_temperature_90000',\n",
       " 'gfs_temperature_92500',\n",
       " 'gfs_temperature_95000',\n",
       " 'gfs_temperature_97500',\n",
       " 'gfs_temperature_sea',\n",
       " 'gfs_temperature_sea_grad',\n",
       " 'gfs_temperature_sea_interpolated',\n",
       " 'gfs_temperature_sea_next',\n",
       " 'gfs_timedelta_s',\n",
       " 'gfs_total_clouds_cover_high',\n",
       " 'gfs_total_clouds_cover_low',\n",
       " 'gfs_total_clouds_cover_middle',\n",
       " 'gfs_u_wind',\n",
       " 'gfs_v_wind',\n",
       " 'gfs_wind_speed',\n",
       " 'wrf_available',\n",
       " 'wrf_t2',\n",
       " 'wrf_t2_next',\n",
       " 'wrf_psfc',\n",
       " 'wrf_rh2',\n",
       " 'wrf_wind_u',\n",
       " 'wrf_wind_v',\n",
       " 'wrf_rain',\n",
       " 'wrf_snow',\n",
       " 'wrf_graupel',\n",
       " 'wrf_hail',\n",
       " 'wrf_t2_interpolated',\n",
       " 'wrf_t2_grad',\n",
       " 'cmc_0_1_65_0_grad',\n",
       " 'cmc_0_1_65_0_next',\n",
       " 'cmc_0_1_66_0_grad',\n",
       " 'cmc_0_1_66_0_next',\n",
       " 'cmc_0_1_67_0_grad',\n",
       " 'cmc_0_1_67_0_next',\n",
       " 'cmc_0_1_68_0_grad',\n",
       " 'cmc_0_1_68_0_next',\n",
       " 'gfs_2m_dewpoint_grad',\n",
       " 'gfs_2m_dewpoint_next',\n",
       " 'gfs_total_clouds_cover_low_grad']"
      ]
     },
     "execution_count": 113,
     "metadata": {},
     "output_type": "execute_result"
    }
   ],
   "source": [
    "# print categorical variables\n",
    "\n",
    "categorical"
   ]
  },
  {
   "cell_type": "code",
   "execution_count": 23,
   "metadata": {
    "execution": {
     "iopub.execute_input": "2022-12-15T19:29:53.319729Z",
     "iopub.status.busy": "2022-12-15T19:29:53.319325Z",
     "iopub.status.idle": "2022-12-15T19:29:53.461779Z",
     "shell.execute_reply": "2022-12-15T19:29:53.460533Z",
     "shell.execute_reply.started": "2022-12-15T19:29:53.319696Z"
    }
   },
   "outputs": [
    {
     "data": {
      "text/html": [
       "<div>\n",
       "<style scoped>\n",
       "    .dataframe tbody tr th:only-of-type {\n",
       "        vertical-align: middle;\n",
       "    }\n",
       "\n",
       "    .dataframe tbody tr th {\n",
       "        vertical-align: top;\n",
       "    }\n",
       "\n",
       "    .dataframe thead th {\n",
       "        text-align: right;\n",
       "    }\n",
       "</style>\n",
       "<table border=\"1\" class=\"dataframe\">\n",
       "  <thead>\n",
       "    <tr style=\"text-align: right;\">\n",
       "      <th></th>\n",
       "      <th>fact_time</th>\n",
       "      <th>fact_latitude</th>\n",
       "      <th>fact_longitude</th>\n",
       "      <th>fact_temperature</th>\n",
       "      <th>fact_cwsm_class</th>\n",
       "      <th>gfs_total_clouds_cover_low_next</th>\n",
       "      <th>topography_bathymetry</th>\n",
       "      <th>sun_elevation</th>\n",
       "      <th>climate_temperature</th>\n",
       "      <th>climate_pressure</th>\n",
       "      <th>...</th>\n",
       "      <th>cmc_0_1_65_0_next</th>\n",
       "      <th>cmc_0_1_66_0_grad</th>\n",
       "      <th>cmc_0_1_66_0_next</th>\n",
       "      <th>cmc_0_1_67_0_grad</th>\n",
       "      <th>cmc_0_1_67_0_next</th>\n",
       "      <th>cmc_0_1_68_0_grad</th>\n",
       "      <th>cmc_0_1_68_0_next</th>\n",
       "      <th>gfs_2m_dewpoint_grad</th>\n",
       "      <th>gfs_2m_dewpoint_next</th>\n",
       "      <th>gfs_total_clouds_cover_low_grad</th>\n",
       "    </tr>\n",
       "  </thead>\n",
       "  <tbody>\n",
       "    <tr>\n",
       "      <th>17968</th>\n",
       "      <td>1548024840</td>\n",
       "      <td>33.4608</td>\n",
       "      <td>-111.727997</td>\n",
       "      <td>23.0</td>\n",
       "      <td>0</td>\n",
       "      <td>0.0</td>\n",
       "      <td>415.0</td>\n",
       "      <td>25.435328</td>\n",
       "      <td>14.219286</td>\n",
       "      <td>724.660785</td>\n",
       "      <td>...</td>\n",
       "      <td>0.0021</td>\n",
       "      <td>0.0</td>\n",
       "      <td>0.0</td>\n",
       "      <td>0.0</td>\n",
       "      <td>0.0</td>\n",
       "      <td>0.0</td>\n",
       "      <td>0.0</td>\n",
       "      <td>-1.659729</td>\n",
       "      <td>-5.649847</td>\n",
       "      <td>0.0</td>\n",
       "    </tr>\n",
       "    <tr>\n",
       "      <th>32392</th>\n",
       "      <td>1546131000</td>\n",
       "      <td>38.1511</td>\n",
       "      <td>21.4256</td>\n",
       "      <td>4.0</td>\n",
       "      <td>10</td>\n",
       "      <td>0.0</td>\n",
       "      <td>13.0</td>\n",
       "      <td>-66.272332</td>\n",
       "      <td>9.300714</td>\n",
       "      <td>755.073676</td>\n",
       "      <td>...</td>\n",
       "      <td>0.0</td>\n",
       "      <td>0.0</td>\n",
       "      <td>0.0</td>\n",
       "      <td>0.012594</td>\n",
       "      <td>0.016259</td>\n",
       "      <td>0.0</td>\n",
       "      <td>0.0</td>\n",
       "      <td>-0.126343</td>\n",
       "      <td>3.050012</td>\n",
       "      <td>0.0</td>\n",
       "    </tr>\n",
       "    <tr>\n",
       "      <th>9342</th>\n",
       "      <td>1554130800</td>\n",
       "      <td>41.060556</td>\n",
       "      <td>14.078889</td>\n",
       "      <td>17.0</td>\n",
       "      <td>10</td>\n",
       "      <td>0.0</td>\n",
       "      <td>6.0</td>\n",
       "      <td>26.09395</td>\n",
       "      <td>16.555714</td>\n",
       "      <td>760.032923</td>\n",
       "      <td>...</td>\n",
       "      <td>0.0</td>\n",
       "      <td>0.0</td>\n",
       "      <td>0.0</td>\n",
       "      <td>0.0</td>\n",
       "      <td>0.0</td>\n",
       "      <td>0.0</td>\n",
       "      <td>0.0</td>\n",
       "      <td>-0.104095</td>\n",
       "      <td>7.584283</td>\n",
       "      <td>0.0</td>\n",
       "    </tr>\n",
       "    <tr>\n",
       "      <th>7930</th>\n",
       "      <td>1542898800</td>\n",
       "      <td>43.907299</td>\n",
       "      <td>4.90183</td>\n",
       "      <td>15.0</td>\n",
       "      <td>0</td>\n",
       "      <td>1.0</td>\n",
       "      <td>43.0</td>\n",
       "      <td>10.729241</td>\n",
       "      <td>14.544286</td>\n",
       "      <td>754.439604</td>\n",
       "      <td>...</td>\n",
       "      <td>20.5697</td>\n",
       "      <td>0.0</td>\n",
       "      <td>0.0</td>\n",
       "      <td>0.0</td>\n",
       "      <td>0.0</td>\n",
       "      <td>0.0</td>\n",
       "      <td>0.0</td>\n",
       "      <td>-1.0</td>\n",
       "      <td>8.450006</td>\n",
       "      <td>-1.0</td>\n",
       "    </tr>\n",
       "    <tr>\n",
       "      <th>46545</th>\n",
       "      <td>1536051600</td>\n",
       "      <td>40.65</td>\n",
       "      <td>-3.74</td>\n",
       "      <td>25.0</td>\n",
       "      <td>10</td>\n",
       "      <td>0.0</td>\n",
       "      <td>792.0</td>\n",
       "      <td>34.232497</td>\n",
       "      <td>16.871429</td>\n",
       "      <td>699.437286</td>\n",
       "      <td>...</td>\n",
       "      <td>1.55355</td>\n",
       "      <td>0.0</td>\n",
       "      <td>0.0</td>\n",
       "      <td>0.0</td>\n",
       "      <td>0.0</td>\n",
       "      <td>0.0</td>\n",
       "      <td>0.0</td>\n",
       "      <td>-2.099976</td>\n",
       "      <td>7.150018</td>\n",
       "      <td>0.0</td>\n",
       "    </tr>\n",
       "  </tbody>\n",
       "</table>\n",
       "<p>5 rows × 128 columns</p>\n",
       "</div>"
      ],
      "text/plain": [
       "0       fact_time fact_latitude fact_longitude fact_temperature  \\\n",
       "17968  1548024840       33.4608    -111.727997             23.0   \n",
       "32392  1546131000       38.1511        21.4256              4.0   \n",
       "9342   1554130800     41.060556      14.078889             17.0   \n",
       "7930   1542898800     43.907299        4.90183             15.0   \n",
       "46545  1536051600         40.65          -3.74             25.0   \n",
       "\n",
       "0     fact_cwsm_class gfs_total_clouds_cover_low_next topography_bathymetry  \\\n",
       "17968               0                             0.0                 415.0   \n",
       "32392              10                             0.0                  13.0   \n",
       "9342               10                             0.0                   6.0   \n",
       "7930                0                             1.0                  43.0   \n",
       "46545              10                             0.0                 792.0   \n",
       "\n",
       "0     sun_elevation climate_temperature climate_pressure  ...  \\\n",
       "17968     25.435328           14.219286       724.660785  ...   \n",
       "32392    -66.272332            9.300714       755.073676  ...   \n",
       "9342       26.09395           16.555714       760.032923  ...   \n",
       "7930      10.729241           14.544286       754.439604  ...   \n",
       "46545     34.232497           16.871429       699.437286  ...   \n",
       "\n",
       "0     cmc_0_1_65_0_next cmc_0_1_66_0_grad cmc_0_1_66_0_next cmc_0_1_67_0_grad  \\\n",
       "17968            0.0021               0.0               0.0               0.0   \n",
       "32392               0.0               0.0               0.0          0.012594   \n",
       "9342                0.0               0.0               0.0               0.0   \n",
       "7930            20.5697               0.0               0.0               0.0   \n",
       "46545           1.55355               0.0               0.0               0.0   \n",
       "\n",
       "0     cmc_0_1_67_0_next cmc_0_1_68_0_grad cmc_0_1_68_0_next  \\\n",
       "17968               0.0               0.0               0.0   \n",
       "32392          0.016259               0.0               0.0   \n",
       "9342                0.0               0.0               0.0   \n",
       "7930                0.0               0.0               0.0   \n",
       "46545               0.0               0.0               0.0   \n",
       "\n",
       "0     gfs_2m_dewpoint_grad gfs_2m_dewpoint_next  \\\n",
       "17968            -1.659729            -5.649847   \n",
       "32392            -0.126343             3.050012   \n",
       "9342             -0.104095             7.584283   \n",
       "7930                  -1.0             8.450006   \n",
       "46545            -2.099976             7.150018   \n",
       "\n",
       "0     gfs_total_clouds_cover_low_grad  \n",
       "17968                             0.0  \n",
       "32392                             0.0  \n",
       "9342                              0.0  \n",
       "7930                             -1.0  \n",
       "46545                             0.0  \n",
       "\n",
       "[5 rows x 128 columns]"
      ]
     },
     "execution_count": 23,
     "metadata": {},
     "output_type": "execute_result"
    }
   ],
   "source": [
    "X_train[categorical].head()"
   ]
  },
  {
   "cell_type": "code",
   "execution_count": 24,
   "metadata": {
    "execution": {
     "iopub.execute_input": "2022-12-15T19:29:53.464565Z",
     "iopub.status.busy": "2022-12-15T19:29:53.463464Z",
     "iopub.status.idle": "2022-12-15T19:29:53.470229Z",
     "shell.execute_reply": "2022-12-15T19:29:53.468750Z",
     "shell.execute_reply.started": "2022-12-15T19:29:53.464525Z"
    }
   },
   "outputs": [],
   "source": [
    "cols = X_train.columns"
   ]
  },
  {
   "cell_type": "code",
   "execution_count": 116,
   "metadata": {
    "execution": {
     "iopub.execute_input": "2022-12-15T19:29:53.472706Z",
     "iopub.status.busy": "2022-12-15T19:29:53.472333Z",
     "iopub.status.idle": "2022-12-15T19:29:53.482749Z",
     "shell.execute_reply": "2022-12-15T19:29:53.481376Z",
     "shell.execute_reply.started": "2022-12-15T19:29:53.472673Z"
    }
   },
   "outputs": [],
   "source": [
    "# from sklearn.preprocessing import RobustScaler\n",
    "\n",
    "# scaler = RobustScaler()\n",
    "\n",
    "# X_train = scaler.fit_transform(X_train)\n",
    "\n",
    "# X_test = scaler.transform(X_test)"
   ]
  },
  {
   "cell_type": "code",
   "execution_count": 117,
   "metadata": {
    "execution": {
     "iopub.execute_input": "2022-12-15T19:29:53.490649Z",
     "iopub.status.busy": "2022-12-15T19:29:53.490228Z",
     "iopub.status.idle": "2022-12-15T19:29:53.496335Z",
     "shell.execute_reply": "2022-12-15T19:29:53.494944Z",
     "shell.execute_reply.started": "2022-12-15T19:29:53.490613Z"
    }
   },
   "outputs": [],
   "source": [
    "# just rechanging the format to orignal to avoid mismatch errors\n",
    "# X_train = pd.DataFrame(X_train, columns=[cols])"
   ]
  },
  {
   "cell_type": "code",
   "execution_count": 118,
   "metadata": {
    "execution": {
     "iopub.execute_input": "2022-12-15T19:29:53.498996Z",
     "iopub.status.busy": "2022-12-15T19:29:53.498252Z",
     "iopub.status.idle": "2022-12-15T19:29:53.509933Z",
     "shell.execute_reply": "2022-12-15T19:29:53.508152Z",
     "shell.execute_reply.started": "2022-12-15T19:29:53.498945Z"
    }
   },
   "outputs": [],
   "source": [
    "# X_test = pd.DataFrame(X_test, columns=[cols])"
   ]
  },
  {
   "cell_type": "code",
   "execution_count": 119,
   "metadata": {
    "execution": {
     "iopub.execute_input": "2022-12-15T19:29:53.512152Z",
     "iopub.status.busy": "2022-12-15T19:29:53.511632Z",
     "iopub.status.idle": "2022-12-15T19:29:53.526460Z",
     "shell.execute_reply": "2022-12-15T19:29:53.524599Z",
     "shell.execute_reply.started": "2022-12-15T19:29:53.512100Z"
    }
   },
   "outputs": [],
   "source": [
    "# X_train.head()"
   ]
  },
  {
   "cell_type": "code",
   "execution_count": 25,
   "metadata": {
    "execution": {
     "iopub.execute_input": "2022-12-15T19:29:53.529535Z",
     "iopub.status.busy": "2022-12-15T19:29:53.528391Z",
     "iopub.status.idle": "2022-12-15T19:29:54.118641Z",
     "shell.execute_reply": "2022-12-15T19:29:54.117501Z",
     "shell.execute_reply.started": "2022-12-15T19:29:53.529478Z"
    }
   },
   "outputs": [
    {
     "data": {
      "text/html": [
       "<style>#sk-container-id-1 {color: black;background-color: white;}#sk-container-id-1 pre{padding: 0;}#sk-container-id-1 div.sk-toggleable {background-color: white;}#sk-container-id-1 label.sk-toggleable__label {cursor: pointer;display: block;width: 100%;margin-bottom: 0;padding: 0.3em;box-sizing: border-box;text-align: center;}#sk-container-id-1 label.sk-toggleable__label-arrow:before {content: \"▸\";float: left;margin-right: 0.25em;color: #696969;}#sk-container-id-1 label.sk-toggleable__label-arrow:hover:before {color: black;}#sk-container-id-1 div.sk-estimator:hover label.sk-toggleable__label-arrow:before {color: black;}#sk-container-id-1 div.sk-toggleable__content {max-height: 0;max-width: 0;overflow: hidden;text-align: left;background-color: #f0f8ff;}#sk-container-id-1 div.sk-toggleable__content pre {margin: 0.2em;color: black;border-radius: 0.25em;background-color: #f0f8ff;}#sk-container-id-1 input.sk-toggleable__control:checked~div.sk-toggleable__content {max-height: 200px;max-width: 100%;overflow: auto;}#sk-container-id-1 input.sk-toggleable__control:checked~label.sk-toggleable__label-arrow:before {content: \"▾\";}#sk-container-id-1 div.sk-estimator input.sk-toggleable__control:checked~label.sk-toggleable__label {background-color: #d4ebff;}#sk-container-id-1 div.sk-label input.sk-toggleable__control:checked~label.sk-toggleable__label {background-color: #d4ebff;}#sk-container-id-1 input.sk-hidden--visually {border: 0;clip: rect(1px 1px 1px 1px);clip: rect(1px, 1px, 1px, 1px);height: 1px;margin: -1px;overflow: hidden;padding: 0;position: absolute;width: 1px;}#sk-container-id-1 div.sk-estimator {font-family: monospace;background-color: #f0f8ff;border: 1px dotted black;border-radius: 0.25em;box-sizing: border-box;margin-bottom: 0.5em;}#sk-container-id-1 div.sk-estimator:hover {background-color: #d4ebff;}#sk-container-id-1 div.sk-parallel-item::after {content: \"\";width: 100%;border-bottom: 1px solid gray;flex-grow: 1;}#sk-container-id-1 div.sk-label:hover label.sk-toggleable__label {background-color: #d4ebff;}#sk-container-id-1 div.sk-serial::before {content: \"\";position: absolute;border-left: 1px solid gray;box-sizing: border-box;top: 0;bottom: 0;left: 50%;z-index: 0;}#sk-container-id-1 div.sk-serial {display: flex;flex-direction: column;align-items: center;background-color: white;padding-right: 0.2em;padding-left: 0.2em;position: relative;}#sk-container-id-1 div.sk-item {position: relative;z-index: 1;}#sk-container-id-1 div.sk-parallel {display: flex;align-items: stretch;justify-content: center;background-color: white;position: relative;}#sk-container-id-1 div.sk-item::before, #sk-container-id-1 div.sk-parallel-item::before {content: \"\";position: absolute;border-left: 1px solid gray;box-sizing: border-box;top: 0;bottom: 0;left: 50%;z-index: -1;}#sk-container-id-1 div.sk-parallel-item {display: flex;flex-direction: column;z-index: 1;position: relative;background-color: white;}#sk-container-id-1 div.sk-parallel-item:first-child::after {align-self: flex-end;width: 50%;}#sk-container-id-1 div.sk-parallel-item:last-child::after {align-self: flex-start;width: 50%;}#sk-container-id-1 div.sk-parallel-item:only-child::after {width: 0;}#sk-container-id-1 div.sk-dashed-wrapped {border: 1px dashed gray;margin: 0 0.4em 0.5em 0.4em;box-sizing: border-box;padding-bottom: 0.4em;background-color: white;}#sk-container-id-1 div.sk-label label {font-family: monospace;font-weight: bold;display: inline-block;line-height: 1.2em;}#sk-container-id-1 div.sk-label-container {text-align: center;}#sk-container-id-1 div.sk-container {/* jupyter's `normalize.less` sets `[hidden] { display: none; }` but bootstrap.min.css set `[hidden] { display: none !important; }` so we also need the `!important` here to be able to override the default hidden behavior on the sphinx rendered scikit-learn.org. See: https://github.com/scikit-learn/scikit-learn/issues/21755 */display: inline-block !important;position: relative;}#sk-container-id-1 div.sk-text-repr-fallback {display: none;}</style><div id=\"sk-container-id-1\" class=\"sk-top-container\"><div class=\"sk-text-repr-fallback\"><pre>GaussianNB()</pre><b>In a Jupyter environment, please rerun this cell to show the HTML representation or trust the notebook. <br />On GitHub, the HTML representation is unable to render, please try loading this page with nbviewer.org.</b></div><div class=\"sk-container\" hidden><div class=\"sk-item\"><div class=\"sk-estimator sk-toggleable\"><input class=\"sk-toggleable__control sk-hidden--visually\" id=\"sk-estimator-id-1\" type=\"checkbox\" checked><label for=\"sk-estimator-id-1\" class=\"sk-toggleable__label sk-toggleable__label-arrow\">GaussianNB</label><div class=\"sk-toggleable__content\"><pre>GaussianNB()</pre></div></div></div></div></div>"
      ],
      "text/plain": [
       "GaussianNB()"
      ]
     },
     "execution_count": 25,
     "metadata": {},
     "output_type": "execute_result"
    }
   ],
   "source": [
    "# train a Gaussian Naive Bayes classifier on the training set\n",
    "from sklearn.naive_bayes import GaussianNB\n",
    "\n",
    "\n",
    "# instantiate the model\n",
    "gnb = GaussianNB()\n",
    "\n",
    "\n",
    "# fit the model\n",
    "gnb.fit(X_train, y_train)"
   ]
  },
  {
   "cell_type": "code",
   "execution_count": 26,
   "metadata": {
    "execution": {
     "iopub.execute_input": "2022-12-15T19:29:54.121302Z",
     "iopub.status.busy": "2022-12-15T19:29:54.120156Z",
     "iopub.status.idle": "2022-12-15T19:29:54.356870Z",
     "shell.execute_reply": "2022-12-15T19:29:54.355500Z",
     "shell.execute_reply.started": "2022-12-15T19:29:54.121263Z"
    }
   },
   "outputs": [
    {
     "data": {
      "text/plain": [
       "array(['tropical', 'mild temperate', 'mild temperate', ...,\n",
       "       'mild temperate', 'tropical', 'mild temperate'], dtype='<U14')"
      ]
     },
     "execution_count": 26,
     "metadata": {},
     "output_type": "execute_result"
    }
   ],
   "source": [
    "y_pred = gnb.predict(X_test)\n",
    "\n",
    "y_pred"
   ]
  },
  {
   "cell_type": "code",
   "execution_count": 27,
   "metadata": {
    "execution": {
     "iopub.execute_input": "2022-12-15T19:29:54.358899Z",
     "iopub.status.busy": "2022-12-15T19:29:54.358556Z",
     "iopub.status.idle": "2022-12-15T19:29:54.380855Z",
     "shell.execute_reply": "2022-12-15T19:29:54.379428Z",
     "shell.execute_reply.started": "2022-12-15T19:29:54.358869Z"
    }
   },
   "outputs": [
    {
     "name": "stdout",
     "output_type": "stream",
     "text": [
      "Model accuracy score: 0.6981\n"
     ]
    }
   ],
   "source": [
    "from sklearn.metrics import accuracy_score\n",
    "\n",
    "print('Model accuracy score: {0:0.4f}'. format(accuracy_score(y_test, y_pred)))"
   ]
  },
  {
   "cell_type": "code",
   "execution_count": 28,
   "metadata": {
    "execution": {
     "iopub.execute_input": "2022-12-15T19:29:54.383058Z",
     "iopub.status.busy": "2022-12-15T19:29:54.382694Z",
     "iopub.status.idle": "2022-12-15T19:29:54.938292Z",
     "shell.execute_reply": "2022-12-15T19:29:54.937014Z",
     "shell.execute_reply.started": "2022-12-15T19:29:54.383026Z"
    }
   },
   "outputs": [
    {
     "data": {
      "text/plain": [
       "array(['mild temperate', 'mild temperate', 'tropical', ..., 'tropical',\n",
       "       'mild temperate', 'mild temperate'], dtype='<U14')"
      ]
     },
     "execution_count": 28,
     "metadata": {},
     "output_type": "execute_result"
    }
   ],
   "source": [
    "y_pred_train = gnb.predict(X_train)\n",
    "\n",
    "y_pred_train"
   ]
  },
  {
   "cell_type": "code",
   "execution_count": 29,
   "metadata": {
    "execution": {
     "iopub.execute_input": "2022-12-15T19:29:54.939988Z",
     "iopub.status.busy": "2022-12-15T19:29:54.939644Z",
     "iopub.status.idle": "2022-12-15T19:29:54.987039Z",
     "shell.execute_reply": "2022-12-15T19:29:54.985644Z",
     "shell.execute_reply.started": "2022-12-15T19:29:54.939959Z"
    }
   },
   "outputs": [
    {
     "name": "stdout",
     "output_type": "stream",
     "text": [
      "Training-set accuracy score: 0.6943\n"
     ]
    }
   ],
   "source": [
    "print('Training-set accuracy score: {0:0.4f}'. format(accuracy_score(y_train, y_pred_train)))"
   ]
  },
  {
   "cell_type": "code",
   "execution_count": 30,
   "metadata": {
    "execution": {
     "iopub.execute_input": "2022-12-15T19:29:54.988621Z",
     "iopub.status.busy": "2022-12-15T19:29:54.988252Z",
     "iopub.status.idle": "2022-12-15T19:29:55.810167Z",
     "shell.execute_reply": "2022-12-15T19:29:55.808837Z",
     "shell.execute_reply.started": "2022-12-15T19:29:54.988590Z"
    }
   },
   "outputs": [
    {
     "name": "stdout",
     "output_type": "stream",
     "text": [
      "Training set accuracy: 69.4286\n",
      "Test set accuracy: 69.8133\n"
     ]
    }
   ],
   "source": [
    "# print the scores on training and test set\n",
    "\n",
    "print('Training set accuracy: {:.4f}'.format(gnb.score(X_train, y_train)*100))\n",
    "\n",
    "print('Test set accuracy: {:.4f}'.format(gnb.score(X_test, y_test)*100))\n"
   ]
  },
  {
   "cell_type": "code",
   "execution_count": null,
   "metadata": {},
   "outputs": [],
   "source": []
  }
 ],
 "metadata": {
  "kernelspec": {
   "display_name": "Python 3 (ipykernel)",
   "language": "python",
   "name": "python3"
  },
  "language_info": {
   "codemirror_mode": {
    "name": "ipython",
    "version": 3
   },
   "file_extension": ".py",
   "mimetype": "text/x-python",
   "name": "python",
   "nbconvert_exporter": "python",
   "pygments_lexer": "ipython3",
   "version": "3.10.7"
  }
 },
 "nbformat": 4,
 "nbformat_minor": 4
}
