{
 "cells": [
  {
   "cell_type": "code",
   "execution_count": 4,
   "metadata": {
    "execution": {
     "iopub.execute_input": "2022-12-15T17:11:11.298485Z",
     "iopub.status.busy": "2022-12-15T17:11:11.297836Z",
     "iopub.status.idle": "2022-12-15T17:11:11.305957Z",
     "shell.execute_reply": "2022-12-15T17:11:11.304396Z",
     "shell.execute_reply.started": "2022-12-15T17:11:11.298422Z"
    }
   },
   "outputs": [],
   "source": [
    "from sklearn import datasets\n",
    "from sklearn.linear_model import LogisticRegression\n",
    "from sklearn.cluster import KMeans\n",
    "from sklearn.metrics import accuracy_score, roc_auc_score, roc_curve\n",
    "import pandas as pd\n",
    "import numpy as np\n",
    "import warnings\n",
    "\n",
    "warnings.filterwarnings('ignore')"
   ]
  },
  {
   "cell_type": "code",
   "execution_count": 5,
   "metadata": {
    "execution": {
     "iopub.execute_input": "2022-12-15T18:18:34.054461Z",
     "iopub.status.busy": "2022-12-15T18:18:34.053931Z",
     "iopub.status.idle": "2022-12-15T18:18:35.885833Z",
     "shell.execute_reply": "2022-12-15T18:18:35.884553Z",
     "shell.execute_reply.started": "2022-12-15T18:18:34.054415Z"
    }
   },
   "outputs": [],
   "source": [
    "data = 'dev_in.csv'\n",
    "\n",
    "df = pd.read_csv(data, header=None, sep=',')"
   ]
  },
  {
   "cell_type": "code",
   "execution_count": 6,
   "metadata": {
    "execution": {
     "iopub.execute_input": "2022-12-15T18:18:38.240669Z",
     "iopub.status.busy": "2022-12-15T18:18:38.239417Z",
     "iopub.status.idle": "2022-12-15T18:18:38.247965Z",
     "shell.execute_reply": "2022-12-15T18:18:38.246713Z",
     "shell.execute_reply.started": "2022-12-15T18:18:38.240624Z"
    }
   },
   "outputs": [
    {
     "data": {
      "text/plain": [
       "(50001, 129)"
      ]
     },
     "execution_count": 6,
     "metadata": {},
     "output_type": "execute_result"
    }
   ],
   "source": [
    "# view dimensions of dataset\n",
    "\n",
    "df.shape"
   ]
  },
  {
   "cell_type": "code",
   "execution_count": 7,
   "metadata": {
    "execution": {
     "iopub.execute_input": "2022-12-15T18:18:41.893983Z",
     "iopub.status.busy": "2022-12-15T18:18:41.893577Z",
     "iopub.status.idle": "2022-12-15T18:18:41.923863Z",
     "shell.execute_reply": "2022-12-15T18:18:41.922501Z",
     "shell.execute_reply.started": "2022-12-15T18:18:41.893951Z"
    }
   },
   "outputs": [
    {
     "data": {
      "text/html": [
       "<div>\n",
       "<style scoped>\n",
       "    .dataframe tbody tr th:only-of-type {\n",
       "        vertical-align: middle;\n",
       "    }\n",
       "\n",
       "    .dataframe tbody tr th {\n",
       "        vertical-align: top;\n",
       "    }\n",
       "\n",
       "    .dataframe thead th {\n",
       "        text-align: right;\n",
       "    }\n",
       "</style>\n",
       "<table border=\"1\" class=\"dataframe\">\n",
       "  <thead>\n",
       "    <tr style=\"text-align: right;\">\n",
       "      <th></th>\n",
       "      <th>0</th>\n",
       "      <th>1</th>\n",
       "      <th>2</th>\n",
       "      <th>3</th>\n",
       "      <th>4</th>\n",
       "      <th>5</th>\n",
       "      <th>6</th>\n",
       "      <th>7</th>\n",
       "      <th>8</th>\n",
       "      <th>9</th>\n",
       "      <th>...</th>\n",
       "      <th>119</th>\n",
       "      <th>120</th>\n",
       "      <th>121</th>\n",
       "      <th>122</th>\n",
       "      <th>123</th>\n",
       "      <th>124</th>\n",
       "      <th>125</th>\n",
       "      <th>126</th>\n",
       "      <th>127</th>\n",
       "      <th>128</th>\n",
       "    </tr>\n",
       "  </thead>\n",
       "  <tbody>\n",
       "    <tr>\n",
       "      <th>0</th>\n",
       "      <td>fact_time</td>\n",
       "      <td>fact_latitude</td>\n",
       "      <td>fact_longitude</td>\n",
       "      <td>fact_temperature</td>\n",
       "      <td>fact_cwsm_class</td>\n",
       "      <td>climate</td>\n",
       "      <td>topography_bathymetry</td>\n",
       "      <td>sun_elevation</td>\n",
       "      <td>climate_temperature</td>\n",
       "      <td>climate_pressure</td>\n",
       "      <td>...</td>\n",
       "      <td>cmc_0_1_66_0_grad</td>\n",
       "      <td>cmc_0_1_66_0_next</td>\n",
       "      <td>cmc_0_1_67_0_grad</td>\n",
       "      <td>cmc_0_1_67_0_next</td>\n",
       "      <td>cmc_0_1_68_0_grad</td>\n",
       "      <td>cmc_0_1_68_0_next</td>\n",
       "      <td>gfs_2m_dewpoint_grad</td>\n",
       "      <td>gfs_2m_dewpoint_next</td>\n",
       "      <td>gfs_total_clouds_cover_low_grad</td>\n",
       "      <td>gfs_total_clouds_cover_low_next</td>\n",
       "    </tr>\n",
       "    <tr>\n",
       "      <th>1</th>\n",
       "      <td>1539162000</td>\n",
       "      <td>-40.35</td>\n",
       "      <td>-9.88</td>\n",
       "      <td>11.0</td>\n",
       "      <td>10</td>\n",
       "      <td>tropical</td>\n",
       "      <td>-843.0</td>\n",
       "      <td>31.78248998153052</td>\n",
       "      <td>10.07071428571432</td>\n",
       "      <td>765.6312283014016</td>\n",
       "      <td>...</td>\n",
       "      <td>0.0</td>\n",
       "      <td>0.0</td>\n",
       "      <td>0.0</td>\n",
       "      <td>0.0</td>\n",
       "      <td>0.0</td>\n",
       "      <td>0.0</td>\n",
       "      <td>0.505035400390625</td>\n",
       "      <td>2.6475769042968977</td>\n",
       "      <td>2.0</td>\n",
       "      <td>2.0</td>\n",
       "    </tr>\n",
       "    <tr>\n",
       "      <th>2</th>\n",
       "      <td>1545006600</td>\n",
       "      <td>53.421299</td>\n",
       "      <td>-6.270070000000004</td>\n",
       "      <td>4.0</td>\n",
       "      <td>10</td>\n",
       "      <td>mild temperate</td>\n",
       "      <td>67.0</td>\n",
       "      <td>-59.69152145231892</td>\n",
       "      <td>7.005000000000032</td>\n",
       "      <td>752.8976150963312</td>\n",
       "      <td>...</td>\n",
       "      <td>0.0</td>\n",
       "      <td>0.0</td>\n",
       "      <td>0.0</td>\n",
       "      <td>0.0</td>\n",
       "      <td>0.0</td>\n",
       "      <td>0.0</td>\n",
       "      <td>-0.4000244140625</td>\n",
       "      <td>1.2499938964843975</td>\n",
       "      <td>0.0</td>\n",
       "      <td>0.0</td>\n",
       "    </tr>\n",
       "    <tr>\n",
       "      <th>3</th>\n",
       "      <td>1540094400</td>\n",
       "      <td>-19.7577</td>\n",
       "      <td>63.361</td>\n",
       "      <td>26.0</td>\n",
       "      <td>10</td>\n",
       "      <td>dry</td>\n",
       "      <td>6.0</td>\n",
       "      <td>35.250889085578635</td>\n",
       "      <td>23.32714285714289</td>\n",
       "      <td>763.1150163007375</td>\n",
       "      <td>...</td>\n",
       "      <td>0.0</td>\n",
       "      <td>0.0</td>\n",
       "      <td>0.0</td>\n",
       "      <td>0.0</td>\n",
       "      <td>0.0</td>\n",
       "      <td>0.0</td>\n",
       "      <td>0.100006103515625</td>\n",
       "      <td>21.05001220703128</td>\n",
       "      <td>-1.0</td>\n",
       "      <td>1.0</td>\n",
       "    </tr>\n",
       "    <tr>\n",
       "      <th>4</th>\n",
       "      <td>1552611600</td>\n",
       "      <td>35.245899</td>\n",
       "      <td>47.009201</td>\n",
       "      <td>5.0</td>\n",
       "      <td>10</td>\n",
       "      <td>mild temperate</td>\n",
       "      <td>1390.0</td>\n",
       "      <td>-23.755614985282445</td>\n",
       "      <td>3.1092857142857446</td>\n",
       "      <td>609.4193331163475</td>\n",
       "      <td>...</td>\n",
       "      <td>1.69672</td>\n",
       "      <td>5.1653</td>\n",
       "      <td>0.0</td>\n",
       "      <td>4.8750000000000006e-05</td>\n",
       "      <td>0.0</td>\n",
       "      <td>0.0</td>\n",
       "      <td>-1.5</td>\n",
       "      <td>-0.3499816894531022</td>\n",
       "      <td>-12.0</td>\n",
       "      <td>81.0</td>\n",
       "    </tr>\n",
       "  </tbody>\n",
       "</table>\n",
       "<p>5 rows × 129 columns</p>\n",
       "</div>"
      ],
      "text/plain": [
       "          0              1                   2                 3    \\\n",
       "0   fact_time  fact_latitude      fact_longitude  fact_temperature   \n",
       "1  1539162000         -40.35               -9.88              11.0   \n",
       "2  1545006600      53.421299  -6.270070000000004               4.0   \n",
       "3  1540094400       -19.7577              63.361              26.0   \n",
       "4  1552611600      35.245899           47.009201               5.0   \n",
       "\n",
       "               4               5                      6    \\\n",
       "0  fact_cwsm_class         climate  topography_bathymetry   \n",
       "1               10        tropical                 -843.0   \n",
       "2               10  mild temperate                   67.0   \n",
       "3               10             dry                    6.0   \n",
       "4               10  mild temperate                 1390.0   \n",
       "\n",
       "                   7                    8                  9    ...  \\\n",
       "0        sun_elevation  climate_temperature   climate_pressure  ...   \n",
       "1    31.78248998153052    10.07071428571432  765.6312283014016  ...   \n",
       "2   -59.69152145231892    7.005000000000032  752.8976150963312  ...   \n",
       "3   35.250889085578635    23.32714285714289  763.1150163007375  ...   \n",
       "4  -23.755614985282445   3.1092857142857446  609.4193331163475  ...   \n",
       "\n",
       "                 119                120                121  \\\n",
       "0  cmc_0_1_66_0_grad  cmc_0_1_66_0_next  cmc_0_1_67_0_grad   \n",
       "1                0.0                0.0                0.0   \n",
       "2                0.0                0.0                0.0   \n",
       "3                0.0                0.0                0.0   \n",
       "4            1.69672             5.1653                0.0   \n",
       "\n",
       "                      122                123                124  \\\n",
       "0       cmc_0_1_67_0_next  cmc_0_1_68_0_grad  cmc_0_1_68_0_next   \n",
       "1                     0.0                0.0                0.0   \n",
       "2                     0.0                0.0                0.0   \n",
       "3                     0.0                0.0                0.0   \n",
       "4  4.8750000000000006e-05                0.0                0.0   \n",
       "\n",
       "                    125                   126  \\\n",
       "0  gfs_2m_dewpoint_grad  gfs_2m_dewpoint_next   \n",
       "1     0.505035400390625    2.6475769042968977   \n",
       "2      -0.4000244140625    1.2499938964843975   \n",
       "3     0.100006103515625     21.05001220703128   \n",
       "4                  -1.5   -0.3499816894531022   \n",
       "\n",
       "                               127                              128  \n",
       "0  gfs_total_clouds_cover_low_grad  gfs_total_clouds_cover_low_next  \n",
       "1                              2.0                              2.0  \n",
       "2                              0.0                              0.0  \n",
       "3                             -1.0                              1.0  \n",
       "4                            -12.0                             81.0  \n",
       "\n",
       "[5 rows x 129 columns]"
      ]
     },
     "execution_count": 7,
     "metadata": {},
     "output_type": "execute_result"
    }
   ],
   "source": [
    "# preview the dataset\n",
    "\n",
    "df.head()"
   ]
  },
  {
   "cell_type": "code",
   "execution_count": 8,
   "metadata": {
    "execution": {
     "iopub.execute_input": "2022-12-15T18:18:46.026583Z",
     "iopub.status.busy": "2022-12-15T18:18:46.026064Z",
     "iopub.status.idle": "2022-12-15T18:18:46.036205Z",
     "shell.execute_reply": "2022-12-15T18:18:46.035024Z",
     "shell.execute_reply.started": "2022-12-15T18:18:46.026540Z"
    }
   },
   "outputs": [
    {
     "data": {
      "text/plain": [
       "Int64Index([  0,   1,   2,   3,   4,   5,   6,   7,   8,   9,\n",
       "            ...\n",
       "            119, 120, 121, 122, 123, 124, 125, 126, 127, 128],\n",
       "           dtype='int64', length=129)"
      ]
     },
     "execution_count": 8,
     "metadata": {},
     "output_type": "execute_result"
    }
   ],
   "source": [
    "df.columns"
   ]
  },
  {
   "cell_type": "code",
   "execution_count": 9,
   "metadata": {
    "execution": {
     "iopub.execute_input": "2022-12-15T18:18:49.030343Z",
     "iopub.status.busy": "2022-12-15T18:18:49.029863Z",
     "iopub.status.idle": "2022-12-15T18:18:49.037342Z",
     "shell.execute_reply": "2022-12-15T18:18:49.035982Z",
     "shell.execute_reply.started": "2022-12-15T18:18:49.030306Z"
    }
   },
   "outputs": [],
   "source": [
    "header_row = 0\n",
    "df.columns = df.iloc[header_row]\n",
    "df = df.tail(-1)"
   ]
  },
  {
   "cell_type": "code",
   "execution_count": 10,
   "metadata": {
    "execution": {
     "iopub.execute_input": "2022-12-15T18:18:52.929820Z",
     "iopub.status.busy": "2022-12-15T18:18:52.929384Z",
     "iopub.status.idle": "2022-12-15T18:18:53.004189Z",
     "shell.execute_reply": "2022-12-15T18:18:53.002969Z",
     "shell.execute_reply.started": "2022-12-15T18:18:52.929786Z"
    }
   },
   "outputs": [],
   "source": [
    "col_list = list(df.columns)\n",
    "x, y = col_list.index('climate'), col_list.index('gfs_total_clouds_cover_low_next')\n",
    "col_list[y], col_list[x] = col_list[x], col_list[y]\n",
    "df = df[col_list]"
   ]
  },
  {
   "cell_type": "code",
   "execution_count": 11,
   "metadata": {
    "execution": {
     "iopub.execute_input": "2022-12-15T18:18:56.985546Z",
     "iopub.status.busy": "2022-12-15T18:18:56.985037Z",
     "iopub.status.idle": "2022-12-15T18:18:56.993475Z",
     "shell.execute_reply": "2022-12-15T18:18:56.992206Z",
     "shell.execute_reply.started": "2022-12-15T18:18:56.985491Z"
    }
   },
   "outputs": [
    {
     "data": {
      "text/plain": [
       "Index(['fact_time', 'fact_latitude', 'fact_longitude', 'fact_temperature',\n",
       "       'fact_cwsm_class', 'gfs_total_clouds_cover_low_next',\n",
       "       'topography_bathymetry', 'sun_elevation', 'climate_temperature',\n",
       "       'climate_pressure',\n",
       "       ...\n",
       "       'cmc_0_1_66_0_grad', 'cmc_0_1_66_0_next', 'cmc_0_1_67_0_grad',\n",
       "       'cmc_0_1_67_0_next', 'cmc_0_1_68_0_grad', 'cmc_0_1_68_0_next',\n",
       "       'gfs_2m_dewpoint_grad', 'gfs_2m_dewpoint_next',\n",
       "       'gfs_total_clouds_cover_low_grad', 'climate'],\n",
       "      dtype='object', name=0, length=129)"
      ]
     },
     "execution_count": 11,
     "metadata": {},
     "output_type": "execute_result"
    }
   ],
   "source": [
    "df.columns"
   ]
  },
  {
   "cell_type": "code",
   "execution_count": 12,
   "metadata": {
    "execution": {
     "iopub.execute_input": "2022-12-15T18:19:01.795481Z",
     "iopub.status.busy": "2022-12-15T18:19:01.794931Z",
     "iopub.status.idle": "2022-12-15T18:19:01.821664Z",
     "shell.execute_reply": "2022-12-15T18:19:01.820226Z",
     "shell.execute_reply.started": "2022-12-15T18:19:01.795432Z"
    }
   },
   "outputs": [
    {
     "name": "stdout",
     "output_type": "stream",
     "text": [
      "<class 'pandas.core.frame.DataFrame'>\n",
      "RangeIndex: 50000 entries, 1 to 50000\n",
      "Columns: 129 entries, fact_time to climate\n",
      "dtypes: object(129)\n",
      "memory usage: 49.2+ MB\n"
     ]
    }
   ],
   "source": [
    "# view summary of dataset\n",
    "\n",
    "df.info()"
   ]
  },
  {
   "cell_type": "code",
   "execution_count": 13,
   "metadata": {
    "execution": {
     "iopub.execute_input": "2022-12-15T18:19:05.795791Z",
     "iopub.status.busy": "2022-12-15T18:19:05.795396Z",
     "iopub.status.idle": "2022-12-15T18:19:05.803367Z",
     "shell.execute_reply": "2022-12-15T18:19:05.802031Z",
     "shell.execute_reply.started": "2022-12-15T18:19:05.795758Z"
    }
   },
   "outputs": [],
   "source": [
    "# display categorical variables\n",
    "\n",
    "categorical = [col for col in df.columns if df[col].dtypes == 'O']"
   ]
  },
  {
   "cell_type": "code",
   "execution_count": 14,
   "metadata": {
    "execution": {
     "iopub.execute_input": "2022-12-15T18:19:09.825294Z",
     "iopub.status.busy": "2022-12-15T18:19:09.824896Z",
     "iopub.status.idle": "2022-12-15T18:19:10.178215Z",
     "shell.execute_reply": "2022-12-15T18:19:10.177240Z",
     "shell.execute_reply.started": "2022-12-15T18:19:09.825261Z"
    }
   },
   "outputs": [
    {
     "data": {
      "text/plain": [
       "0\n",
       "fact_time                          0.00000\n",
       "fact_latitude                      0.00000\n",
       "fact_longitude                     0.00000\n",
       "fact_temperature                   0.00000\n",
       "fact_cwsm_class                    0.00000\n",
       "                                    ...   \n",
       "cmc_0_1_68_0_next                  0.00062\n",
       "gfs_2m_dewpoint_grad               0.00014\n",
       "gfs_2m_dewpoint_next               0.00008\n",
       "gfs_total_clouds_cover_low_grad    0.00014\n",
       "climate                            0.00000\n",
       "Length: 129, dtype: float64"
      ]
     },
     "execution_count": 14,
     "metadata": {},
     "output_type": "execute_result"
    }
   ],
   "source": [
    "# print percentage of missing values in the categorical variables in data\n",
    "\n",
    "df[categorical].isnull().mean()"
   ]
  },
  {
   "cell_type": "code",
   "execution_count": 15,
   "metadata": {
    "execution": {
     "iopub.execute_input": "2022-12-15T18:19:14.183026Z",
     "iopub.status.busy": "2022-12-15T18:19:14.182447Z",
     "iopub.status.idle": "2022-12-15T18:19:14.802201Z",
     "shell.execute_reply": "2022-12-15T18:19:14.801302Z",
     "shell.execute_reply.started": "2022-12-15T18:19:14.182980Z"
    }
   },
   "outputs": [
    {
     "name": "stdout",
     "output_type": "stream",
     "text": [
      "gfs_total_clouds_cover_low_next 8e-05\n",
      "cmc_0_0_0_1000 0.00062\n",
      "cmc_0_0_0_2_grad 0.00062\n",
      "cmc_0_0_0_2_interpolated 0.00062\n",
      "cmc_0_0_0_2_next 0.00062\n",
      "cmc_0_0_0_2 0.00062\n",
      "cmc_0_0_0_500 0.00062\n",
      "cmc_0_0_0_700 0.00062\n",
      "cmc_0_0_0_850 0.00062\n",
      "cmc_0_0_0_925 0.00062\n",
      "cmc_0_0_6_2 0.00062\n",
      "cmc_0_0_7_1000 0.00062\n",
      "cmc_0_0_7_2 0.00062\n",
      "cmc_0_0_7_500 0.00062\n",
      "cmc_0_0_7_700 0.00062\n",
      "cmc_0_0_7_850 0.00062\n",
      "cmc_0_0_7_925 0.00062\n",
      "cmc_0_1_0_0 0.00062\n",
      "cmc_0_1_11_0 0.00062\n",
      "cmc_0_1_65_0 0.00062\n",
      "cmc_0_1_66_0 0.00062\n",
      "cmc_0_1_67_0 0.00062\n",
      "cmc_0_1_68_0 0.00062\n",
      "cmc_0_1_7_0 0.00062\n",
      "cmc_0_2_2_10 0.00062\n",
      "cmc_0_2_2_1000 0.00062\n",
      "cmc_0_2_2_500 0.00062\n",
      "cmc_0_2_2_700 0.00062\n",
      "cmc_0_2_2_850 0.00062\n",
      "cmc_0_2_2_925 0.00062\n",
      "cmc_0_2_3_10 0.00062\n",
      "cmc_0_2_3_1000 0.00062\n",
      "cmc_0_2_3_500 0.00062\n",
      "cmc_0_2_3_700 0.00062\n",
      "cmc_0_2_3_850 0.00062\n",
      "cmc_0_2_3_925 0.00062\n",
      "cmc_0_3_0_0 0.00062\n",
      "cmc_0_3_0_0_next 0.00062\n",
      "cmc_0_3_1_0 0.00062\n",
      "cmc_0_3_5_1000 0.00062\n",
      "cmc_0_3_5_500 0.00062\n",
      "cmc_0_3_5_700 0.00062\n",
      "cmc_0_3_5_850 0.00062\n",
      "cmc_0_3_5_925 0.00062\n",
      "cmc_0_6_1_0 0.00062\n",
      "cmc_horizon_h 0.00062\n",
      "cmc_precipitations 0.00062\n",
      "cmc_timedelta_s 0.00062\n",
      "gfs_2m_dewpoint 8e-05\n",
      "gfs_a_vorticity 8e-05\n",
      "gfs_cloudness 8e-05\n",
      "gfs_clouds_sea 8e-05\n",
      "gfs_horizon_h 2e-05\n",
      "gfs_humidity 8e-05\n",
      "gfs_precipitable_water 8e-05\n",
      "gfs_precipitations 8e-05\n",
      "gfs_pressure 8e-05\n",
      "gfs_r_velocity 8e-05\n",
      "gfs_temperature_10000 2e-05\n",
      "gfs_temperature_15000 2e-05\n",
      "gfs_temperature_20000 2e-05\n",
      "gfs_temperature_25000 2e-05\n",
      "gfs_temperature_30000 2e-05\n",
      "gfs_temperature_35000 2e-05\n",
      "gfs_temperature_40000 2e-05\n",
      "gfs_temperature_45000 2e-05\n",
      "gfs_temperature_5000 2e-05\n",
      "gfs_temperature_50000 2e-05\n",
      "gfs_temperature_55000 2e-05\n",
      "gfs_temperature_60000 2e-05\n",
      "gfs_temperature_65000 2e-05\n",
      "gfs_temperature_7000 2e-05\n",
      "gfs_temperature_70000 2e-05\n",
      "gfs_temperature_75000 2e-05\n",
      "gfs_temperature_80000 2e-05\n",
      "gfs_temperature_85000 2e-05\n",
      "gfs_temperature_90000 2e-05\n",
      "gfs_temperature_92500 2e-05\n",
      "gfs_temperature_95000 2e-05\n",
      "gfs_temperature_97500 8e-05\n",
      "gfs_temperature_sea 8e-05\n",
      "gfs_temperature_sea_grad 0.00014\n",
      "gfs_temperature_sea_interpolated 0.00014\n",
      "gfs_temperature_sea_next 8e-05\n",
      "gfs_timedelta_s 2e-05\n",
      "gfs_total_clouds_cover_high 8e-05\n",
      "gfs_total_clouds_cover_low 8e-05\n",
      "gfs_total_clouds_cover_middle 8e-05\n",
      "gfs_u_wind 8e-05\n",
      "gfs_v_wind 8e-05\n",
      "gfs_wind_speed 8e-05\n",
      "wrf_t2 0.05196\n",
      "wrf_t2_next 0.05196\n",
      "wrf_psfc 0.05196\n",
      "wrf_rh2 0.05196\n",
      "wrf_wind_u 0.05196\n",
      "wrf_wind_v 0.05196\n",
      "wrf_rain 0.05196\n",
      "wrf_snow 0.05196\n",
      "wrf_graupel 0.05196\n",
      "wrf_hail 0.05196\n",
      "wrf_t2_interpolated 0.05196\n",
      "wrf_t2_grad 0.05196\n",
      "cmc_0_1_65_0_grad 0.00062\n",
      "cmc_0_1_65_0_next 0.00062\n",
      "cmc_0_1_66_0_grad 0.00062\n",
      "cmc_0_1_66_0_next 0.00062\n",
      "cmc_0_1_67_0_grad 0.00062\n",
      "cmc_0_1_67_0_next 0.00062\n",
      "cmc_0_1_68_0_grad 0.00062\n",
      "cmc_0_1_68_0_next 0.00062\n",
      "gfs_2m_dewpoint_grad 0.00014\n",
      "gfs_2m_dewpoint_next 8e-05\n",
      "gfs_total_clouds_cover_low_grad 0.00014\n"
     ]
    }
   ],
   "source": [
    "# print categorical variables with missing data\n",
    "\n",
    "for col in categorical:\n",
    "    if df[col].isnull().mean()>0:\n",
    "        print(col, (df[col].isnull().mean()))"
   ]
  },
  {
   "cell_type": "code",
   "execution_count": 16,
   "metadata": {
    "execution": {
     "iopub.execute_input": "2022-12-15T18:19:20.839967Z",
     "iopub.status.busy": "2022-12-15T18:19:20.839584Z",
     "iopub.status.idle": "2022-12-15T18:19:23.011900Z",
     "shell.execute_reply": "2022-12-15T18:19:23.010598Z",
     "shell.execute_reply.started": "2022-12-15T18:19:20.839936Z"
    }
   },
   "outputs": [],
   "source": [
    "# impute missing categorical variables with most frequent value\n",
    "\n",
    "for col in categorical:\n",
    "    if df[col].isnull().mean()>0:\n",
    "        df[col].fillna(df[col].mode()[0], inplace=True) "
   ]
  },
  {
   "cell_type": "code",
   "execution_count": 17,
   "metadata": {
    "execution": {
     "iopub.execute_input": "2022-12-15T17:31:40.540931Z",
     "iopub.status.busy": "2022-12-15T17:31:40.540156Z",
     "iopub.status.idle": "2022-12-15T17:31:40.572844Z",
     "shell.execute_reply": "2022-12-15T17:31:40.571668Z",
     "shell.execute_reply.started": "2022-12-15T17:31:40.540885Z"
    }
   },
   "outputs": [
    {
     "data": {
      "text/html": [
       "<div>\n",
       "<style scoped>\n",
       "    .dataframe tbody tr th:only-of-type {\n",
       "        vertical-align: middle;\n",
       "    }\n",
       "\n",
       "    .dataframe tbody tr th {\n",
       "        vertical-align: top;\n",
       "    }\n",
       "\n",
       "    .dataframe thead th {\n",
       "        text-align: right;\n",
       "    }\n",
       "</style>\n",
       "<table border=\"1\" class=\"dataframe\">\n",
       "  <thead>\n",
       "    <tr style=\"text-align: right;\">\n",
       "      <th></th>\n",
       "      <th>fact_time</th>\n",
       "      <th>fact_latitude</th>\n",
       "      <th>fact_longitude</th>\n",
       "      <th>fact_temperature</th>\n",
       "      <th>fact_cwsm_class</th>\n",
       "      <th>gfs_total_clouds_cover_low_next</th>\n",
       "      <th>topography_bathymetry</th>\n",
       "      <th>sun_elevation</th>\n",
       "      <th>climate_temperature</th>\n",
       "      <th>climate_pressure</th>\n",
       "      <th>...</th>\n",
       "      <th>cmc_0_1_66_0_grad</th>\n",
       "      <th>cmc_0_1_66_0_next</th>\n",
       "      <th>cmc_0_1_67_0_grad</th>\n",
       "      <th>cmc_0_1_67_0_next</th>\n",
       "      <th>cmc_0_1_68_0_grad</th>\n",
       "      <th>cmc_0_1_68_0_next</th>\n",
       "      <th>gfs_2m_dewpoint_grad</th>\n",
       "      <th>gfs_2m_dewpoint_next</th>\n",
       "      <th>gfs_total_clouds_cover_low_grad</th>\n",
       "      <th>climate</th>\n",
       "    </tr>\n",
       "  </thead>\n",
       "  <tbody>\n",
       "    <tr>\n",
       "      <th>1</th>\n",
       "      <td>1539162000</td>\n",
       "      <td>-40.35</td>\n",
       "      <td>-9.88</td>\n",
       "      <td>11.0</td>\n",
       "      <td>10</td>\n",
       "      <td>2.0</td>\n",
       "      <td>-843.0</td>\n",
       "      <td>31.78248998153052</td>\n",
       "      <td>10.07071428571432</td>\n",
       "      <td>765.6312283014016</td>\n",
       "      <td>...</td>\n",
       "      <td>0.0</td>\n",
       "      <td>0.0</td>\n",
       "      <td>0.0</td>\n",
       "      <td>0.0</td>\n",
       "      <td>0.0</td>\n",
       "      <td>0.0</td>\n",
       "      <td>0.505035400390625</td>\n",
       "      <td>2.6475769042968977</td>\n",
       "      <td>2.0</td>\n",
       "      <td>tropical</td>\n",
       "    </tr>\n",
       "    <tr>\n",
       "      <th>2</th>\n",
       "      <td>1545006600</td>\n",
       "      <td>53.421299</td>\n",
       "      <td>-6.270070000000004</td>\n",
       "      <td>4.0</td>\n",
       "      <td>10</td>\n",
       "      <td>0.0</td>\n",
       "      <td>67.0</td>\n",
       "      <td>-59.69152145231892</td>\n",
       "      <td>7.005000000000032</td>\n",
       "      <td>752.8976150963312</td>\n",
       "      <td>...</td>\n",
       "      <td>0.0</td>\n",
       "      <td>0.0</td>\n",
       "      <td>0.0</td>\n",
       "      <td>0.0</td>\n",
       "      <td>0.0</td>\n",
       "      <td>0.0</td>\n",
       "      <td>-0.4000244140625</td>\n",
       "      <td>1.2499938964843975</td>\n",
       "      <td>0.0</td>\n",
       "      <td>mild temperate</td>\n",
       "    </tr>\n",
       "    <tr>\n",
       "      <th>3</th>\n",
       "      <td>1540094400</td>\n",
       "      <td>-19.7577</td>\n",
       "      <td>63.361</td>\n",
       "      <td>26.0</td>\n",
       "      <td>10</td>\n",
       "      <td>1.0</td>\n",
       "      <td>6.0</td>\n",
       "      <td>35.250889085578635</td>\n",
       "      <td>23.32714285714289</td>\n",
       "      <td>763.1150163007375</td>\n",
       "      <td>...</td>\n",
       "      <td>0.0</td>\n",
       "      <td>0.0</td>\n",
       "      <td>0.0</td>\n",
       "      <td>0.0</td>\n",
       "      <td>0.0</td>\n",
       "      <td>0.0</td>\n",
       "      <td>0.100006103515625</td>\n",
       "      <td>21.05001220703128</td>\n",
       "      <td>-1.0</td>\n",
       "      <td>dry</td>\n",
       "    </tr>\n",
       "    <tr>\n",
       "      <th>4</th>\n",
       "      <td>1552611600</td>\n",
       "      <td>35.245899</td>\n",
       "      <td>47.009201</td>\n",
       "      <td>5.0</td>\n",
       "      <td>10</td>\n",
       "      <td>81.0</td>\n",
       "      <td>1390.0</td>\n",
       "      <td>-23.755614985282445</td>\n",
       "      <td>3.1092857142857446</td>\n",
       "      <td>609.4193331163475</td>\n",
       "      <td>...</td>\n",
       "      <td>1.69672</td>\n",
       "      <td>5.1653</td>\n",
       "      <td>0.0</td>\n",
       "      <td>4.8750000000000006e-05</td>\n",
       "      <td>0.0</td>\n",
       "      <td>0.0</td>\n",
       "      <td>-1.5</td>\n",
       "      <td>-0.3499816894531022</td>\n",
       "      <td>-12.0</td>\n",
       "      <td>mild temperate</td>\n",
       "    </tr>\n",
       "    <tr>\n",
       "      <th>5</th>\n",
       "      <td>1545631200</td>\n",
       "      <td>26.633333</td>\n",
       "      <td>118.15</td>\n",
       "      <td>14.0</td>\n",
       "      <td>20</td>\n",
       "      <td>83.0</td>\n",
       "      <td>210.0</td>\n",
       "      <td>33.04043798862271</td>\n",
       "      <td>12.172142857142884</td>\n",
       "      <td>734.6780370001287</td>\n",
       "      <td>...</td>\n",
       "      <td>0.0</td>\n",
       "      <td>0.0</td>\n",
       "      <td>0.0</td>\n",
       "      <td>0.0</td>\n",
       "      <td>0.0</td>\n",
       "      <td>0.0</td>\n",
       "      <td>0.102081298828125</td>\n",
       "      <td>11.513879394531273</td>\n",
       "      <td>-15.0</td>\n",
       "      <td>mild temperate</td>\n",
       "    </tr>\n",
       "  </tbody>\n",
       "</table>\n",
       "<p>5 rows × 129 columns</p>\n",
       "</div>"
      ],
      "text/plain": [
       "0   fact_time fact_latitude      fact_longitude fact_temperature  \\\n",
       "1  1539162000        -40.35               -9.88             11.0   \n",
       "2  1545006600     53.421299  -6.270070000000004              4.0   \n",
       "3  1540094400      -19.7577              63.361             26.0   \n",
       "4  1552611600     35.245899           47.009201              5.0   \n",
       "5  1545631200     26.633333              118.15             14.0   \n",
       "\n",
       "0 fact_cwsm_class gfs_total_clouds_cover_low_next topography_bathymetry  \\\n",
       "1              10                             2.0                -843.0   \n",
       "2              10                             0.0                  67.0   \n",
       "3              10                             1.0                   6.0   \n",
       "4              10                            81.0                1390.0   \n",
       "5              20                            83.0                 210.0   \n",
       "\n",
       "0        sun_elevation climate_temperature   climate_pressure  ...  \\\n",
       "1    31.78248998153052   10.07071428571432  765.6312283014016  ...   \n",
       "2   -59.69152145231892   7.005000000000032  752.8976150963312  ...   \n",
       "3   35.250889085578635   23.32714285714289  763.1150163007375  ...   \n",
       "4  -23.755614985282445  3.1092857142857446  609.4193331163475  ...   \n",
       "5    33.04043798862271  12.172142857142884  734.6780370001287  ...   \n",
       "\n",
       "0 cmc_0_1_66_0_grad cmc_0_1_66_0_next cmc_0_1_67_0_grad  \\\n",
       "1               0.0               0.0               0.0   \n",
       "2               0.0               0.0               0.0   \n",
       "3               0.0               0.0               0.0   \n",
       "4           1.69672            5.1653               0.0   \n",
       "5               0.0               0.0               0.0   \n",
       "\n",
       "0       cmc_0_1_67_0_next cmc_0_1_68_0_grad cmc_0_1_68_0_next  \\\n",
       "1                     0.0               0.0               0.0   \n",
       "2                     0.0               0.0               0.0   \n",
       "3                     0.0               0.0               0.0   \n",
       "4  4.8750000000000006e-05               0.0               0.0   \n",
       "5                     0.0               0.0               0.0   \n",
       "\n",
       "0 gfs_2m_dewpoint_grad gfs_2m_dewpoint_next gfs_total_clouds_cover_low_grad  \\\n",
       "1    0.505035400390625   2.6475769042968977                             2.0   \n",
       "2     -0.4000244140625   1.2499938964843975                             0.0   \n",
       "3    0.100006103515625    21.05001220703128                            -1.0   \n",
       "4                 -1.5  -0.3499816894531022                           -12.0   \n",
       "5    0.102081298828125   11.513879394531273                           -15.0   \n",
       "\n",
       "0         climate  \n",
       "1        tropical  \n",
       "2  mild temperate  \n",
       "3             dry  \n",
       "4  mild temperate  \n",
       "5  mild temperate  \n",
       "\n",
       "[5 rows x 129 columns]"
      ]
     },
     "execution_count": 17,
     "metadata": {},
     "output_type": "execute_result"
    }
   ],
   "source": [
    "df.head()"
   ]
  },
  {
   "cell_type": "code",
   "execution_count": 18,
   "metadata": {
    "execution": {
     "iopub.execute_input": "2022-12-15T17:16:13.171195Z",
     "iopub.status.busy": "2022-12-15T17:16:13.170254Z",
     "iopub.status.idle": "2022-12-15T17:16:13.178701Z",
     "shell.execute_reply": "2022-12-15T17:16:13.177575Z",
     "shell.execute_reply.started": "2022-12-15T17:16:13.171143Z"
    }
   },
   "outputs": [
    {
     "data": {
      "text/plain": [
       "(50000, 129)"
      ]
     },
     "execution_count": 18,
     "metadata": {},
     "output_type": "execute_result"
    }
   ],
   "source": [
    "df.shape"
   ]
  },
  {
   "cell_type": "code",
   "execution_count": 19,
   "metadata": {
    "execution": {
     "iopub.execute_input": "2022-12-15T18:23:09.219323Z",
     "iopub.status.busy": "2022-12-15T18:23:09.218838Z",
     "iopub.status.idle": "2022-12-15T18:23:09.436957Z",
     "shell.execute_reply": "2022-12-15T18:23:09.435634Z",
     "shell.execute_reply.started": "2022-12-15T18:23:09.219287Z"
    }
   },
   "outputs": [],
   "source": [
    "from sklearn.preprocessing import StandardScaler\n",
    "\n",
    "scaler = StandardScaler()\n",
    "\n",
    "cols = df.columns[:128]\n",
    "df[cols] = scaler.fit_transform(df[cols])"
   ]
  },
  {
   "cell_type": "code",
   "execution_count": 20,
   "metadata": {
    "execution": {
     "iopub.execute_input": "2022-12-15T18:23:14.996895Z",
     "iopub.status.busy": "2022-12-15T18:23:14.996439Z",
     "iopub.status.idle": "2022-12-15T18:23:18.090429Z",
     "shell.execute_reply": "2022-12-15T18:23:18.088428Z",
     "shell.execute_reply.started": "2022-12-15T18:23:14.996861Z"
    }
   },
   "outputs": [
    {
     "name": "stdout",
     "output_type": "stream",
     "text": [
      "[2 2 1 ... 2 0 1]\n"
     ]
    }
   ],
   "source": [
    "def cluster_1_label(alpha):\n",
    "    if alpha == 0:\n",
    "        return 'mild temperate'\n",
    "    if alpha == 1:\n",
    "        return 'dry'\n",
    "    if alpha == 2:\n",
    "        return 'tropical'\n",
    "\n",
    "kmeans_model_1 = KMeans(n_clusters=3,random_state=123)\n",
    "distances_1 = kmeans_model_1.fit_transform(df.iloc[:,0:128])\n",
    "labels_1 = kmeans_model_1.labels_\n",
    "print (labels_1)\n",
    "df['cluster_1']=labels_1\n",
    "df['cluster_1_label']=df['cluster_1'].apply(cluster_1_label)"
   ]
  },
  {
   "cell_type": "code",
   "execution_count": 21,
   "metadata": {
    "execution": {
     "iopub.execute_input": "2022-12-15T18:23:20.431131Z",
     "iopub.status.busy": "2022-12-15T18:23:20.430611Z",
     "iopub.status.idle": "2022-12-15T18:23:20.458048Z",
     "shell.execute_reply": "2022-12-15T18:23:20.456645Z",
     "shell.execute_reply.started": "2022-12-15T18:23:20.431085Z"
    }
   },
   "outputs": [
    {
     "name": "stdout",
     "output_type": "stream",
     "text": [
      "K=3 KMeans -> 38.0560%\n"
     ]
    }
   ],
   "source": [
    "# true results / total results for accuracy\n",
    "cluster_1_accuracy = len(df[df['climate']==df['cluster_1_label']])/len(df)\n",
    "print('K=3 KMeans -> {0:.4f}%'.format(cluster_1_accuracy*100))"
   ]
  },
  {
   "cell_type": "code",
   "execution_count": 22,
   "metadata": {
    "execution": {
     "iopub.execute_input": "2022-12-15T18:23:29.069970Z",
     "iopub.status.busy": "2022-12-15T18:23:29.069448Z",
     "iopub.status.idle": "2022-12-15T18:23:29.106001Z",
     "shell.execute_reply": "2022-12-15T18:23:29.104621Z",
     "shell.execute_reply.started": "2022-12-15T18:23:29.069928Z"
    }
   },
   "outputs": [
    {
     "data": {
      "text/html": [
       "<div>\n",
       "<style scoped>\n",
       "    .dataframe tbody tr th:only-of-type {\n",
       "        vertical-align: middle;\n",
       "    }\n",
       "\n",
       "    .dataframe tbody tr th {\n",
       "        vertical-align: top;\n",
       "    }\n",
       "\n",
       "    .dataframe thead th {\n",
       "        text-align: right;\n",
       "    }\n",
       "</style>\n",
       "<table border=\"1\" class=\"dataframe\">\n",
       "  <thead>\n",
       "    <tr style=\"text-align: right;\">\n",
       "      <th>col_0</th>\n",
       "      <th>0</th>\n",
       "      <th>1</th>\n",
       "      <th>2</th>\n",
       "    </tr>\n",
       "    <tr>\n",
       "      <th>climate</th>\n",
       "      <th></th>\n",
       "      <th></th>\n",
       "      <th></th>\n",
       "    </tr>\n",
       "  </thead>\n",
       "  <tbody>\n",
       "    <tr>\n",
       "      <th>dry</th>\n",
       "      <td>4225</td>\n",
       "      <td>4186</td>\n",
       "      <td>2550</td>\n",
       "    </tr>\n",
       "    <tr>\n",
       "      <th>mild temperate</th>\n",
       "      <td>14818</td>\n",
       "      <td>7832</td>\n",
       "      <td>9748</td>\n",
       "    </tr>\n",
       "    <tr>\n",
       "      <th>tropical</th>\n",
       "      <td>61</td>\n",
       "      <td>6556</td>\n",
       "      <td>24</td>\n",
       "    </tr>\n",
       "  </tbody>\n",
       "</table>\n",
       "</div>"
      ],
      "text/plain": [
       "col_0               0     1     2\n",
       "climate                          \n",
       "dry              4225  4186  2550\n",
       "mild temperate  14818  7832  9748\n",
       "tropical           61  6556    24"
      ]
     },
     "execution_count": 22,
     "metadata": {},
     "output_type": "execute_result"
    }
   ],
   "source": [
    "# identifying actual result to cluster mapping -> \n",
    "# not satisfactory as the error values are near to correct once\n",
    "pd.crosstab(df['climate'],labels_1)"
   ]
  },
  {
   "cell_type": "code",
   "execution_count": 23,
   "metadata": {
    "execution": {
     "iopub.execute_input": "2022-12-15T19:15:46.163984Z",
     "iopub.status.busy": "2022-12-15T19:15:46.162824Z",
     "iopub.status.idle": "2022-12-15T19:16:07.565860Z",
     "shell.execute_reply": "2022-12-15T19:16:07.564629Z",
     "shell.execute_reply.started": "2022-12-15T19:15:46.163931Z"
    }
   },
   "outputs": [],
   "source": [
    "# changing the k value from 3 to 21 to get better accuracy\n",
    "def cluster_2_label(alpha):\n",
    "    if alpha in [2,5,3,7,8,9,10,11,14,16,17,18,19,20]:\n",
    "        return 'mild temperate'\n",
    "    if alpha in [0,1,4,6,13]:\n",
    "        return 'dry'\n",
    "    if alpha in [12,15]:\n",
    "        return 'tropical'\n",
    "kmeans_model_2 = KMeans(n_clusters=21,random_state=123)\n",
    "distances_2 = kmeans_model_2.fit_transform(df.iloc[:,0:128])\n",
    "labels_2 = kmeans_model_2.labels_\n",
    "df['cluster_2']=labels_2\n",
    "df['cluster_2_label']=df['cluster_2'].apply(cluster_2_label)"
   ]
  },
  {
   "cell_type": "code",
   "execution_count": 24,
   "metadata": {
    "execution": {
     "iopub.execute_input": "2022-12-15T19:16:12.685398Z",
     "iopub.status.busy": "2022-12-15T19:16:12.683808Z",
     "iopub.status.idle": "2022-12-15T19:16:12.718002Z",
     "shell.execute_reply": "2022-12-15T19:16:12.716570Z",
     "shell.execute_reply.started": "2022-12-15T19:16:12.685338Z"
    }
   },
   "outputs": [
    {
     "name": "stdout",
     "output_type": "stream",
     "text": [
      "K=21 KMeans -> 68.9000%\n"
     ]
    }
   ],
   "source": [
    "cluster_2_accuracy = len(df[df['climate']==df['cluster_2_label']])/len(df)\n",
    "print('K=21 KMeans -> {0:.4f}%'.format(cluster_2_accuracy*100))"
   ]
  },
  {
   "cell_type": "code",
   "execution_count": 25,
   "metadata": {
    "execution": {
     "iopub.execute_input": "2022-12-15T19:16:38.246496Z",
     "iopub.status.busy": "2022-12-15T19:16:38.245959Z",
     "iopub.status.idle": "2022-12-15T19:16:38.773740Z",
     "shell.execute_reply": "2022-12-15T19:16:38.772570Z",
     "shell.execute_reply.started": "2022-12-15T19:16:38.246450Z"
    }
   },
   "outputs": [
    {
     "data": {
      "text/plain": [
       "<AxesSubplot:xlabel='climate'>"
      ]
     },
     "execution_count": 25,
     "metadata": {},
     "output_type": "execute_result"
    },
    {
     "data": {
      "image/png": "[encoded data removed]",
      "text/plain": [
       "<Figure size 640x480 with 1 Axes>"
      ]
     },
     "metadata": {},
     "output_type": "display_data"
    }
   ],
   "source": [
    "# again identifying but still rult not satisfactory\n",
    "cross_tb = pd.crosstab(df['climate'],labels_2)\n",
    "cross_tb.plot(kind=\"bar\", stacked=True)\n",
    "# cross_tb"
   ]
  },
  {
   "cell_type": "code",
   "execution_count": 26,
   "metadata": {
    "execution": {
     "iopub.execute_input": "2022-12-15T19:16:51.823891Z",
     "iopub.status.busy": "2022-12-15T19:16:51.822506Z",
     "iopub.status.idle": "2022-12-15T19:16:51.872577Z",
     "shell.execute_reply": "2022-12-15T19:16:51.871408Z",
     "shell.execute_reply.started": "2022-12-15T19:16:51.823836Z"
    }
   },
   "outputs": [
    {
     "data": {
      "text/html": [
       "<div>\n",
       "<style scoped>\n",
       "    .dataframe tbody tr th:only-of-type {\n",
       "        vertical-align: middle;\n",
       "    }\n",
       "\n",
       "    .dataframe tbody tr th {\n",
       "        vertical-align: top;\n",
       "    }\n",
       "\n",
       "    .dataframe thead th {\n",
       "        text-align: right;\n",
       "    }\n",
       "</style>\n",
       "<table border=\"1\" class=\"dataframe\">\n",
       "  <thead>\n",
       "    <tr style=\"text-align: right;\">\n",
       "      <th></th>\n",
       "      <th>fact_time</th>\n",
       "      <th>fact_latitude</th>\n",
       "      <th>fact_longitude</th>\n",
       "      <th>fact_temperature</th>\n",
       "      <th>fact_cwsm_class</th>\n",
       "      <th>gfs_total_clouds_cover_low_next</th>\n",
       "      <th>topography_bathymetry</th>\n",
       "      <th>sun_elevation</th>\n",
       "      <th>climate_temperature</th>\n",
       "      <th>climate_pressure</th>\n",
       "      <th>...</th>\n",
       "      <th>gfs_2m_dewpoint_next</th>\n",
       "      <th>gfs_total_clouds_cover_low_grad</th>\n",
       "      <th>climate</th>\n",
       "      <th>cluster_1</th>\n",
       "      <th>cluster_1_label</th>\n",
       "      <th>cluster_2</th>\n",
       "      <th>cluster_2_label</th>\n",
       "      <th>actual_climate_dry</th>\n",
       "      <th>actual_climate_mild temperate</th>\n",
       "      <th>actual_climate_tropical</th>\n",
       "    </tr>\n",
       "  </thead>\n",
       "  <tbody>\n",
       "    <tr>\n",
       "      <th>1</th>\n",
       "      <td>-1.111992</td>\n",
       "      <td>-3.029339</td>\n",
       "      <td>0.121829</td>\n",
       "      <td>-0.400290</td>\n",
       "      <td>0.117478</td>\n",
       "      <td>-0.506114</td>\n",
       "      <td>-2.285486</td>\n",
       "      <td>0.896105</td>\n",
       "      <td>-0.558213</td>\n",
       "      <td>0.789094</td>\n",
       "      <td>...</td>\n",
       "      <td>-0.529164</td>\n",
       "      <td>0.113340</td>\n",
       "      <td>tropical</td>\n",
       "      <td>2</td>\n",
       "      <td>tropical</td>\n",
       "      <td>2</td>\n",
       "      <td>mild temperate</td>\n",
       "      <td>0</td>\n",
       "      <td>0</td>\n",
       "      <td>1</td>\n",
       "    </tr>\n",
       "    <tr>\n",
       "      <th>2</th>\n",
       "      <td>-0.043303</td>\n",
       "      <td>1.172737</td>\n",
       "      <td>0.168344</td>\n",
       "      <td>-1.079298</td>\n",
       "      <td>0.117478</td>\n",
       "      <td>-0.568584</td>\n",
       "      <td>-0.476893</td>\n",
       "      <td>-1.500677</td>\n",
       "      <td>-0.897923</td>\n",
       "      <td>0.494443</td>\n",
       "      <td>...</td>\n",
       "      <td>-0.668759</td>\n",
       "      <td>0.001706</td>\n",
       "      <td>mild temperate</td>\n",
       "      <td>2</td>\n",
       "      <td>tropical</td>\n",
       "      <td>17</td>\n",
       "      <td>mild temperate</td>\n",
       "      <td>0</td>\n",
       "      <td>1</td>\n",
       "      <td>0</td>\n",
       "    </tr>\n",
       "    <tr>\n",
       "      <th>3</th>\n",
       "      <td>-0.941502</td>\n",
       "      <td>-2.106558</td>\n",
       "      <td>1.065556</td>\n",
       "      <td>1.054726</td>\n",
       "      <td>0.117478</td>\n",
       "      <td>-0.537349</td>\n",
       "      <td>-0.598128</td>\n",
       "      <td>0.986984</td>\n",
       "      <td>0.910725</td>\n",
       "      <td>0.730870</td>\n",
       "      <td>...</td>\n",
       "      <td>1.308924</td>\n",
       "      <td>-0.054111</td>\n",
       "      <td>dry</td>\n",
       "      <td>1</td>\n",
       "      <td>dry</td>\n",
       "      <td>12</td>\n",
       "      <td>tropical</td>\n",
       "      <td>1</td>\n",
       "      <td>0</td>\n",
       "      <td>0</td>\n",
       "    </tr>\n",
       "    <tr>\n",
       "      <th>4</th>\n",
       "      <td>1.347277</td>\n",
       "      <td>0.358261</td>\n",
       "      <td>0.854859</td>\n",
       "      <td>-0.982297</td>\n",
       "      <td>0.117478</td>\n",
       "      <td>1.961444</td>\n",
       "      <td>2.152524</td>\n",
       "      <td>-0.559092</td>\n",
       "      <td>-1.329605</td>\n",
       "      <td>-2.825585</td>\n",
       "      <td>...</td>\n",
       "      <td>-0.828569</td>\n",
       "      <td>-0.668098</td>\n",
       "      <td>mild temperate</td>\n",
       "      <td>2</td>\n",
       "      <td>tropical</td>\n",
       "      <td>19</td>\n",
       "      <td>mild temperate</td>\n",
       "      <td>0</td>\n",
       "      <td>1</td>\n",
       "      <td>0</td>\n",
       "    </tr>\n",
       "    <tr>\n",
       "      <th>5</th>\n",
       "      <td>0.070906</td>\n",
       "      <td>-0.027685</td>\n",
       "      <td>1.771524</td>\n",
       "      <td>-0.109287</td>\n",
       "      <td>1.352347</td>\n",
       "      <td>2.023914</td>\n",
       "      <td>-0.192685</td>\n",
       "      <td>0.929066</td>\n",
       "      <td>-0.325355</td>\n",
       "      <td>0.072850</td>\n",
       "      <td>...</td>\n",
       "      <td>0.356428</td>\n",
       "      <td>-0.835550</td>\n",
       "      <td>mild temperate</td>\n",
       "      <td>0</td>\n",
       "      <td>mild temperate</td>\n",
       "      <td>11</td>\n",
       "      <td>mild temperate</td>\n",
       "      <td>0</td>\n",
       "      <td>1</td>\n",
       "      <td>0</td>\n",
       "    </tr>\n",
       "  </tbody>\n",
       "</table>\n",
       "<p>5 rows × 136 columns</p>\n",
       "</div>"
      ],
      "text/plain": [
       "   fact_time  fact_latitude  fact_longitude  fact_temperature  \\\n",
       "1  -1.111992      -3.029339        0.121829         -0.400290   \n",
       "2  -0.043303       1.172737        0.168344         -1.079298   \n",
       "3  -0.941502      -2.106558        1.065556          1.054726   \n",
       "4   1.347277       0.358261        0.854859         -0.982297   \n",
       "5   0.070906      -0.027685        1.771524         -0.109287   \n",
       "\n",
       "   fact_cwsm_class  gfs_total_clouds_cover_low_next  topography_bathymetry  \\\n",
       "1         0.117478                        -0.506114              -2.285486   \n",
       "2         0.117478                        -0.568584              -0.476893   \n",
       "3         0.117478                        -0.537349              -0.598128   \n",
       "4         0.117478                         1.961444               2.152524   \n",
       "5         1.352347                         2.023914              -0.192685   \n",
       "\n",
       "   sun_elevation  climate_temperature  climate_pressure  ...  \\\n",
       "1       0.896105            -0.558213          0.789094  ...   \n",
       "2      -1.500677            -0.897923          0.494443  ...   \n",
       "3       0.986984             0.910725          0.730870  ...   \n",
       "4      -0.559092            -1.329605         -2.825585  ...   \n",
       "5       0.929066            -0.325355          0.072850  ...   \n",
       "\n",
       "   gfs_2m_dewpoint_next  gfs_total_clouds_cover_low_grad         climate  \\\n",
       "1             -0.529164                         0.113340        tropical   \n",
       "2             -0.668759                         0.001706  mild temperate   \n",
       "3              1.308924                        -0.054111             dry   \n",
       "4             -0.828569                        -0.668098  mild temperate   \n",
       "5              0.356428                        -0.835550  mild temperate   \n",
       "\n",
       "   cluster_1  cluster_1_label  cluster_2  cluster_2_label  actual_climate_dry  \\\n",
       "1          2         tropical          2   mild temperate                   0   \n",
       "2          2         tropical         17   mild temperate                   0   \n",
       "3          1              dry         12         tropical                   1   \n",
       "4          2         tropical         19   mild temperate                   0   \n",
       "5          0   mild temperate         11   mild temperate                   0   \n",
       "\n",
       "   actual_climate_mild temperate  actual_climate_tropical  \n",
       "1                              0                        1  \n",
       "2                              1                        0  \n",
       "3                              0                        0  \n",
       "4                              1                        0  \n",
       "5                              1                        0  \n",
       "\n",
       "[5 rows x 136 columns]"
      ]
     },
     "execution_count": 26,
     "metadata": {},
     "output_type": "execute_result"
    }
   ],
   "source": [
    "# trying losgistic classification to check accuracy and for that \n",
    "# computing the actual_climate to determine through logistic classification\n",
    "dummies = pd.get_dummies(df['climate'],prefix='actual_climate')\n",
    "df = pd.concat([df,dummies],axis=1)\n",
    "df.head()"
   ]
  },
  {
   "cell_type": "code",
   "execution_count": 27,
   "metadata": {
    "execution": {
     "iopub.execute_input": "2022-12-15T19:16:58.628287Z",
     "iopub.status.busy": "2022-12-15T19:16:58.627817Z",
     "iopub.status.idle": "2022-12-15T19:17:03.069940Z",
     "shell.execute_reply": "2022-12-15T19:17:03.068387Z",
     "shell.execute_reply.started": "2022-12-15T19:16:58.628248Z"
    }
   },
   "outputs": [
    {
     "data": {
      "text/plain": [
       "{'mild temperate': LogisticRegression(),\n",
       " 'dry': LogisticRegression(),\n",
       " 'tropical': LogisticRegression()}"
      ]
     },
     "execution_count": 27,
     "metadata": {},
     "output_type": "execute_result"
    }
   ],
   "source": [
    "# dividing in 3 models as per the algorithm\n",
    "classifiers = ['mild temperate','dry','tropical']\n",
    "models = {}\n",
    "for mdl_idx in classifiers:\n",
    "    lgr_model = LogisticRegression()\n",
    "    lgr_model.fit(df.iloc[:,0:128],df['actual_climate_{}'.format(mdl_idx)])\n",
    "    models[mdl_idx]=lgr_model\n",
    "models"
   ]
  },
  {
   "cell_type": "code",
   "execution_count": 28,
   "metadata": {
    "execution": {
     "iopub.execute_input": "2022-12-15T19:17:06.149882Z",
     "iopub.status.busy": "2022-12-15T19:17:06.149368Z",
     "iopub.status.idle": "2022-12-15T19:17:06.165668Z",
     "shell.execute_reply": "2022-12-15T19:17:06.164085Z",
     "shell.execute_reply.started": "2022-12-15T19:17:06.149844Z"
    }
   },
   "outputs": [
    {
     "data": {
      "text/plain": [
       "{'mild temperate': array([[ 0.04808549,  0.27374257, -0.09603292,  0.14163082, -0.03278461,\n",
       "          0.09677927,  0.09370628,  0.10012696, -0.79330859, -0.38964003,\n",
       "          0.20112923, -0.03113323,  0.08690957,  0.60706578,  0.61697206,\n",
       "          0.75557833, -0.10225415, -0.33277077,  0.3583739 ,  0.91791525,\n",
       "          0.43468755, -0.41714164, -0.10823053,  0.0436208 ,  0.14994332,\n",
       "          0.04368587, -0.72215875, -0.16500799,  0.12464575,  0.00720075,\n",
       "         -0.00762856,  0.00717609, -0.01664996, -0.20836633, -0.06517577,\n",
       "         -0.01166496,  0.21128566,  0.2474651 ,  0.15422111,  0.09169442,\n",
       "         -0.30401153, -0.10052636, -0.00829195, -0.04315667,  0.0558567 ,\n",
       "         -0.16821948, -0.26879521,  1.16921859, -0.56489759,  1.01353836,\n",
       "         -0.44886678, -0.44623319, -0.00162355,  0.04380267, -0.08334372,\n",
       "          0.04764809,  0.03661857,  0.00802489,  0.59411222,  0.03243205,\n",
       "         -0.02974841, -0.01132442, -0.02838306, -0.07374387, -0.01357429,\n",
       "         -0.52343736,  0.00935787,  0.98545183,  0.04118263, -0.00206165,\n",
       "          0.02272951,  0.81399771,  0.13508182, -0.10121229,  0.26479274,\n",
       "          0.14056557,  0.09651558,  0.07021373, -0.29901175, -0.15821086,\n",
       "         -0.05255484,  0.15584251, -0.29489193,  0.19725382,  0.57493568,\n",
       "          0.00132235, -0.45546572,  0.16804019,  0.06282336, -0.33562585,\n",
       "         -0.31732312, -0.04981708,  0.02708545, -0.36818299, -0.18279848,\n",
       "         -0.38560852, -0.42636346,  0.08005397, -0.09725025,  0.04766623,\n",
       "          0.05137609, -0.09550427,  0.04524662, -0.2254207 ,  0.04146688,\n",
       "         -0.00269351, -0.01291312,  0.35293845,  0.03061555, -0.06157166,\n",
       "          0.04645092,  0.01728929, -0.08858013,  0.09790276,  0.        ,\n",
       "         -0.00269351, -0.03547949,  0.03970119,  0.12486221, -0.02443967,\n",
       "          0.0044874 , -0.01172308, -0.00891875,  0.01066001,  0.00831226,\n",
       "          0.03852358,  0.55490485,  0.01583282]]),\n",
       " 'dry': array([[-4.23110638e-02, -1.96787743e-01, -3.00908308e-02,\n",
       "         -1.39079029e-01, -7.03473260e-02, -3.14152238e-02,\n",
       "          5.28129917e-02, -7.54994361e-02,  4.96191635e-01,\n",
       "          3.52071768e-01,  1.14850065e-01,  8.67280767e-03,\n",
       "         -8.01638412e-02, -7.07678112e-01, -7.11067886e-01,\n",
       "         -6.22449580e-01,  3.57589127e-01,  5.54579841e-01,\n",
       "         -2.21771375e-01, -9.18533166e-01, -3.91148160e-01,\n",
       "          3.13419578e-01,  8.52354836e-02, -1.16311513e-01,\n",
       "         -1.43876392e-01, -9.21368329e-02,  6.65067299e-01,\n",
       "         -1.61604807e-02, -2.25914734e-01,  1.50565085e-03,\n",
       "          3.12415649e-03, -1.18650016e-02, -6.55547439e-03,\n",
       "          1.89822334e-01,  4.32847363e-02,  4.34397296e-01,\n",
       "         -1.65200799e-01, -2.48395290e-01, -7.28164651e-02,\n",
       "         -2.09000316e-01,  3.42123501e-01,  3.46816472e-02,\n",
       "         -5.92530174e-03,  1.62500782e-01, -8.14844485e-03,\n",
       "          1.78326038e-01,  2.37380666e-01, -2.53134696e-01,\n",
       "          5.74738320e-01, -8.79533443e-01,  5.67120512e-01,\n",
       "          8.29882168e-02, -3.47714719e-01,  8.55163397e-02,\n",
       "          5.85603007e-02,  2.86616764e-03, -5.00317287e-02,\n",
       "         -4.97961923e-02, -2.58312733e-01,  7.30207490e-03,\n",
       "          3.47949052e-02,  1.31256361e-05,  3.41716003e-02,\n",
       "          2.74577438e-02, -2.04319022e-01, -1.64123547e-02,\n",
       "         -6.55038090e-02, -8.60669910e-01, -9.43260335e-02,\n",
       "          5.64831717e-02, -5.77853169e-03, -6.78034628e-02,\n",
       "         -1.47934522e-01,  2.21431966e-01, -1.78704020e-01,\n",
       "          7.25290268e-02, -1.54809780e-01, -4.06625855e-01,\n",
       "          1.30931242e-01, -1.18341664e-01,  1.88424575e-01,\n",
       "         -1.61320263e-01, -3.81200322e-02, -1.50180051e-02,\n",
       "          1.83198651e-01,  4.64571344e-01,  6.41402489e-01,\n",
       "         -5.21214008e-01, -6.48345228e-02,  4.64686106e-01,\n",
       "          4.27948642e-01,  1.32652324e-02,  1.57552951e-01,\n",
       "          2.37423951e-01,  2.11539823e-01,  3.70460291e-01,\n",
       "          3.81824372e-01, -2.16844669e-02, -2.89888386e-02,\n",
       "          1.01822730e-02,  2.77136462e-02, -9.85999673e-02,\n",
       "         -1.05677188e-01,  4.07364483e-01, -9.82189671e-02,\n",
       "         -5.49033540e-02, -3.84551152e-02, -1.72518412e-01,\n",
       "         -1.08902658e-01,  9.80900973e-02, -1.52913656e-03,\n",
       "         -4.95745306e-02,  7.26799389e-02, -6.00417013e-02,\n",
       "          0.00000000e+00, -5.49033540e-02,  2.49339102e-02,\n",
       "         -5.12289267e-02, -2.24029197e-01,  1.30757079e-02,\n",
       "          2.73635649e-03,  2.33787516e-03,  3.34729100e-03,\n",
       "         -3.28891308e-02, -1.57321182e-02, -5.09617471e-02,\n",
       "         -3.45646849e-01, -2.20716639e-02]]),\n",
       " 'tropical': array([[-3.29045883e-01, -4.62826028e-01,  2.29194719e-01,\n",
       "          2.33217357e-01,  1.94285144e-01, -7.13473480e-02,\n",
       "         -2.81733543e-01, -5.56273073e-02,  9.68685904e-01,\n",
       "          8.84019615e-02, -5.52980267e-01, -1.65066648e-01,\n",
       "         -3.48746356e-01,  8.59214802e-01,  9.09976163e-01,\n",
       "          5.22779513e-01, -9.62623420e-01, -1.22531994e+00,\n",
       "          1.07479553e+00,  1.12659113e+00,  3.31201518e-02,\n",
       "         -5.81280773e-01, -3.25796782e-02,  1.99132558e-01,\n",
       "          1.27206149e-01, -5.30167607e-02, -9.41807588e-01,\n",
       "          2.36247314e-01,  6.42537134e-03, -1.44493217e+00,\n",
       "         -1.46815001e-01, -6.17030349e-03,  3.13976477e-02,\n",
       "          2.79656335e-03,  1.12424733e-01, -4.66889170e-01,\n",
       "         -2.31308061e-01,  1.23413388e-01, -3.91348978e-01,\n",
       "          3.57097504e-01, -2.79064910e-01,  4.05384909e-02,\n",
       "         -1.21409654e-03, -1.85789304e-01, -9.52216053e-03,\n",
       "          1.52758361e-01,  1.27080391e-01, -3.31400774e+00,\n",
       "          8.15346003e-01,  2.38627479e-01, -6.52910880e-01,\n",
       "          9.56208761e-01,  1.12614503e+00, -3.96293158e-02,\n",
       "         -2.59508153e-02,  1.56138355e-01,  5.98906808e-03,\n",
       "          8.31201375e-02, -2.74764068e-01, -1.03429186e-01,\n",
       "          1.07950284e-02, -5.95195974e-02, -7.47851521e-03,\n",
       "         -1.44746407e-01, -8.73064355e-02, -1.81670636e-01,\n",
       "          7.40973042e-02, -6.88465856e-01,  1.92232147e-01,\n",
       "         -1.22641318e-01, -1.12188797e-01, -1.85289184e+00,\n",
       "         -1.31135344e+00,  1.86283211e-02, -7.68905572e-01,\n",
       "         -1.96844540e-01, -8.65714558e-03,  3.00195798e-01,\n",
       "         -2.49307606e-02, -2.12989115e-01, -4.17133121e-01,\n",
       "         -5.32080144e-01,  6.47148347e-01, -2.16141673e-01,\n",
       "         -8.77170019e-01, -1.09161849e+00, -2.73254967e-01,\n",
       "          5.43917240e-01, -1.28829989e-01, -4.80311270e-02,\n",
       "          2.41831595e-02, -3.48531187e-01, -1.38819367e+00,\n",
       "          7.47420843e-01, -2.46231017e-02, -7.85746762e-01,\n",
       "          4.28521111e-01, -1.64670296e-01, -2.95484001e-02,\n",
       "         -6.70738403e-02, -3.89971861e-02,  2.55826432e-01,\n",
       "          8.09591589e-02, -4.65797255e-01, -1.00441522e-01,\n",
       "          3.15605980e-01,  3.38788286e-01, -5.17264099e-01,\n",
       "          3.35089690e-01, -8.77335909e-02, -1.92018750e-01,\n",
       "          1.55098885e-02,  1.31463914e-03, -2.01687008e-02,\n",
       "          0.00000000e+00,  3.15605980e-01,  2.65322719e-02,\n",
       "         -6.07538533e-03,  5.54397024e-03,  1.22160036e-01,\n",
       "         -1.37326004e+00, -2.94999861e-02, -1.47341597e-01,\n",
       "         -1.44413950e-02, -7.83451766e-03,  1.93589807e-02,\n",
       "          1.21185761e-01, -7.37899461e-03]])}"
      ]
     },
     "execution_count": 28,
     "metadata": {},
     "output_type": "execute_result"
    }
   ],
   "source": [
    "# printing coefficients\n",
    "coefs = {}\n",
    "for mdl_k, mdl_v in models.items():\n",
    "    coefs[mdl_k]=mdl_v.coef_\n",
    "coefs"
   ]
  },
  {
   "cell_type": "code",
   "execution_count": 29,
   "metadata": {
    "execution": {
     "iopub.execute_input": "2022-12-15T19:17:13.283180Z",
     "iopub.status.busy": "2022-12-15T19:17:13.282759Z",
     "iopub.status.idle": "2022-12-15T19:17:13.534403Z",
     "shell.execute_reply": "2022-12-15T19:17:13.532550Z",
     "shell.execute_reply.started": "2022-12-15T19:17:13.283147Z"
    }
   },
   "outputs": [
    {
     "data": {
      "text/html": [
       "<div>\n",
       "<style scoped>\n",
       "    .dataframe tbody tr th:only-of-type {\n",
       "        vertical-align: middle;\n",
       "    }\n",
       "\n",
       "    .dataframe tbody tr th {\n",
       "        vertical-align: top;\n",
       "    }\n",
       "\n",
       "    .dataframe thead th {\n",
       "        text-align: right;\n",
       "    }\n",
       "</style>\n",
       "<table border=\"1\" class=\"dataframe\">\n",
       "  <thead>\n",
       "    <tr style=\"text-align: right;\">\n",
       "      <th></th>\n",
       "      <th>mild temperate</th>\n",
       "      <th>dry</th>\n",
       "      <th>tropical</th>\n",
       "    </tr>\n",
       "  </thead>\n",
       "  <tbody>\n",
       "    <tr>\n",
       "      <th>0</th>\n",
       "      <td>0.928450</td>\n",
       "      <td>0.070930</td>\n",
       "      <td>4.512182e-03</td>\n",
       "    </tr>\n",
       "    <tr>\n",
       "      <th>1</th>\n",
       "      <td>0.743693</td>\n",
       "      <td>0.062098</td>\n",
       "      <td>1.993230e-02</td>\n",
       "    </tr>\n",
       "    <tr>\n",
       "      <th>2</th>\n",
       "      <td>0.486773</td>\n",
       "      <td>0.159952</td>\n",
       "      <td>3.410087e-01</td>\n",
       "    </tr>\n",
       "    <tr>\n",
       "      <th>3</th>\n",
       "      <td>0.660634</td>\n",
       "      <td>0.334772</td>\n",
       "      <td>6.463090e-08</td>\n",
       "    </tr>\n",
       "    <tr>\n",
       "      <th>4</th>\n",
       "      <td>0.786304</td>\n",
       "      <td>0.059484</td>\n",
       "      <td>4.043813e-02</td>\n",
       "    </tr>\n",
       "  </tbody>\n",
       "</table>\n",
       "</div>"
      ],
      "text/plain": [
       "   mild temperate       dry      tropical\n",
       "0        0.928450  0.070930  4.512182e-03\n",
       "1        0.743693  0.062098  1.993230e-02\n",
       "2        0.486773  0.159952  3.410087e-01\n",
       "3        0.660634  0.334772  6.463090e-08\n",
       "4        0.786304  0.059484  4.043813e-02"
      ]
     },
     "execution_count": 29,
     "metadata": {},
     "output_type": "execute_result"
    }
   ],
   "source": [
    "# printing probablity of the data to be in the class\n",
    "lgr_probabilities = pd.DataFrame(columns=classifiers)\n",
    "for mdl_key, mdl_model in models.items():\n",
    "    lgr_probabilities[mdl_key] = mdl_model.predict_proba(df.iloc[:,0:128])[:,1]\n",
    "lgr_probabilities.head()"
   ]
  },
  {
   "cell_type": "code",
   "execution_count": 30,
   "metadata": {
    "execution": {
     "iopub.execute_input": "2022-12-15T19:17:17.604366Z",
     "iopub.status.busy": "2022-12-15T19:17:17.603314Z",
     "iopub.status.idle": "2022-12-15T19:17:17.715357Z",
     "shell.execute_reply": "2022-12-15T19:17:17.714133Z",
     "shell.execute_reply.started": "2022-12-15T19:17:17.604312Z"
    }
   },
   "outputs": [
    {
     "data": {
      "text/html": [
       "<div>\n",
       "<style scoped>\n",
       "    .dataframe tbody tr th:only-of-type {\n",
       "        vertical-align: middle;\n",
       "    }\n",
       "\n",
       "    .dataframe tbody tr th {\n",
       "        vertical-align: top;\n",
       "    }\n",
       "\n",
       "    .dataframe thead th {\n",
       "        text-align: right;\n",
       "    }\n",
       "</style>\n",
       "<table border=\"1\" class=\"dataframe\">\n",
       "  <thead>\n",
       "    <tr style=\"text-align: right;\">\n",
       "      <th>col_0</th>\n",
       "      <th>dry</th>\n",
       "      <th>mild temperate</th>\n",
       "      <th>tropical</th>\n",
       "    </tr>\n",
       "    <tr>\n",
       "      <th>climate</th>\n",
       "      <th></th>\n",
       "      <th></th>\n",
       "      <th></th>\n",
       "    </tr>\n",
       "  </thead>\n",
       "  <tbody>\n",
       "    <tr>\n",
       "      <th>dry</th>\n",
       "      <td>1568</td>\n",
       "      <td>7825</td>\n",
       "      <td>1567</td>\n",
       "    </tr>\n",
       "    <tr>\n",
       "      <th>mild temperate</th>\n",
       "      <td>4910</td>\n",
       "      <td>22816</td>\n",
       "      <td>4672</td>\n",
       "    </tr>\n",
       "    <tr>\n",
       "      <th>tropical</th>\n",
       "      <td>978</td>\n",
       "      <td>4677</td>\n",
       "      <td>986</td>\n",
       "    </tr>\n",
       "  </tbody>\n",
       "</table>\n",
       "</div>"
      ],
      "text/plain": [
       "col_0            dry  mild temperate  tropical\n",
       "climate                                       \n",
       "dry             1568            7825      1567\n",
       "mild temperate  4910           22816      4672\n",
       "tropical         978            4677       986"
      ]
     },
     "execution_count": 30,
     "metadata": {},
     "output_type": "execute_result"
    }
   ],
   "source": [
    "predicted_climate = lgr_probabilities.idxmax(axis=1)\n",
    "pred_spec = lgr_probabilities.max(axis=1)\n",
    "pd.crosstab(df['climate'],predicted_climate)"
   ]
  },
  {
   "cell_type": "code",
   "execution_count": 31,
   "metadata": {
    "execution": {
     "iopub.execute_input": "2022-12-15T19:17:26.469653Z",
     "iopub.status.busy": "2022-12-15T19:17:26.468435Z",
     "iopub.status.idle": "2022-12-15T19:17:26.476837Z",
     "shell.execute_reply": "2022-12-15T19:17:26.475284Z",
     "shell.execute_reply.started": "2022-12-15T19:17:26.469589Z"
    }
   },
   "outputs": [],
   "source": [
    "df.index = df.index = df.index - 1"
   ]
  },
  {
   "cell_type": "code",
   "execution_count": 32,
   "metadata": {
    "execution": {
     "iopub.execute_input": "2022-12-15T19:17:33.653554Z",
     "iopub.status.busy": "2022-12-15T19:17:33.652824Z",
     "iopub.status.idle": "2022-12-15T19:17:33.771005Z",
     "shell.execute_reply": "2022-12-15T19:17:33.769411Z",
     "shell.execute_reply.started": "2022-12-15T19:17:33.653489Z"
    }
   },
   "outputs": [
    {
     "name": "stdout",
     "output_type": "stream",
     "text": [
      "Logistic Regression Accuracy - 80.8560%\n"
     ]
    }
   ],
   "source": [
    "predicted_climate.sort_index(inplace=True)\n",
    "lgr_accuracy = len(df[df['climate']==predicted_climate].sort_index().sort_index(axis=0))/len(df)\n",
    "print('Logistic Regression Accuracy - {0:.4f}%'.format(lgr_accuracy*100));"
   ]
  },
  {
   "cell_type": "code",
   "execution_count": null,
   "metadata": {},
   "outputs": [],
   "source": []
  }
 ],
 "metadata": {
  "kernelspec": {
   "display_name": "Python 3 (ipykernel)",
   "language": "python",
   "name": "python3"
  },
  "language_info": {
   "codemirror_mode": {
    "name": "ipython",
    "version": 3
   },
   "file_extension": ".py",
   "mimetype": "text/x-python",
   "name": "python",
   "nbconvert_exporter": "python",
   "pygments_lexer": "ipython3",
   "version": "3.10.7"
  }
 },
 "nbformat": 4,
 "nbformat_minor": 4
}
